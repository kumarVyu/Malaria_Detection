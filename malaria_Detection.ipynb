{
  "cells": [
    {
      "cell_type": "markdown",

        "colab_type": "text"
      },
      "source": [
        "<a href=\"https://colab.research.google.com/github/kumarVyu/Malaria_Detection/blob/main/malaria_Detection.ipynb\" target=\"_parent\"><img src=\"https://colab.research.google.com/assets/colab-badge.svg\" alt=\"Open In Colab\"/></a>"
      ]
    },
    {
      "cell_type": "code",
      "execution_count": 1,
      "id": "e0aba97d",

      },
      "outputs": [],
      "source": [
        "import tensorflow as tf\n",
        "import numpy as np\n",
        "import matplotlib.pyplot as plt\n",
        "import tensorflow_datasets as tfds\n",
        "from keras import layers, losses, optimizers, models"
      ]
    },
    {
      "cell_type": "code",
      "execution_count": 2,
      "id": "3c33aba5",

        "colab": {
          "base_uri": "https://localhost:8080/",
          "height": 168,
          "referenced_widgets": [
            "59c5a6eac1a940208dc8d9e15c5954be",
            "d05fa189bf5f4aa0a1e2f176b0713b96",
            "caf1ef0af52f42cda38c592e2ddb30e3",
            "b893762a71c04236a03b74fa6b5fef6f",
            "80b91d561d864aafb4c65142022fc75d",
            "e31c72f7470144939ba67fbd2ff23593",
            "9a61e5b60e8a407bb6cdeda9f3d9c791",
            "87446e901a754f3d8e61fe17686c109f",
            "225a3001837447f9b50e1724034d456a",
            "217cced1d456486b9bf4cd4297ef8e68",
            "a8a7bc3a782142f984e70d1198d824a4",
            "914fdfab25054110bcc82ea80d8c8fb3",
            "8e9cea595dca420686007e9b5f321ce7",
            "b78339cbd49f4334b70f53a8c5fa7739",
            "664d6cf4efbe42019e4ce33dade4b018",
            "8e60ce6103954b5abe1968b1172bdbc0",
            "cf3327738cc34e58ab8d7d06bca060c5",
            "167773f3c78c4b39b3e4c362ae6216e5",
            "36e5ebbb5ef64e6ca534ca7264b808df",
            "0605fda3dda04f1a8fc0ebbb908b053a",
            "de082617db1748e5a2f70993b8f87170",
            "3af23f4a0f0047a18758a87f281975bd",
            "90b9b516e5d34cdaa5faa81d612cc237",
            "9ca628178aa843c7943b9369f03f4227",
            "2e461b9837f04e56b0b0a476888378ef",
            "fa2328bdfb284cbea0510fe6324f82d7",
            "268426bf51c046fdb8e87a9aa060d7f7",
            "ed83741a372a4d0cacf72a328971c791",
            "d7b17080a5994fd98ea19ae5cb131c3d",
            "00f57caac9274671a36fb56ebbacde1d",
            "cdc340163da04b98bdcd50ce3da4b66a",
            "30f05352ebf940589d42e31d977936d1",
            "84047c9b7ae24c4faf67925397de0114",
            "85097f91bed84a13a301c4ab7a56555e",
            "e8d4be3dfacd40eea8d9b94488255e9c",
            "5ee3b887efa64e16b04c9e7c58059391",
            "5111ed362b8642bc982f5295abcfc0b0",
            "b2d8984c206045839df3c675d38d5d9b",
            "7812df33ac4c4e3299f89e1952c4a949",
            "f8ea3294e6f34c65a39dfbc7f7a650c0",
            "78110134d12d49d383b90e3ee96ec036",
            "4f5df91346f24d3698270b9b60005137",
            "8340876caa754bf188a65767a3a744fb",
            "2a2ee8bcac4544668d93c3065180b324",
            "6393f8a17cb3479cbac57c99f2307450",
            "6a9c6b017e85411db051457ab56ef333",
            "40861bd9cc104bc9a5148ba10157b2e1",
            "a4cd1ffac45842cd96f7048c1f4892a2",
            "5ad03ec55eed42b5b7bf7548e8f458b3",
            "c8097d3b4af64fcc98863e655a6ab718",
            "2305287d29e648f5b7d2009d89ead059",
            "eee165db92ca48e08286e6452eb2e0d8",
            "54744e060e4542ac8c96ed29d1ec0a99",
            "b031f65aea6142e5bc0c76779e05caba",
            "a05fd0403ac542c89d7bd6263e0804b6",
            "67d648c07a6e47e9ade911ff7edb5049",
            "77e13a1a4ebe4fbd953b5c3f8a2afc33",
            "b496b4daab944d1ab188ceea16dcbb35",
            "ca67e501070943a98be841819af60fde",
            "7b128d30db104655b5533918f4e8811f",
            "4f88af595d3240389a98f58235986c71",
            "149fcc9948e545adb73a5b35c5300a56",
            "7a598df83c7d4da6857c3ed961ea9475",
            "adb25bb2ba2f44f98027dd895100f988",
            "0b2b2dab4cbe4052a317f300cbb94fe8",
            "591202adcb114ddfa540f69ba0a2cab6"
          ]
        },
        "outputId": "f95a43d8-839b-4de5-deb6-23169aaa386c"
      },
      "outputs": [
        {
          "output_type": "stream",
          "name": "stderr",
          "text": [
            "WARNING:absl:Variant folder /root/tensorflow_datasets/malaria/1.0.0 has no dataset_info.json\n"
          ]
        },
        {
          "output_type": "stream",
          "name": "stdout",
          "text": [
            "Downloading and preparing dataset Unknown size (download: Unknown size, generated: Unknown size, total: Unknown size) to /root/tensorflow_datasets/malaria/1.0.0...\n"
          ]
        },
        {
          "output_type": "display_data",
          "data": {
            "text/plain": [
              "Dl Completed...: 0 url [00:00, ? url/s]"
            ],
            "application/vnd.jupyter.widget-view+json": {
              "version_major": 2,
              "version_minor": 0,
              "model_id": "59c5a6eac1a940208dc8d9e15c5954be"
            }
          },
          "metadata": {}
        },
        {
          "output_type": "display_data",
          "data": {
            "text/plain": [
              "Dl Size...: 0 MiB [00:00, ? MiB/s]"
            ],
            "application/vnd.jupyter.widget-view+json": {
              "version_major": 2,
              "version_minor": 0,
              "model_id": "914fdfab25054110bcc82ea80d8c8fb3"
            }
          },
          "metadata": {}
        },
        {
          "output_type": "display_data",
          "data": {
            "text/plain": [
              "Extraction completed...: 0 file [00:00, ? file/s]"
            ],
            "application/vnd.jupyter.widget-view+json": {
              "version_major": 2,
              "version_minor": 0,
              "model_id": "90b9b516e5d34cdaa5faa81d612cc237"
            }
          },
          "metadata": {}
        },
        {
          "output_type": "display_data",
          "data": {
            "text/plain": [
              "Generating splits...:   0%|          | 0/1 [00:00<?, ? splits/s]"
            ],
            "application/vnd.jupyter.widget-view+json": {
              "version_major": 2,
              "version_minor": 0,
              "model_id": "85097f91bed84a13a301c4ab7a56555e"
            }
          },
          "metadata": {}
        },
        {
          "output_type": "display_data",
          "data": {
            "text/plain": [
              "Generating train examples...: 0 examples [00:00, ? examples/s]"
            ],
            "application/vnd.jupyter.widget-view+json": {
              "version_major": 2,
              "version_minor": 0,
              "model_id": "6393f8a17cb3479cbac57c99f2307450"
            }
          },
          "metadata": {}
        },
        {
          "output_type": "display_data",
          "data": {
            "text/plain": [
              "Shuffling /root/tensorflow_datasets/malaria/incomplete.IZF5VI_1.0.0/malaria-train.tfrecord*...:   0%|         …"
            ],
            "application/vnd.jupyter.widget-view+json": {
              "version_major": 2,
              "version_minor": 0,
              "model_id": "67d648c07a6e47e9ade911ff7edb5049"
            }
          },
          "metadata": {}
        },
        {
          "output_type": "stream",
          "name": "stdout",
          "text": [
            "Dataset malaria downloaded and prepared to /root/tensorflow_datasets/malaria/1.0.0. Subsequent calls will reuse this data.\n"
          ]
        }
      ],
      "source": [
        "dataset, dataset_info= tfds.load(\"malaria\", with_info=True,as_supervised =True, shuffle_files = True,split= 'train')"
      ]
    },
    {
      "cell_type": "code",
      "execution_count": 3,
      "id": "67d97da4",
      "metadata": {
        "colab": {
          "base_uri": "https://localhost:8080/"
        },
        "id": "67d97da4",
        "outputId": "264dc05c-977c-4671-f86f-2219e88f82fb"
      },
      "outputs": [
        {
          "output_type": "execute_result",
          "data": {
            "text/plain": [
              "<_PrefetchDataset element_spec=(TensorSpec(shape=(None, None, 3), dtype=tf.uint8, name=None), TensorSpec(shape=(), dtype=tf.int64, name=None))>"
            ]
          },
          "metadata": {},
          "execution_count": 3
        }
      ],
      "source": [
        "dataset"
      ]
    },
    {
      "cell_type": "code",
      "execution_count": 4,
      "id": "7c522350",
      "metadata": {
        "id": "7c522350"
      },
      "outputs": [],
      "source": [
        "def splits (dataset, TRAIN_RATIO, VAL_RATIO, TEST_RATIO):\n",
        "    DATASET_SIZE =len(dataset)\n",
        "\n",
        "    train_dataset = dataset.take(int(TRAIN_RATIO*DATASET_SIZE))\n",
        "\n",
        "    val_test_dataset = dataset.skip(int(TRAIN_RATIO*DATASET_SIZE))\n",
        "    val_dataset = val_test_dataset.take(int(VAL_RATIO*DATASET_SIZE))\n",
        "\n",
        "    test_dataset = val_test_dataset.skip(int(TEST_RATIO*DATASET_SIZE))\n",
        "    return train_dataset, val_dataset, test_dataset"
      ]
    },
    {
      "cell_type": "code",
      "execution_count": 5,
      "id": "c4adfd13",
      "metadata": {
        "colab": {
          "base_uri": "https://localhost:8080/"
        },
        "id": "c4adfd13",
        "outputId": "4ff86699-080f-466c-87ea-c1e450a0d4a3"
      },
      "outputs": [
        {
          "output_type": "stream",
          "name": "stdout",
          "text": [
            "[(array([[[0, 0, 0],\n",
            "        [0, 0, 0],\n",
            "        [0, 0, 0],\n",
            "        ...,\n",
            "        [0, 0, 0],\n",
            "        [0, 0, 0],\n",
            "        [0, 0, 0]],\n",
            "\n",
            "       [[0, 0, 0],\n",
            "        [0, 0, 0],\n",
            "        [0, 0, 0],\n",
            "        ...,\n",
            "        [0, 0, 0],\n",
            "        [0, 0, 0],\n",
            "        [0, 0, 0]],\n",
            "\n",
            "       [[0, 0, 0],\n",
            "        [0, 0, 0],\n",
            "        [0, 0, 0],\n",
            "        ...,\n",
            "        [0, 0, 0],\n",
            "        [0, 0, 0],\n",
            "        [0, 0, 0]],\n",
            "\n",
            "       ...,\n",
            "\n",
            "       [[0, 0, 0],\n",
            "        [0, 0, 0],\n",
            "        [0, 0, 0],\n",
            "        ...,\n",
            "        [0, 0, 0],\n",
            "        [0, 0, 0],\n",
            "        [0, 0, 0]],\n",
            "\n",
            "       [[0, 0, 0],\n",
            "        [0, 0, 0],\n",
            "        [0, 0, 0],\n",
            "        ...,\n",
            "        [0, 0, 0],\n",
            "        [0, 0, 0],\n",
            "        [0, 0, 0]],\n",
            "\n",
            "       [[0, 0, 0],\n",
            "        [0, 0, 0],\n",
            "        [0, 0, 0],\n",
            "        ...,\n",
            "        [0, 0, 0],\n",
            "        [0, 0, 0],\n",
            "        [0, 0, 0]]], dtype=uint8), np.int64(1))] [(array([[[0, 0, 0],\n",
            "        [0, 0, 0],\n",
            "        [0, 0, 0],\n",
            "        ...,\n",
            "        [0, 0, 0],\n",
            "        [0, 0, 0],\n",
            "        [0, 0, 0]],\n",
            "\n",
            "       [[0, 0, 0],\n",
            "        [0, 0, 0],\n",
            "        [0, 0, 0],\n",
            "        ...,\n",
            "        [0, 0, 0],\n",
            "        [0, 0, 0],\n",
            "        [0, 0, 0]],\n",
            "\n",
            "       [[0, 0, 0],\n",
            "        [0, 0, 0],\n",
            "        [0, 0, 0],\n",
            "        ...,\n",
            "        [0, 0, 0],\n",
            "        [0, 0, 0],\n",
            "        [0, 0, 0]],\n",
            "\n",
            "       ...,\n",
            "\n",
            "       [[0, 0, 0],\n",
            "        [0, 0, 0],\n",
            "        [0, 0, 0],\n",
            "        ...,\n",
            "        [0, 0, 0],\n",
            "        [0, 0, 0],\n",
            "        [0, 0, 0]],\n",
            "\n",
            "       [[0, 0, 0],\n",
            "        [0, 0, 0],\n",
            "        [0, 0, 0],\n",
            "        ...,\n",
            "        [0, 0, 0],\n",
            "        [0, 0, 0],\n",
            "        [0, 0, 0]],\n",
            "\n",
            "       [[0, 0, 0],\n",
            "        [0, 0, 0],\n",
            "        [0, 0, 0],\n",
            "        ...,\n",
            "        [0, 0, 0],\n",
            "        [0, 0, 0],\n",
            "        [0, 0, 0]]], dtype=uint8), np.int64(1))] [(array([[[0, 0, 0],\n",
            "        [0, 0, 0],\n",
            "        [0, 0, 0],\n",
            "        ...,\n",
            "        [0, 0, 0],\n",
            "        [0, 0, 0],\n",
            "        [0, 0, 0]],\n",
            "\n",
            "       [[0, 0, 0],\n",
            "        [0, 0, 0],\n",
            "        [0, 0, 0],\n",
            "        ...,\n",
            "        [0, 0, 0],\n",
            "        [0, 0, 0],\n",
            "        [0, 0, 0]],\n",
            "\n",
            "       [[0, 0, 0],\n",
            "        [0, 0, 0],\n",
            "        [0, 0, 0],\n",
            "        ...,\n",
            "        [0, 0, 0],\n",
            "        [0, 0, 0],\n",
            "        [0, 0, 0]],\n",
            "\n",
            "       ...,\n",
            "\n",
            "       [[0, 0, 0],\n",
            "        [0, 0, 0],\n",
            "        [0, 0, 0],\n",
            "        ...,\n",
            "        [0, 0, 0],\n",
            "        [0, 0, 0],\n",
            "        [0, 0, 0]],\n",
            "\n",
            "       [[0, 0, 0],\n",
            "        [0, 0, 0],\n",
            "        [0, 0, 0],\n",
            "        ...,\n",
            "        [0, 0, 0],\n",
            "        [0, 0, 0],\n",
            "        [0, 0, 0]],\n",
            "\n",
            "       [[0, 0, 0],\n",
            "        [0, 0, 0],\n",
            "        [0, 0, 0],\n",
            "        ...,\n",
            "        [0, 0, 0],\n",
            "        [0, 0, 0],\n",
            "        [0, 0, 0]]], dtype=uint8), np.int64(1))]\n"
          ]
        }
      ],
      "source": [
        "TRAIN_RATIO = 0.8\n",
        "VAL_RATIO = 0.1\n",
        "TEST_RATIO = 0.1\n",
        "\n",
        "#dataset = tf.data.Dataset.range(10)\n",
        "train_dataset, val_dataset, test_dataset =splits(dataset, TRAIN_RATIO, VAL_RATIO, TEST_RATIO)\n",
        "print(list(train_dataset.take(1).as_numpy_iterator()),\n",
        "      list(val_dataset.take(1).as_numpy_iterator()),\n",
        "      list(test_dataset.take(1).as_numpy_iterator()))"
      ]
    },
    {
      "cell_type": "code",
      "execution_count": 6,
      "id": "fdf8b713",
      "metadata": {
        "colab": {
          "base_uri": "https://localhost:8080/",
          "height": 428
        },
        "id": "fdf8b713",
        "outputId": "232c359a-64df-4fa6-8e2d-f05c933ece63"
      },
      "outputs": [
        {
          "output_type": "display_data",
          "data": {
            "text/plain": [
              "<Figure size 640x480 with 16 Axes>"
            ],
            "image/png": "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\n"
          },
          "metadata": {}
        }
      ],
      "source": [
        "### ---->>> DATA VISUALIZATION\n",
        "\n",
        "for i, (image,label) in enumerate(train_dataset.take(16)):\n",
        "    ax = plt.subplot(4,4,i+1)\n",
        "    plt.imshow(image)\n",
        "    plt.title(dataset_info.features['label'].int2str(label))\n",
        "    plt.axis('off')"
      ]
    },
    {
      "cell_type": "code",
      "execution_count": 7,
      "id": "0cdafc48",
      "metadata": {
        "id": "0cdafc48"
      },
      "outputs": [],
      "source": [
        "IM_SIZE =224\n",
        "def resizing(image,label):\n",
        "    return tf.image.resize(image,(IM_SIZE,IM_SIZE)),label\n"
      ]
    },
    {
      "cell_type": "code",
      "execution_count": 8,
      "id": "3f2663d3",
      "metadata": {
        "id": "3f2663d3"
      },
      "outputs": [],
      "source": [
        "BATCH_SIZE =32\n",
        "\n",
        "train_dataset = train_dataset.map(resizing).shuffle(buffer_size = 8, reshuffle_each_iteration = True).batch(BATCH_SIZE).prefetch(tf.data.AUTOTUNE)\n",
        "\n",
        "val_dataset = val_dataset.map(resizing).shuffle(buffer_size = 8, reshuffle_each_iteration = True).batch(BATCH_SIZE).prefetch(tf.data.AUTOTUNE)\n",
        "\n",
        "test_dataset = test_dataset.map(resizing).shuffle(buffer_size = 8, reshuffle_each_iteration = True).batch(BATCH_SIZE).prefetch(tf.data.AUTOTUNE)"
      ]
    },
    {
      "cell_type": "code",
      "execution_count": 9,
      "id": "df3bd0b0",
      "metadata": {
        "colab": {
          "base_uri": "https://localhost:8080/",
          "height": 613
        },
        "id": "df3bd0b0",
        "outputId": "843703fb-e0ef-4b2f-de35-61eda0733cef"
      },
      "outputs": [
        {
          "output_type": "stream",
          "name": "stderr",
          "text": [
            "/usr/local/lib/python3.12/dist-packages/keras/src/layers/core/input_layer.py:27: UserWarning: Argument `input_shape` is deprecated. Use `shape` instead.\n",
            "  warnings.warn(\n"
          ]
        },
        {
          "output_type": "display_data",
          "data": {
            "text/plain": [
              "\u001b[1mModel: \"sequential\"\u001b[0m\n"
            ],
            "text/html": [
              "<pre style=\"white-space:pre;overflow-x:auto;line-height:normal;font-family:Menlo,'DejaVu Sans Mono',consolas,'Courier New',monospace\"><span style=\"font-weight: bold\">Model: \"sequential\"</span>\n",
              "</pre>\n"
            ]
          },
          "metadata": {}
        },
        {
          "output_type": "display_data",
          "data": {
            "text/plain": [
              "┏━━━━━━━━━━━━━━━━━━━━━━━━━━━━━━━━━┳━━━━━━━━━━━━━━━━━━━━━━━━┳━━━━━━━━━━━━━━━┓\n",
              "┃\u001b[1m \u001b[0m\u001b[1mLayer (type)                   \u001b[0m\u001b[1m \u001b[0m┃\u001b[1m \u001b[0m\u001b[1mOutput Shape          \u001b[0m\u001b[1m \u001b[0m┃\u001b[1m \u001b[0m\u001b[1m      Param #\u001b[0m\u001b[1m \u001b[0m┃\n",
              "┡━━━━━━━━━━━━━━━━━━━━━━━━━━━━━━━━━╇━━━━━━━━━━━━━━━━━━━━━━━━╇━━━━━━━━━━━━━━━┩\n",
              "│ conv2d (\u001b[38;5;33mConv2D\u001b[0m)                 │ (\u001b[38;5;45mNone\u001b[0m, \u001b[38;5;34m222\u001b[0m, \u001b[38;5;34m222\u001b[0m, \u001b[38;5;34m6\u001b[0m)    │           \u001b[38;5;34m168\u001b[0m │\n",
              "├─────────────────────────────────┼────────────────────────┼───────────────┤\n",
              "│ batch_normalization             │ (\u001b[38;5;45mNone\u001b[0m, \u001b[38;5;34m222\u001b[0m, \u001b[38;5;34m222\u001b[0m, \u001b[38;5;34m6\u001b[0m)    │            \u001b[38;5;34m24\u001b[0m │\n",
              "│ (\u001b[38;5;33mBatchNormalization\u001b[0m)            │                        │               │\n",
              "├─────────────────────────────────┼────────────────────────┼───────────────┤\n",
              "│ max_pooling2d (\u001b[38;5;33mMaxPooling2D\u001b[0m)    │ (\u001b[38;5;45mNone\u001b[0m, \u001b[38;5;34m111\u001b[0m, \u001b[38;5;34m111\u001b[0m, \u001b[38;5;34m6\u001b[0m)    │             \u001b[38;5;34m0\u001b[0m │\n",
              "├─────────────────────────────────┼────────────────────────┼───────────────┤\n",
              "│ conv2d_1 (\u001b[38;5;33mConv2D\u001b[0m)               │ (\u001b[38;5;45mNone\u001b[0m, \u001b[38;5;34m109\u001b[0m, \u001b[38;5;34m109\u001b[0m, \u001b[38;5;34m16\u001b[0m)   │           \u001b[38;5;34m880\u001b[0m │\n",
              "├─────────────────────────────────┼────────────────────────┼───────────────┤\n",
              "│ batch_normalization_1           │ (\u001b[38;5;45mNone\u001b[0m, \u001b[38;5;34m109\u001b[0m, \u001b[38;5;34m109\u001b[0m, \u001b[38;5;34m16\u001b[0m)   │            \u001b[38;5;34m64\u001b[0m │\n",
              "│ (\u001b[38;5;33mBatchNormalization\u001b[0m)            │                        │               │\n",
              "├─────────────────────────────────┼────────────────────────┼───────────────┤\n",
              "│ max_pooling2d_1 (\u001b[38;5;33mMaxPooling2D\u001b[0m)  │ (\u001b[38;5;45mNone\u001b[0m, \u001b[38;5;34m54\u001b[0m, \u001b[38;5;34m54\u001b[0m, \u001b[38;5;34m16\u001b[0m)     │             \u001b[38;5;34m0\u001b[0m │\n",
              "├─────────────────────────────────┼────────────────────────┼───────────────┤\n",
              "│ flatten (\u001b[38;5;33mFlatten\u001b[0m)               │ (\u001b[38;5;45mNone\u001b[0m, \u001b[38;5;34m46656\u001b[0m)          │             \u001b[38;5;34m0\u001b[0m │\n",
              "├─────────────────────────────────┼────────────────────────┼───────────────┤\n",
              "│ dense (\u001b[38;5;33mDense\u001b[0m)                   │ (\u001b[38;5;45mNone\u001b[0m, \u001b[38;5;34m100\u001b[0m)            │     \u001b[38;5;34m4,665,700\u001b[0m │\n",
              "├─────────────────────────────────┼────────────────────────┼───────────────┤\n",
              "│ batch_normalization_2           │ (\u001b[38;5;45mNone\u001b[0m, \u001b[38;5;34m100\u001b[0m)            │           \u001b[38;5;34m400\u001b[0m │\n",
              "│ (\u001b[38;5;33mBatchNormalization\u001b[0m)            │                        │               │\n",
              "├─────────────────────────────────┼────────────────────────┼───────────────┤\n",
              "│ dense_1 (\u001b[38;5;33mDense\u001b[0m)                 │ (\u001b[38;5;45mNone\u001b[0m, \u001b[38;5;34m10\u001b[0m)             │         \u001b[38;5;34m1,010\u001b[0m │\n",
              "├─────────────────────────────────┼────────────────────────┼───────────────┤\n",
              "│ batch_normalization_3           │ (\u001b[38;5;45mNone\u001b[0m, \u001b[38;5;34m10\u001b[0m)             │            \u001b[38;5;34m40\u001b[0m │\n",
              "│ (\u001b[38;5;33mBatchNormalization\u001b[0m)            │                        │               │\n",
              "├─────────────────────────────────┼────────────────────────┼───────────────┤\n",
              "│ dense_2 (\u001b[38;5;33mDense\u001b[0m)                 │ (\u001b[38;5;45mNone\u001b[0m, \u001b[38;5;34m1\u001b[0m)              │            \u001b[38;5;34m11\u001b[0m │\n",
              "└─────────────────────────────────┴────────────────────────┴───────────────┘\n"
            ],
            "text/html": [
              "<pre style=\"white-space:pre;overflow-x:auto;line-height:normal;font-family:Menlo,'DejaVu Sans Mono',consolas,'Courier New',monospace\">┏━━━━━━━━━━━━━━━━━━━━━━━━━━━━━━━━━┳━━━━━━━━━━━━━━━━━━━━━━━━┳━━━━━━━━━━━━━━━┓\n",
              "┃<span style=\"font-weight: bold\"> Layer (type)                    </span>┃<span style=\"font-weight: bold\"> Output Shape           </span>┃<span style=\"font-weight: bold\">       Param # </span>┃\n",
              "┡━━━━━━━━━━━━━━━━━━━━━━━━━━━━━━━━━╇━━━━━━━━━━━━━━━━━━━━━━━━╇━━━━━━━━━━━━━━━┩\n",
              "│ conv2d (<span style=\"color: #0087ff; text-decoration-color: #0087ff\">Conv2D</span>)                 │ (<span style=\"color: #00d7ff; text-decoration-color: #00d7ff\">None</span>, <span style=\"color: #00af00; text-decoration-color: #00af00\">222</span>, <span style=\"color: #00af00; text-decoration-color: #00af00\">222</span>, <span style=\"color: #00af00; text-decoration-color: #00af00\">6</span>)    │           <span style=\"color: #00af00; text-decoration-color: #00af00\">168</span> │\n",
              "├─────────────────────────────────┼────────────────────────┼───────────────┤\n",
              "│ batch_normalization             │ (<span style=\"color: #00d7ff; text-decoration-color: #00d7ff\">None</span>, <span style=\"color: #00af00; text-decoration-color: #00af00\">222</span>, <span style=\"color: #00af00; text-decoration-color: #00af00\">222</span>, <span style=\"color: #00af00; text-decoration-color: #00af00\">6</span>)    │            <span style=\"color: #00af00; text-decoration-color: #00af00\">24</span> │\n",
              "│ (<span style=\"color: #0087ff; text-decoration-color: #0087ff\">BatchNormalization</span>)            │                        │               │\n",
              "├─────────────────────────────────┼────────────────────────┼───────────────┤\n",
              "│ max_pooling2d (<span style=\"color: #0087ff; text-decoration-color: #0087ff\">MaxPooling2D</span>)    │ (<span style=\"color: #00d7ff; text-decoration-color: #00d7ff\">None</span>, <span style=\"color: #00af00; text-decoration-color: #00af00\">111</span>, <span style=\"color: #00af00; text-decoration-color: #00af00\">111</span>, <span style=\"color: #00af00; text-decoration-color: #00af00\">6</span>)    │             <span style=\"color: #00af00; text-decoration-color: #00af00\">0</span> │\n",
              "├─────────────────────────────────┼────────────────────────┼───────────────┤\n",
              "│ conv2d_1 (<span style=\"color: #0087ff; text-decoration-color: #0087ff\">Conv2D</span>)               │ (<span style=\"color: #00d7ff; text-decoration-color: #00d7ff\">None</span>, <span style=\"color: #00af00; text-decoration-color: #00af00\">109</span>, <span style=\"color: #00af00; text-decoration-color: #00af00\">109</span>, <span style=\"color: #00af00; text-decoration-color: #00af00\">16</span>)   │           <span style=\"color: #00af00; text-decoration-color: #00af00\">880</span> │\n",
              "├─────────────────────────────────┼────────────────────────┼───────────────┤\n",
              "│ batch_normalization_1           │ (<span style=\"color: #00d7ff; text-decoration-color: #00d7ff\">None</span>, <span style=\"color: #00af00; text-decoration-color: #00af00\">109</span>, <span style=\"color: #00af00; text-decoration-color: #00af00\">109</span>, <span style=\"color: #00af00; text-decoration-color: #00af00\">16</span>)   │            <span style=\"color: #00af00; text-decoration-color: #00af00\">64</span> │\n",
              "│ (<span style=\"color: #0087ff; text-decoration-color: #0087ff\">BatchNormalization</span>)            │                        │               │\n",
              "├─────────────────────────────────┼────────────────────────┼───────────────┤\n",
              "│ max_pooling2d_1 (<span style=\"color: #0087ff; text-decoration-color: #0087ff\">MaxPooling2D</span>)  │ (<span style=\"color: #00d7ff; text-decoration-color: #00d7ff\">None</span>, <span style=\"color: #00af00; text-decoration-color: #00af00\">54</span>, <span style=\"color: #00af00; text-decoration-color: #00af00\">54</span>, <span style=\"color: #00af00; text-decoration-color: #00af00\">16</span>)     │             <span style=\"color: #00af00; text-decoration-color: #00af00\">0</span> │\n",
              "├─────────────────────────────────┼────────────────────────┼───────────────┤\n",
              "│ flatten (<span style=\"color: #0087ff; text-decoration-color: #0087ff\">Flatten</span>)               │ (<span style=\"color: #00d7ff; text-decoration-color: #00d7ff\">None</span>, <span style=\"color: #00af00; text-decoration-color: #00af00\">46656</span>)          │             <span style=\"color: #00af00; text-decoration-color: #00af00\">0</span> │\n",
              "├─────────────────────────────────┼────────────────────────┼───────────────┤\n",
              "│ dense (<span style=\"color: #0087ff; text-decoration-color: #0087ff\">Dense</span>)                   │ (<span style=\"color: #00d7ff; text-decoration-color: #00d7ff\">None</span>, <span style=\"color: #00af00; text-decoration-color: #00af00\">100</span>)            │     <span style=\"color: #00af00; text-decoration-color: #00af00\">4,665,700</span> │\n",
              "├─────────────────────────────────┼────────────────────────┼───────────────┤\n",
              "│ batch_normalization_2           │ (<span style=\"color: #00d7ff; text-decoration-color: #00d7ff\">None</span>, <span style=\"color: #00af00; text-decoration-color: #00af00\">100</span>)            │           <span style=\"color: #00af00; text-decoration-color: #00af00\">400</span> │\n",
              "│ (<span style=\"color: #0087ff; text-decoration-color: #0087ff\">BatchNormalization</span>)            │                        │               │\n",
              "├─────────────────────────────────┼────────────────────────┼───────────────┤\n",
              "│ dense_1 (<span style=\"color: #0087ff; text-decoration-color: #0087ff\">Dense</span>)                 │ (<span style=\"color: #00d7ff; text-decoration-color: #00d7ff\">None</span>, <span style=\"color: #00af00; text-decoration-color: #00af00\">10</span>)             │         <span style=\"color: #00af00; text-decoration-color: #00af00\">1,010</span> │\n",
              "├─────────────────────────────────┼────────────────────────┼───────────────┤\n",
              "│ batch_normalization_3           │ (<span style=\"color: #00d7ff; text-decoration-color: #00d7ff\">None</span>, <span style=\"color: #00af00; text-decoration-color: #00af00\">10</span>)             │            <span style=\"color: #00af00; text-decoration-color: #00af00\">40</span> │\n",
              "│ (<span style=\"color: #0087ff; text-decoration-color: #0087ff\">BatchNormalization</span>)            │                        │               │\n",
              "├─────────────────────────────────┼────────────────────────┼───────────────┤\n",
              "│ dense_2 (<span style=\"color: #0087ff; text-decoration-color: #0087ff\">Dense</span>)                 │ (<span style=\"color: #00d7ff; text-decoration-color: #00d7ff\">None</span>, <span style=\"color: #00af00; text-decoration-color: #00af00\">1</span>)              │            <span style=\"color: #00af00; text-decoration-color: #00af00\">11</span> │\n",
              "└─────────────────────────────────┴────────────────────────┴───────────────┘\n",
              "</pre>\n"
            ]
          },
          "metadata": {}
        },
        {
          "output_type": "display_data",
          "data": {
            "text/plain": [
              "\u001b[1m Total params: \u001b[0m\u001b[38;5;34m4,668,297\u001b[0m (17.81 MB)\n"
            ],
            "text/html": [
              "<pre style=\"white-space:pre;overflow-x:auto;line-height:normal;font-family:Menlo,'DejaVu Sans Mono',consolas,'Courier New',monospace\"><span style=\"font-weight: bold\"> Total params: </span><span style=\"color: #00af00; text-decoration-color: #00af00\">4,668,297</span> (17.81 MB)\n",
              "</pre>\n"
            ]
          },
          "metadata": {}
        },
        {
          "output_type": "display_data",
          "data": {
            "text/plain": [
              "\u001b[1m Trainable params: \u001b[0m\u001b[38;5;34m4,668,033\u001b[0m (17.81 MB)\n"
            ],
            "text/html": [
              "<pre style=\"white-space:pre;overflow-x:auto;line-height:normal;font-family:Menlo,'DejaVu Sans Mono',consolas,'Courier New',monospace\"><span style=\"font-weight: bold\"> Trainable params: </span><span style=\"color: #00af00; text-decoration-color: #00af00\">4,668,033</span> (17.81 MB)\n",
              "</pre>\n"
            ]
          },
          "metadata": {}
        },
        {
          "output_type": "display_data",
          "data": {
            "text/plain": [
              "\u001b[1m Non-trainable params: \u001b[0m\u001b[38;5;34m264\u001b[0m (1.03 KB)\n"
            ],
            "text/html": [
              "<pre style=\"white-space:pre;overflow-x:auto;line-height:normal;font-family:Menlo,'DejaVu Sans Mono',consolas,'Courier New',monospace\"><span style=\"font-weight: bold\"> Non-trainable params: </span><span style=\"color: #00af00; text-decoration-color: #00af00\">264</span> (1.03 KB)\n",
              "</pre>\n"
            ]
          },
          "metadata": {}
        }
      ],
      "source": [
        "## ===>> Sequential API method\n",
        "\n",
        "lenet_model = tf.keras.Sequential([\n",
        "    layers.InputLayer(input_shape= (IM_SIZE, IM_SIZE, 3)),\n",
        "\n",
        "    layers.Conv2D(filters =6, kernel_size =3, strides =1, padding='valid',activation='relu'),\n",
        "    layers.BatchNormalization(),\n",
        "    layers.MaxPool2D(pool_size =2, strides =2),\n",
        "\n",
        "    layers.Conv2D(filters =16, kernel_size =3, strides =1, padding='valid',activation='relu'),\n",
        "    layers.BatchNormalization(),\n",
        "    layers.MaxPool2D(pool_size =2, strides =2),\n",
        "\n",
        "    layers.Flatten(),\n",
        "\n",
        "    layers.Dense(100, activation= 'relu'),\n",
        "    layers.BatchNormalization(),\n",
        "\n",
        "    layers.Dense(10, activation= 'relu'),\n",
        "    layers.BatchNormalization(),\n",
        "\n",
        "    layers.Dense(1, activation= 'sigmoid'),\n",
        "])\n",
        "\n",
        "\n",
        "lenet_model.summary()"
      ]
    },
    {
      "cell_type": "code",
      "source": [
        "IM_SIZE =224\n",
        "feature_xtractor_seq= tf.keras.Sequential([\n",
        "    layers.InputLayer(input_shape= (IM_SIZE, IM_SIZE, 3)),\n",
        "\n",
        "    layers.Conv2D(filters =6, kernel_size =3, strides =1, padding='valid',activation='relu'),\n",
        "    layers.BatchNormalization(),\n",
        "    layers.MaxPool2D(pool_size =2, strides =2),\n",
        "\n",
        "    layers.Conv2D(filters =16, kernel_size =3, strides =1, padding='valid',activation='relu'),\n",
        "    layers.BatchNormalization(),\n",
        "    layers.MaxPool2D(pool_size =2, strides =2),\n",
        "\n",
        "\n",
        "])\n",
        "\n",
        "\n",
        "feature_xtractor_seq.summary()"
      ],
      "metadata": {
        "colab": {
          "base_uri": "https://localhost:8080/",
          "height": 353
        },
        "id": "UnmNigdSvwRS",
        "outputId": "cfb5fb9f-2208-404d-8881-fe834313e5ee"
      },
      "id": "UnmNigdSvwRS",
      "execution_count": 10,
      "outputs": [
        {
          "output_type": "display_data",
          "data": {
            "text/plain": [
              "\u001b[1mModel: \"sequential_1\"\u001b[0m\n"
            ],
            "text/html": [
              "<pre style=\"white-space:pre;overflow-x:auto;line-height:normal;font-family:Menlo,'DejaVu Sans Mono',consolas,'Courier New',monospace\"><span style=\"font-weight: bold\">Model: \"sequential_1\"</span>\n",
              "</pre>\n"
            ]
          },
          "metadata": {}
        },
        {
          "output_type": "display_data",
          "data": {
            "text/plain": [
              "┏━━━━━━━━━━━━━━━━━━━━━━━━━━━━━━━━━┳━━━━━━━━━━━━━━━━━━━━━━━━┳━━━━━━━━━━━━━━━┓\n",
              "┃\u001b[1m \u001b[0m\u001b[1mLayer (type)                   \u001b[0m\u001b[1m \u001b[0m┃\u001b[1m \u001b[0m\u001b[1mOutput Shape          \u001b[0m\u001b[1m \u001b[0m┃\u001b[1m \u001b[0m\u001b[1m      Param #\u001b[0m\u001b[1m \u001b[0m┃\n",
              "┡━━━━━━━━━━━━━━━━━━━━━━━━━━━━━━━━━╇━━━━━━━━━━━━━━━━━━━━━━━━╇━━━━━━━━━━━━━━━┩\n",
              "│ conv2d_2 (\u001b[38;5;33mConv2D\u001b[0m)               │ (\u001b[38;5;45mNone\u001b[0m, \u001b[38;5;34m222\u001b[0m, \u001b[38;5;34m222\u001b[0m, \u001b[38;5;34m6\u001b[0m)    │           \u001b[38;5;34m168\u001b[0m │\n",
              "├─────────────────────────────────┼────────────────────────┼───────────────┤\n",
              "│ batch_normalization_4           │ (\u001b[38;5;45mNone\u001b[0m, \u001b[38;5;34m222\u001b[0m, \u001b[38;5;34m222\u001b[0m, \u001b[38;5;34m6\u001b[0m)    │            \u001b[38;5;34m24\u001b[0m │\n",
              "│ (\u001b[38;5;33mBatchNormalization\u001b[0m)            │                        │               │\n",
              "├─────────────────────────────────┼────────────────────────┼───────────────┤\n",
              "│ max_pooling2d_2 (\u001b[38;5;33mMaxPooling2D\u001b[0m)  │ (\u001b[38;5;45mNone\u001b[0m, \u001b[38;5;34m111\u001b[0m, \u001b[38;5;34m111\u001b[0m, \u001b[38;5;34m6\u001b[0m)    │             \u001b[38;5;34m0\u001b[0m │\n",
              "├─────────────────────────────────┼────────────────────────┼───────────────┤\n",
              "│ conv2d_3 (\u001b[38;5;33mConv2D\u001b[0m)               │ (\u001b[38;5;45mNone\u001b[0m, \u001b[38;5;34m109\u001b[0m, \u001b[38;5;34m109\u001b[0m, \u001b[38;5;34m16\u001b[0m)   │           \u001b[38;5;34m880\u001b[0m │\n",
              "├─────────────────────────────────┼────────────────────────┼───────────────┤\n",
              "│ batch_normalization_5           │ (\u001b[38;5;45mNone\u001b[0m, \u001b[38;5;34m109\u001b[0m, \u001b[38;5;34m109\u001b[0m, \u001b[38;5;34m16\u001b[0m)   │            \u001b[38;5;34m64\u001b[0m │\n",
              "│ (\u001b[38;5;33mBatchNormalization\u001b[0m)            │                        │               │\n",
              "├─────────────────────────────────┼────────────────────────┼───────────────┤\n",
              "│ max_pooling2d_3 (\u001b[38;5;33mMaxPooling2D\u001b[0m)  │ (\u001b[38;5;45mNone\u001b[0m, \u001b[38;5;34m54\u001b[0m, \u001b[38;5;34m54\u001b[0m, \u001b[38;5;34m16\u001b[0m)     │             \u001b[38;5;34m0\u001b[0m │\n",
              "└─────────────────────────────────┴────────────────────────┴───────────────┘\n"
            ],
            "text/html": [
              "<pre style=\"white-space:pre;overflow-x:auto;line-height:normal;font-family:Menlo,'DejaVu Sans Mono',consolas,'Courier New',monospace\">┏━━━━━━━━━━━━━━━━━━━━━━━━━━━━━━━━━┳━━━━━━━━━━━━━━━━━━━━━━━━┳━━━━━━━━━━━━━━━┓\n",
              "┃<span style=\"font-weight: bold\"> Layer (type)                    </span>┃<span style=\"font-weight: bold\"> Output Shape           </span>┃<span style=\"font-weight: bold\">       Param # </span>┃\n",
              "┡━━━━━━━━━━━━━━━━━━━━━━━━━━━━━━━━━╇━━━━━━━━━━━━━━━━━━━━━━━━╇━━━━━━━━━━━━━━━┩\n",
              "│ conv2d_2 (<span style=\"color: #0087ff; text-decoration-color: #0087ff\">Conv2D</span>)               │ (<span style=\"color: #00d7ff; text-decoration-color: #00d7ff\">None</span>, <span style=\"color: #00af00; text-decoration-color: #00af00\">222</span>, <span style=\"color: #00af00; text-decoration-color: #00af00\">222</span>, <span style=\"color: #00af00; text-decoration-color: #00af00\">6</span>)    │           <span style=\"color: #00af00; text-decoration-color: #00af00\">168</span> │\n",
              "├─────────────────────────────────┼────────────────────────┼───────────────┤\n",
              "│ batch_normalization_4           │ (<span style=\"color: #00d7ff; text-decoration-color: #00d7ff\">None</span>, <span style=\"color: #00af00; text-decoration-color: #00af00\">222</span>, <span style=\"color: #00af00; text-decoration-color: #00af00\">222</span>, <span style=\"color: #00af00; text-decoration-color: #00af00\">6</span>)    │            <span style=\"color: #00af00; text-decoration-color: #00af00\">24</span> │\n",
              "│ (<span style=\"color: #0087ff; text-decoration-color: #0087ff\">BatchNormalization</span>)            │                        │               │\n",
              "├─────────────────────────────────┼────────────────────────┼───────────────┤\n",
              "│ max_pooling2d_2 (<span style=\"color: #0087ff; text-decoration-color: #0087ff\">MaxPooling2D</span>)  │ (<span style=\"color: #00d7ff; text-decoration-color: #00d7ff\">None</span>, <span style=\"color: #00af00; text-decoration-color: #00af00\">111</span>, <span style=\"color: #00af00; text-decoration-color: #00af00\">111</span>, <span style=\"color: #00af00; text-decoration-color: #00af00\">6</span>)    │             <span style=\"color: #00af00; text-decoration-color: #00af00\">0</span> │\n",
              "├─────────────────────────────────┼────────────────────────┼───────────────┤\n",
              "│ conv2d_3 (<span style=\"color: #0087ff; text-decoration-color: #0087ff\">Conv2D</span>)               │ (<span style=\"color: #00d7ff; text-decoration-color: #00d7ff\">None</span>, <span style=\"color: #00af00; text-decoration-color: #00af00\">109</span>, <span style=\"color: #00af00; text-decoration-color: #00af00\">109</span>, <span style=\"color: #00af00; text-decoration-color: #00af00\">16</span>)   │           <span style=\"color: #00af00; text-decoration-color: #00af00\">880</span> │\n",
              "├─────────────────────────────────┼────────────────────────┼───────────────┤\n",
              "│ batch_normalization_5           │ (<span style=\"color: #00d7ff; text-decoration-color: #00d7ff\">None</span>, <span style=\"color: #00af00; text-decoration-color: #00af00\">109</span>, <span style=\"color: #00af00; text-decoration-color: #00af00\">109</span>, <span style=\"color: #00af00; text-decoration-color: #00af00\">16</span>)   │            <span style=\"color: #00af00; text-decoration-color: #00af00\">64</span> │\n",
              "│ (<span style=\"color: #0087ff; text-decoration-color: #0087ff\">BatchNormalization</span>)            │                        │               │\n",
              "├─────────────────────────────────┼────────────────────────┼───────────────┤\n",
              "│ max_pooling2d_3 (<span style=\"color: #0087ff; text-decoration-color: #0087ff\">MaxPooling2D</span>)  │ (<span style=\"color: #00d7ff; text-decoration-color: #00d7ff\">None</span>, <span style=\"color: #00af00; text-decoration-color: #00af00\">54</span>, <span style=\"color: #00af00; text-decoration-color: #00af00\">54</span>, <span style=\"color: #00af00; text-decoration-color: #00af00\">16</span>)     │             <span style=\"color: #00af00; text-decoration-color: #00af00\">0</span> │\n",
              "└─────────────────────────────────┴────────────────────────┴───────────────┘\n",
              "</pre>\n"
            ]
          },
          "metadata": {}
        },
        {
          "output_type": "display_data",
          "data": {
            "text/plain": [
              "\u001b[1m Total params: \u001b[0m\u001b[38;5;34m1,136\u001b[0m (4.44 KB)\n"
            ],
            "text/html": [
              "<pre style=\"white-space:pre;overflow-x:auto;line-height:normal;font-family:Menlo,'DejaVu Sans Mono',consolas,'Courier New',monospace\"><span style=\"font-weight: bold\"> Total params: </span><span style=\"color: #00af00; text-decoration-color: #00af00\">1,136</span> (4.44 KB)\n",
              "</pre>\n"
            ]
          },
          "metadata": {}
        },
        {
          "output_type": "display_data",
          "data": {
            "text/plain": [
              "\u001b[1m Trainable params: \u001b[0m\u001b[38;5;34m1,092\u001b[0m (4.27 KB)\n"
            ],
            "text/html": [
              "<pre style=\"white-space:pre;overflow-x:auto;line-height:normal;font-family:Menlo,'DejaVu Sans Mono',consolas,'Courier New',monospace\"><span style=\"font-weight: bold\"> Trainable params: </span><span style=\"color: #00af00; text-decoration-color: #00af00\">1,092</span> (4.27 KB)\n",
              "</pre>\n"
            ]
          },
          "metadata": {}
        },
        {
          "output_type": "display_data",
          "data": {
            "text/plain": [
              "\u001b[1m Non-trainable params: \u001b[0m\u001b[38;5;34m44\u001b[0m (176.00 B)\n"
            ],
            "text/html": [
              "<pre style=\"white-space:pre;overflow-x:auto;line-height:normal;font-family:Menlo,'DejaVu Sans Mono',consolas,'Courier New',monospace\"><span style=\"font-weight: bold\"> Non-trainable params: </span><span style=\"color: #00af00; text-decoration-color: #00af00\">44</span> (176.00 B)\n",
              "</pre>\n"
            ]
          },
          "metadata": {}
        }
      ]
    },
    {
      "cell_type": "code",
      "source": [
        "## --->> FEATURE EXTRACTION MODEL\n",
        "\n",
        "func_input = layers.Input(shape = (IM_SIZE, IM_SIZE, 3), name = \"Input_Image\")\n",
        "\n",
        "x =    layers.Conv2D(filters =6, kernel_size =3, strides =1, padding='valid',activation='relu')(func_input)\n",
        "x =    layers.BatchNormalization()(x)\n",
        "x =    layers.MaxPool2D(pool_size =2, strides =2)(x)\n",
        "\n",
        "x =    layers.Conv2D(filters =16, kernel_size =3, strides =1, padding='valid',activation='relu')(x)\n",
        "x =    layers.BatchNormalization()(x)\n",
        "output =    layers.MaxPool2D(pool_size =2, strides =2)(x)\n",
        "\n",
        "feature_extraction_model = models.Model(func_input, output, name = 'Feature_extractor')\n",
        "feature_extraction_model.summary()"
      ],
      "metadata": {
        "colab": {
          "base_uri": "https://localhost:8080/",
          "height": 385
        },
        "id": "wRTiMzGm3lwD",
        "outputId": "6010b746-38bd-4e85-8bb3-88a30d22cc77"
      },
      "id": "wRTiMzGm3lwD",
      "execution_count": 11,
      "outputs": [
        {
          "output_type": "display_data",
          "data": {
            "text/plain": [
              "\u001b[1mModel: \"Feature_extractor\"\u001b[0m\n"
            ],
            "text/html": [
              "<pre style=\"white-space:pre;overflow-x:auto;line-height:normal;font-family:Menlo,'DejaVu Sans Mono',consolas,'Courier New',monospace\"><span style=\"font-weight: bold\">Model: \"Feature_extractor\"</span>\n",
              "</pre>\n"
            ]
          },
          "metadata": {}
        },
        {
          "output_type": "display_data",
          "data": {
            "text/plain": [
              "┏━━━━━━━━━━━━━━━━━━━━━━━━━━━━━━━━━┳━━━━━━━━━━━━━━━━━━━━━━━━┳━━━━━━━━━━━━━━━┓\n",
              "┃\u001b[1m \u001b[0m\u001b[1mLayer (type)                   \u001b[0m\u001b[1m \u001b[0m┃\u001b[1m \u001b[0m\u001b[1mOutput Shape          \u001b[0m\u001b[1m \u001b[0m┃\u001b[1m \u001b[0m\u001b[1m      Param #\u001b[0m\u001b[1m \u001b[0m┃\n",
              "┡━━━━━━━━━━━━━━━━━━━━━━━━━━━━━━━━━╇━━━━━━━━━━━━━━━━━━━━━━━━╇━━━━━━━━━━━━━━━┩\n",
              "│ Input_Image (\u001b[38;5;33mInputLayer\u001b[0m)        │ (\u001b[38;5;45mNone\u001b[0m, \u001b[38;5;34m224\u001b[0m, \u001b[38;5;34m224\u001b[0m, \u001b[38;5;34m3\u001b[0m)    │             \u001b[38;5;34m0\u001b[0m │\n",
              "├─────────────────────────────────┼────────────────────────┼───────────────┤\n",
              "│ conv2d_4 (\u001b[38;5;33mConv2D\u001b[0m)               │ (\u001b[38;5;45mNone\u001b[0m, \u001b[38;5;34m222\u001b[0m, \u001b[38;5;34m222\u001b[0m, \u001b[38;5;34m6\u001b[0m)    │           \u001b[38;5;34m168\u001b[0m │\n",
              "├─────────────────────────────────┼────────────────────────┼───────────────┤\n",
              "│ batch_normalization_6           │ (\u001b[38;5;45mNone\u001b[0m, \u001b[38;5;34m222\u001b[0m, \u001b[38;5;34m222\u001b[0m, \u001b[38;5;34m6\u001b[0m)    │            \u001b[38;5;34m24\u001b[0m │\n",
              "│ (\u001b[38;5;33mBatchNormalization\u001b[0m)            │                        │               │\n",
              "├─────────────────────────────────┼────────────────────────┼───────────────┤\n",
              "│ max_pooling2d_4 (\u001b[38;5;33mMaxPooling2D\u001b[0m)  │ (\u001b[38;5;45mNone\u001b[0m, \u001b[38;5;34m111\u001b[0m, \u001b[38;5;34m111\u001b[0m, \u001b[38;5;34m6\u001b[0m)    │             \u001b[38;5;34m0\u001b[0m │\n",
              "├─────────────────────────────────┼────────────────────────┼───────────────┤\n",
              "│ conv2d_5 (\u001b[38;5;33mConv2D\u001b[0m)               │ (\u001b[38;5;45mNone\u001b[0m, \u001b[38;5;34m109\u001b[0m, \u001b[38;5;34m109\u001b[0m, \u001b[38;5;34m16\u001b[0m)   │           \u001b[38;5;34m880\u001b[0m │\n",
              "├─────────────────────────────────┼────────────────────────┼───────────────┤\n",
              "│ batch_normalization_7           │ (\u001b[38;5;45mNone\u001b[0m, \u001b[38;5;34m109\u001b[0m, \u001b[38;5;34m109\u001b[0m, \u001b[38;5;34m16\u001b[0m)   │            \u001b[38;5;34m64\u001b[0m │\n",
              "│ (\u001b[38;5;33mBatchNormalization\u001b[0m)            │                        │               │\n",
              "├─────────────────────────────────┼────────────────────────┼───────────────┤\n",
              "│ max_pooling2d_5 (\u001b[38;5;33mMaxPooling2D\u001b[0m)  │ (\u001b[38;5;45mNone\u001b[0m, \u001b[38;5;34m54\u001b[0m, \u001b[38;5;34m54\u001b[0m, \u001b[38;5;34m16\u001b[0m)     │             \u001b[38;5;34m0\u001b[0m │\n",
              "└─────────────────────────────────┴────────────────────────┴───────────────┘\n"
            ],
            "text/html": [
              "<pre style=\"white-space:pre;overflow-x:auto;line-height:normal;font-family:Menlo,'DejaVu Sans Mono',consolas,'Courier New',monospace\">┏━━━━━━━━━━━━━━━━━━━━━━━━━━━━━━━━━┳━━━━━━━━━━━━━━━━━━━━━━━━┳━━━━━━━━━━━━━━━┓\n",
              "┃<span style=\"font-weight: bold\"> Layer (type)                    </span>┃<span style=\"font-weight: bold\"> Output Shape           </span>┃<span style=\"font-weight: bold\">       Param # </span>┃\n",
              "┡━━━━━━━━━━━━━━━━━━━━━━━━━━━━━━━━━╇━━━━━━━━━━━━━━━━━━━━━━━━╇━━━━━━━━━━━━━━━┩\n",
              "│ Input_Image (<span style=\"color: #0087ff; text-decoration-color: #0087ff\">InputLayer</span>)        │ (<span style=\"color: #00d7ff; text-decoration-color: #00d7ff\">None</span>, <span style=\"color: #00af00; text-decoration-color: #00af00\">224</span>, <span style=\"color: #00af00; text-decoration-color: #00af00\">224</span>, <span style=\"color: #00af00; text-decoration-color: #00af00\">3</span>)    │             <span style=\"color: #00af00; text-decoration-color: #00af00\">0</span> │\n",
              "├─────────────────────────────────┼────────────────────────┼───────────────┤\n",
              "│ conv2d_4 (<span style=\"color: #0087ff; text-decoration-color: #0087ff\">Conv2D</span>)               │ (<span style=\"color: #00d7ff; text-decoration-color: #00d7ff\">None</span>, <span style=\"color: #00af00; text-decoration-color: #00af00\">222</span>, <span style=\"color: #00af00; text-decoration-color: #00af00\">222</span>, <span style=\"color: #00af00; text-decoration-color: #00af00\">6</span>)    │           <span style=\"color: #00af00; text-decoration-color: #00af00\">168</span> │\n",
              "├─────────────────────────────────┼────────────────────────┼───────────────┤\n",
              "│ batch_normalization_6           │ (<span style=\"color: #00d7ff; text-decoration-color: #00d7ff\">None</span>, <span style=\"color: #00af00; text-decoration-color: #00af00\">222</span>, <span style=\"color: #00af00; text-decoration-color: #00af00\">222</span>, <span style=\"color: #00af00; text-decoration-color: #00af00\">6</span>)    │            <span style=\"color: #00af00; text-decoration-color: #00af00\">24</span> │\n",
              "│ (<span style=\"color: #0087ff; text-decoration-color: #0087ff\">BatchNormalization</span>)            │                        │               │\n",
              "├─────────────────────────────────┼────────────────────────┼───────────────┤\n",
              "│ max_pooling2d_4 (<span style=\"color: #0087ff; text-decoration-color: #0087ff\">MaxPooling2D</span>)  │ (<span style=\"color: #00d7ff; text-decoration-color: #00d7ff\">None</span>, <span style=\"color: #00af00; text-decoration-color: #00af00\">111</span>, <span style=\"color: #00af00; text-decoration-color: #00af00\">111</span>, <span style=\"color: #00af00; text-decoration-color: #00af00\">6</span>)    │             <span style=\"color: #00af00; text-decoration-color: #00af00\">0</span> │\n",
              "├─────────────────────────────────┼────────────────────────┼───────────────┤\n",
              "│ conv2d_5 (<span style=\"color: #0087ff; text-decoration-color: #0087ff\">Conv2D</span>)               │ (<span style=\"color: #00d7ff; text-decoration-color: #00d7ff\">None</span>, <span style=\"color: #00af00; text-decoration-color: #00af00\">109</span>, <span style=\"color: #00af00; text-decoration-color: #00af00\">109</span>, <span style=\"color: #00af00; text-decoration-color: #00af00\">16</span>)   │           <span style=\"color: #00af00; text-decoration-color: #00af00\">880</span> │\n",
              "├─────────────────────────────────┼────────────────────────┼───────────────┤\n",
              "│ batch_normalization_7           │ (<span style=\"color: #00d7ff; text-decoration-color: #00d7ff\">None</span>, <span style=\"color: #00af00; text-decoration-color: #00af00\">109</span>, <span style=\"color: #00af00; text-decoration-color: #00af00\">109</span>, <span style=\"color: #00af00; text-decoration-color: #00af00\">16</span>)   │            <span style=\"color: #00af00; text-decoration-color: #00af00\">64</span> │\n",
              "│ (<span style=\"color: #0087ff; text-decoration-color: #0087ff\">BatchNormalization</span>)            │                        │               │\n",
              "├─────────────────────────────────┼────────────────────────┼───────────────┤\n",
              "│ max_pooling2d_5 (<span style=\"color: #0087ff; text-decoration-color: #0087ff\">MaxPooling2D</span>)  │ (<span style=\"color: #00d7ff; text-decoration-color: #00d7ff\">None</span>, <span style=\"color: #00af00; text-decoration-color: #00af00\">54</span>, <span style=\"color: #00af00; text-decoration-color: #00af00\">54</span>, <span style=\"color: #00af00; text-decoration-color: #00af00\">16</span>)     │             <span style=\"color: #00af00; text-decoration-color: #00af00\">0</span> │\n",
              "└─────────────────────────────────┴────────────────────────┴───────────────┘\n",
              "</pre>\n"
            ]
          },
          "metadata": {}
        },
        {
          "output_type": "display_data",
          "data": {
            "text/plain": [
              "\u001b[1m Total params: \u001b[0m\u001b[38;5;34m1,136\u001b[0m (4.44 KB)\n"
            ],
            "text/html": [
              "<pre style=\"white-space:pre;overflow-x:auto;line-height:normal;font-family:Menlo,'DejaVu Sans Mono',consolas,'Courier New',monospace\"><span style=\"font-weight: bold\"> Total params: </span><span style=\"color: #00af00; text-decoration-color: #00af00\">1,136</span> (4.44 KB)\n",
              "</pre>\n"
            ]
          },
          "metadata": {}
        },
        {
          "output_type": "display_data",
          "data": {
            "text/plain": [
              "\u001b[1m Trainable params: \u001b[0m\u001b[38;5;34m1,092\u001b[0m (4.27 KB)\n"
            ],
            "text/html": [
              "<pre style=\"white-space:pre;overflow-x:auto;line-height:normal;font-family:Menlo,'DejaVu Sans Mono',consolas,'Courier New',monospace\"><span style=\"font-weight: bold\"> Trainable params: </span><span style=\"color: #00af00; text-decoration-color: #00af00\">1,092</span> (4.27 KB)\n",
              "</pre>\n"
            ]
          },
          "metadata": {}
        },
        {
          "output_type": "display_data",
          "data": {
            "text/plain": [
              "\u001b[1m Non-trainable params: \u001b[0m\u001b[38;5;34m44\u001b[0m (176.00 B)\n"
            ],
            "text/html": [
              "<pre style=\"white-space:pre;overflow-x:auto;line-height:normal;font-family:Menlo,'DejaVu Sans Mono',consolas,'Courier New',monospace\"><span style=\"font-weight: bold\"> Non-trainable params: </span><span style=\"color: #00af00; text-decoration-color: #00af00\">44</span> (176.00 B)\n",
              "</pre>\n"
            ]
          },
          "metadata": {}
        }
      ]
    },
    {
      "cell_type": "code",
      "source": [],
      "metadata": {
        "id": "cFnjUcpZvuJV"
      },
      "id": "cFnjUcpZvuJV",
      "execution_count": 11,
      "outputs": []
    },
    {
      "cell_type": "code",
      "source": [
        "## --->> Model subclassing\n",
        "\n",
        "class FeatureExtractor(layers.Layer): ##---- >>>\n",
        "\n",
        "  def __init__(self):\n",
        "    super().__init__()\n",
        "\n",
        "    self.conv_1 = layers.Conv2D(filters =6, kernel_size =3, strides =1, padding='valid',activation='relu')\n",
        "    self.batch_1 =  layers.BatchNormalization()\n",
        "    self.pool_1 =  layers.MaxPool2D(pool_size =2, strides =2)\n",
        "\n",
        "    self.conv_2= layers.Conv2D(filters =16, kernel_size =3, strides =1, padding='valid',activation='relu')\n",
        "    self.batch_2 =  layers.BatchNormalization()\n",
        "    self.pool_2 =  layers.MaxPool2D(pool_size =2, strides =2)\n",
        "\n",
        "  def call(self, x):\n",
        "\n",
        "    x = self.conv_1(x)\n",
        "    x = self.batch_1(x)\n",
        "    x = self.pool_1(x)\n",
        "\n",
        "    x = self.conv_2(x)\n",
        "    x = self.batch_2(x)\n",
        "    x = self.pool_2(x)\n",
        "\n",
        "    return x\n",
        "feature_sub_classed = FeatureExtractor()\n",
        "\n"
      ],
      "metadata": {
        "id": "ItyB-XcJNnNz"
      },
      "id": "ItyB-XcJNnNz",
      "execution_count": 12,
      "outputs": []
    },
    {
      "cell_type": "code",
      "source": [
        "class LenetModel(models.Model):\n",
        "  def __init__(self):\n",
        "    super(LenetModel,self).__init__()\n",
        "\n",
        "    self.feature_extractor = FeatureExtractor()\n",
        "\n",
        "    self.flatten = layers.Flatten()\n",
        "\n",
        "    self.dense_1 = layers.Dense(100, activation = \"relu\")\n",
        "    self.batch_1 = layers.BatchNormalization()\n",
        "\n",
        "    self.dense_2 = layers.Dense(10, activation = \"relu\")\n",
        "    self.batch_2 = layers.BatchNormalization()\n",
        "\n",
        "    self.dense_3 = layers.Dense(1, activation = \"sigmoid\")\n",
        "\n",
        "  def call(self,x):\n",
        "\n",
        "    x = self.feature_extractor(x)\n",
        "    x = self.flatten(x)\n",
        "    x = self.dense_1(x)\n",
        "    x = self.batch_1(x)\n",
        "    x = self.dense_2(x)\n",
        "    x = self.batch_2(x)\n",
        "    x = self.dense_3(x)\n",
        "\n",
        "    return x\n",
        "lenet_sub_classed = LenetModel()\n",
        "lenet_sub_classed(tf.zeros([1,224,224,3]))\n",
        "lenet_sub_classed.summary()\n",
        "\n"
      ],
      "metadata": {
        "colab": {
          "base_uri": "https://localhost:8080/",
          "height": 401
        },
        "id": "cAnv4USD-sd2",
        "outputId": "6ad77ac4-82da-4dd2-8dae-9cc14e057733"
      },
      "id": "cAnv4USD-sd2",
      "execution_count": 13,
      "outputs": [
        {
          "output_type": "display_data",
          "data": {
            "text/plain": [
              "\u001b[1mModel: \"lenet_model\"\u001b[0m\n"
            ],
            "text/html": [
              "<pre style=\"white-space:pre;overflow-x:auto;line-height:normal;font-family:Menlo,'DejaVu Sans Mono',consolas,'Courier New',monospace\"><span style=\"font-weight: bold\">Model: \"lenet_model\"</span>\n",
              "</pre>\n"
            ]
          },
          "metadata": {}
        },
        {
          "output_type": "display_data",
          "data": {
            "text/plain": [
              "┏━━━━━━━━━━━━━━━━━━━━━━━━━━━━━━━━━┳━━━━━━━━━━━━━━━━━━━━━━━━┳━━━━━━━━━━━━━━━┓\n",
              "┃\u001b[1m \u001b[0m\u001b[1mLayer (type)                   \u001b[0m\u001b[1m \u001b[0m┃\u001b[1m \u001b[0m\u001b[1mOutput Shape          \u001b[0m\u001b[1m \u001b[0m┃\u001b[1m \u001b[0m\u001b[1m      Param #\u001b[0m\u001b[1m \u001b[0m┃\n",
              "┡━━━━━━━━━━━━━━━━━━━━━━━━━━━━━━━━━╇━━━━━━━━━━━━━━━━━━━━━━━━╇━━━━━━━━━━━━━━━┩\n",
              "│ feature_extractor_1             │ ?                      │         \u001b[38;5;34m1,136\u001b[0m │\n",
              "│ (\u001b[38;5;33mFeatureExtractor\u001b[0m)              │                        │               │\n",
              "├─────────────────────────────────┼────────────────────────┼───────────────┤\n",
              "│ flatten_1 (\u001b[38;5;33mFlatten\u001b[0m)             │ (\u001b[38;5;34m1\u001b[0m, \u001b[38;5;34m46656\u001b[0m)             │             \u001b[38;5;34m0\u001b[0m │\n",
              "├─────────────────────────────────┼────────────────────────┼───────────────┤\n",
              "│ dense_3 (\u001b[38;5;33mDense\u001b[0m)                 │ (\u001b[38;5;34m1\u001b[0m, \u001b[38;5;34m100\u001b[0m)               │     \u001b[38;5;34m4,665,700\u001b[0m │\n",
              "├─────────────────────────────────┼────────────────────────┼───────────────┤\n",
              "│ batch_normalization_12          │ (\u001b[38;5;34m1\u001b[0m, \u001b[38;5;34m100\u001b[0m)               │           \u001b[38;5;34m400\u001b[0m │\n",
              "│ (\u001b[38;5;33mBatchNormalization\u001b[0m)            │                        │               │\n",
              "├─────────────────────────────────┼────────────────────────┼───────────────┤\n",
              "│ dense_4 (\u001b[38;5;33mDense\u001b[0m)                 │ (\u001b[38;5;34m1\u001b[0m, \u001b[38;5;34m10\u001b[0m)                │         \u001b[38;5;34m1,010\u001b[0m │\n",
              "├─────────────────────────────────┼────────────────────────┼───────────────┤\n",
              "│ batch_normalization_13          │ (\u001b[38;5;34m1\u001b[0m, \u001b[38;5;34m10\u001b[0m)                │            \u001b[38;5;34m40\u001b[0m │\n",
              "│ (\u001b[38;5;33mBatchNormalization\u001b[0m)            │                        │               │\n",
              "├─────────────────────────────────┼────────────────────────┼───────────────┤\n",
              "│ dense_5 (\u001b[38;5;33mDense\u001b[0m)                 │ (\u001b[38;5;34m1\u001b[0m, \u001b[38;5;34m1\u001b[0m)                 │            \u001b[38;5;34m11\u001b[0m │\n",
              "└─────────────────────────────────┴────────────────────────┴───────────────┘\n"
            ],
            "text/html": [
              "<pre style=\"white-space:pre;overflow-x:auto;line-height:normal;font-family:Menlo,'DejaVu Sans Mono',consolas,'Courier New',monospace\">┏━━━━━━━━━━━━━━━━━━━━━━━━━━━━━━━━━┳━━━━━━━━━━━━━━━━━━━━━━━━┳━━━━━━━━━━━━━━━┓\n",
              "┃<span style=\"font-weight: bold\"> Layer (type)                    </span>┃<span style=\"font-weight: bold\"> Output Shape           </span>┃<span style=\"font-weight: bold\">       Param # </span>┃\n",
              "┡━━━━━━━━━━━━━━━━━━━━━━━━━━━━━━━━━╇━━━━━━━━━━━━━━━━━━━━━━━━╇━━━━━━━━━━━━━━━┩\n",
              "│ feature_extractor_1             │ ?                      │         <span style=\"color: #00af00; text-decoration-color: #00af00\">1,136</span> │\n",
              "│ (<span style=\"color: #0087ff; text-decoration-color: #0087ff\">FeatureExtractor</span>)              │                        │               │\n",
              "├─────────────────────────────────┼────────────────────────┼───────────────┤\n",
              "│ flatten_1 (<span style=\"color: #0087ff; text-decoration-color: #0087ff\">Flatten</span>)             │ (<span style=\"color: #00af00; text-decoration-color: #00af00\">1</span>, <span style=\"color: #00af00; text-decoration-color: #00af00\">46656</span>)             │             <span style=\"color: #00af00; text-decoration-color: #00af00\">0</span> │\n",
              "├─────────────────────────────────┼────────────────────────┼───────────────┤\n",
              "│ dense_3 (<span style=\"color: #0087ff; text-decoration-color: #0087ff\">Dense</span>)                 │ (<span style=\"color: #00af00; text-decoration-color: #00af00\">1</span>, <span style=\"color: #00af00; text-decoration-color: #00af00\">100</span>)               │     <span style=\"color: #00af00; text-decoration-color: #00af00\">4,665,700</span> │\n",
              "├─────────────────────────────────┼────────────────────────┼───────────────┤\n",
              "│ batch_normalization_12          │ (<span style=\"color: #00af00; text-decoration-color: #00af00\">1</span>, <span style=\"color: #00af00; text-decoration-color: #00af00\">100</span>)               │           <span style=\"color: #00af00; text-decoration-color: #00af00\">400</span> │\n",
              "│ (<span style=\"color: #0087ff; text-decoration-color: #0087ff\">BatchNormalization</span>)            │                        │               │\n",
              "├─────────────────────────────────┼────────────────────────┼───────────────┤\n",
              "│ dense_4 (<span style=\"color: #0087ff; text-decoration-color: #0087ff\">Dense</span>)                 │ (<span style=\"color: #00af00; text-decoration-color: #00af00\">1</span>, <span style=\"color: #00af00; text-decoration-color: #00af00\">10</span>)                │         <span style=\"color: #00af00; text-decoration-color: #00af00\">1,010</span> │\n",
              "├─────────────────────────────────┼────────────────────────┼───────────────┤\n",
              "│ batch_normalization_13          │ (<span style=\"color: #00af00; text-decoration-color: #00af00\">1</span>, <span style=\"color: #00af00; text-decoration-color: #00af00\">10</span>)                │            <span style=\"color: #00af00; text-decoration-color: #00af00\">40</span> │\n",
              "│ (<span style=\"color: #0087ff; text-decoration-color: #0087ff\">BatchNormalization</span>)            │                        │               │\n",
              "├─────────────────────────────────┼────────────────────────┼───────────────┤\n",
              "│ dense_5 (<span style=\"color: #0087ff; text-decoration-color: #0087ff\">Dense</span>)                 │ (<span style=\"color: #00af00; text-decoration-color: #00af00\">1</span>, <span style=\"color: #00af00; text-decoration-color: #00af00\">1</span>)                 │            <span style=\"color: #00af00; text-decoration-color: #00af00\">11</span> │\n",
              "└─────────────────────────────────┴────────────────────────┴───────────────┘\n",
              "</pre>\n"
            ]
          },
          "metadata": {}
        },
        {
          "output_type": "display_data",
          "data": {
            "text/plain": [
              "\u001b[1m Total params: \u001b[0m\u001b[38;5;34m4,668,297\u001b[0m (17.81 MB)\n"
            ],
            "text/html": [
              "<pre style=\"white-space:pre;overflow-x:auto;line-height:normal;font-family:Menlo,'DejaVu Sans Mono',consolas,'Courier New',monospace\"><span style=\"font-weight: bold\"> Total params: </span><span style=\"color: #00af00; text-decoration-color: #00af00\">4,668,297</span> (17.81 MB)\n",
              "</pre>\n"
            ]
          },
          "metadata": {}
        },
        {
          "output_type": "display_data",
          "data": {
            "text/plain": [
              "\u001b[1m Trainable params: \u001b[0m\u001b[38;5;34m4,668,033\u001b[0m (17.81 MB)\n"
            ],
            "text/html": [
              "<pre style=\"white-space:pre;overflow-x:auto;line-height:normal;font-family:Menlo,'DejaVu Sans Mono',consolas,'Courier New',monospace\"><span style=\"font-weight: bold\"> Trainable params: </span><span style=\"color: #00af00; text-decoration-color: #00af00\">4,668,033</span> (17.81 MB)\n",
              "</pre>\n"
            ]
          },
          "metadata": {}
        },
        {
          "output_type": "display_data",
          "data": {
            "text/plain": [
              "\u001b[1m Non-trainable params: \u001b[0m\u001b[38;5;34m264\u001b[0m (1.03 KB)\n"
            ],
            "text/html": [
              "<pre style=\"white-space:pre;overflow-x:auto;line-height:normal;font-family:Menlo,'DejaVu Sans Mono',consolas,'Courier New',monospace\"><span style=\"font-weight: bold\"> Non-trainable params: </span><span style=\"color: #00af00; text-decoration-color: #00af00\">264</span> (1.03 KB)\n",
              "</pre>\n"
            ]
          },
          "metadata": {}
        }
      ]
    },
    {
      "cell_type": "code",
      "source": [
        "## ---->>  A FUNCTIONAL api METHOD\n",
        "\n",
        "func_input = layers.Input(shape = (IM_SIZE, IM_SIZE, 3), name = \"Input_Image\")\n",
        "\n",
        "x =  feature_extraction_model(func_input)\n",
        "# x = feature_sub_classed(func_input)\n",
        "# x = feature_xtractor_seq(func_input)\n",
        "\n",
        "# ( Callable Models )  -models in tensorflow act like functions or methods\n",
        "## --->>>  WE CAN USE =   x = feature_xtractor_seq(func_input) and will return same result\n",
        "## ---->>> feaure_sub_classed() will also give same result\n",
        "\n",
        "\n",
        "x =    layers.Flatten()(x)\n",
        "\n",
        "x =    layers.Dense(100, activation= 'relu')(x)\n",
        "x =    layers.BatchNormalization()(x)\n",
        "\n",
        "x =    layers.Dense(10, activation= 'relu')(x)\n",
        "x =    layers.BatchNormalization()(x)\n",
        "\n",
        "func_output =  layers.Dense(1, activation= 'sigmoid')(x)\n",
        "\n",
        "lenet_model_func = models.Model(func_input, func_output, name= \"lenet_Model\")\n",
        "lenet_model_func.summary()"
      ],
      "metadata": {
        "colab": {
          "base_uri": "https://localhost:8080/",
          "height": 417
        },
        "id": "LZ8tcUiXyR5_",
        "outputId": "4136c39d-50df-492d-a6de-62df9bafe8b7"
      },
      "id": "LZ8tcUiXyR5_",
      "execution_count": 14,
      "outputs": [
        {
          "output_type": "display_data",
          "data": {
            "text/plain": [
              "\u001b[1mModel: \"lenet_Model\"\u001b[0m\n"
            ],
            "text/html": [
              "<pre style=\"white-space:pre;overflow-x:auto;line-height:normal;font-family:Menlo,'DejaVu Sans Mono',consolas,'Courier New',monospace\"><span style=\"font-weight: bold\">Model: \"lenet_Model\"</span>\n",
              "</pre>\n"
            ]
          },
          "metadata": {}
        },
        {
          "output_type": "display_data",
          "data": {
            "text/plain": [
              "┏━━━━━━━━━━━━━━━━━━━━━━━━━━━━━━━━━┳━━━━━━━━━━━━━━━━━━━━━━━━┳━━━━━━━━━━━━━━━┓\n",
              "┃\u001b[1m \u001b[0m\u001b[1mLayer (type)                   \u001b[0m\u001b[1m \u001b[0m┃\u001b[1m \u001b[0m\u001b[1mOutput Shape          \u001b[0m\u001b[1m \u001b[0m┃\u001b[1m \u001b[0m\u001b[1m      Param #\u001b[0m\u001b[1m \u001b[0m┃\n",
              "┡━━━━━━━━━━━━━━━━━━━━━━━━━━━━━━━━━╇━━━━━━━━━━━━━━━━━━━━━━━━╇━━━━━━━━━━━━━━━┩\n",
              "│ Input_Image (\u001b[38;5;33mInputLayer\u001b[0m)        │ (\u001b[38;5;45mNone\u001b[0m, \u001b[38;5;34m224\u001b[0m, \u001b[38;5;34m224\u001b[0m, \u001b[38;5;34m3\u001b[0m)    │             \u001b[38;5;34m0\u001b[0m │\n",
              "├─────────────────────────────────┼────────────────────────┼───────────────┤\n",
              "│ Feature_extractor (\u001b[38;5;33mFunctional\u001b[0m)  │ (\u001b[38;5;45mNone\u001b[0m, \u001b[38;5;34m54\u001b[0m, \u001b[38;5;34m54\u001b[0m, \u001b[38;5;34m16\u001b[0m)     │         \u001b[38;5;34m1,136\u001b[0m │\n",
              "├─────────────────────────────────┼────────────────────────┼───────────────┤\n",
              "│ flatten_2 (\u001b[38;5;33mFlatten\u001b[0m)             │ (\u001b[38;5;45mNone\u001b[0m, \u001b[38;5;34m46656\u001b[0m)          │             \u001b[38;5;34m0\u001b[0m │\n",
              "├─────────────────────────────────┼────────────────────────┼───────────────┤\n",
              "│ dense_6 (\u001b[38;5;33mDense\u001b[0m)                 │ (\u001b[38;5;45mNone\u001b[0m, \u001b[38;5;34m100\u001b[0m)            │     \u001b[38;5;34m4,665,700\u001b[0m │\n",
              "├─────────────────────────────────┼────────────────────────┼───────────────┤\n",
              "│ batch_normalization_14          │ (\u001b[38;5;45mNone\u001b[0m, \u001b[38;5;34m100\u001b[0m)            │           \u001b[38;5;34m400\u001b[0m │\n",
              "│ (\u001b[38;5;33mBatchNormalization\u001b[0m)            │                        │               │\n",
              "├─────────────────────────────────┼────────────────────────┼───────────────┤\n",
              "│ dense_7 (\u001b[38;5;33mDense\u001b[0m)                 │ (\u001b[38;5;45mNone\u001b[0m, \u001b[38;5;34m10\u001b[0m)             │         \u001b[38;5;34m1,010\u001b[0m │\n",
              "├─────────────────────────────────┼────────────────────────┼───────────────┤\n",
              "│ batch_normalization_15          │ (\u001b[38;5;45mNone\u001b[0m, \u001b[38;5;34m10\u001b[0m)             │            \u001b[38;5;34m40\u001b[0m │\n",
              "│ (\u001b[38;5;33mBatchNormalization\u001b[0m)            │                        │               │\n",
              "├─────────────────────────────────┼────────────────────────┼───────────────┤\n",
              "│ dense_8 (\u001b[38;5;33mDense\u001b[0m)                 │ (\u001b[38;5;45mNone\u001b[0m, \u001b[38;5;34m1\u001b[0m)              │            \u001b[38;5;34m11\u001b[0m │\n",
              "└─────────────────────────────────┴────────────────────────┴───────────────┘\n"
            ],
            "text/html": [
              "<pre style=\"white-space:pre;overflow-x:auto;line-height:normal;font-family:Menlo,'DejaVu Sans Mono',consolas,'Courier New',monospace\">┏━━━━━━━━━━━━━━━━━━━━━━━━━━━━━━━━━┳━━━━━━━━━━━━━━━━━━━━━━━━┳━━━━━━━━━━━━━━━┓\n",
              "┃<span style=\"font-weight: bold\"> Layer (type)                    </span>┃<span style=\"font-weight: bold\"> Output Shape           </span>┃<span style=\"font-weight: bold\">       Param # </span>┃\n",
              "┡━━━━━━━━━━━━━━━━━━━━━━━━━━━━━━━━━╇━━━━━━━━━━━━━━━━━━━━━━━━╇━━━━━━━━━━━━━━━┩\n",
              "│ Input_Image (<span style=\"color: #0087ff; text-decoration-color: #0087ff\">InputLayer</span>)        │ (<span style=\"color: #00d7ff; text-decoration-color: #00d7ff\">None</span>, <span style=\"color: #00af00; text-decoration-color: #00af00\">224</span>, <span style=\"color: #00af00; text-decoration-color: #00af00\">224</span>, <span style=\"color: #00af00; text-decoration-color: #00af00\">3</span>)    │             <span style=\"color: #00af00; text-decoration-color: #00af00\">0</span> │\n",
              "├─────────────────────────────────┼────────────────────────┼───────────────┤\n",
              "│ Feature_extractor (<span style=\"color: #0087ff; text-decoration-color: #0087ff\">Functional</span>)  │ (<span style=\"color: #00d7ff; text-decoration-color: #00d7ff\">None</span>, <span style=\"color: #00af00; text-decoration-color: #00af00\">54</span>, <span style=\"color: #00af00; text-decoration-color: #00af00\">54</span>, <span style=\"color: #00af00; text-decoration-color: #00af00\">16</span>)     │         <span style=\"color: #00af00; text-decoration-color: #00af00\">1,136</span> │\n",
              "├─────────────────────────────────┼────────────────────────┼───────────────┤\n",
              "│ flatten_2 (<span style=\"color: #0087ff; text-decoration-color: #0087ff\">Flatten</span>)             │ (<span style=\"color: #00d7ff; text-decoration-color: #00d7ff\">None</span>, <span style=\"color: #00af00; text-decoration-color: #00af00\">46656</span>)          │             <span style=\"color: #00af00; text-decoration-color: #00af00\">0</span> │\n",
              "├─────────────────────────────────┼────────────────────────┼───────────────┤\n",
              "│ dense_6 (<span style=\"color: #0087ff; text-decoration-color: #0087ff\">Dense</span>)                 │ (<span style=\"color: #00d7ff; text-decoration-color: #00d7ff\">None</span>, <span style=\"color: #00af00; text-decoration-color: #00af00\">100</span>)            │     <span style=\"color: #00af00; text-decoration-color: #00af00\">4,665,700</span> │\n",
              "├─────────────────────────────────┼────────────────────────┼───────────────┤\n",
              "│ batch_normalization_14          │ (<span style=\"color: #00d7ff; text-decoration-color: #00d7ff\">None</span>, <span style=\"color: #00af00; text-decoration-color: #00af00\">100</span>)            │           <span style=\"color: #00af00; text-decoration-color: #00af00\">400</span> │\n",
              "│ (<span style=\"color: #0087ff; text-decoration-color: #0087ff\">BatchNormalization</span>)            │                        │               │\n",
              "├─────────────────────────────────┼────────────────────────┼───────────────┤\n",
              "│ dense_7 (<span style=\"color: #0087ff; text-decoration-color: #0087ff\">Dense</span>)                 │ (<span style=\"color: #00d7ff; text-decoration-color: #00d7ff\">None</span>, <span style=\"color: #00af00; text-decoration-color: #00af00\">10</span>)             │         <span style=\"color: #00af00; text-decoration-color: #00af00\">1,010</span> │\n",
              "├─────────────────────────────────┼────────────────────────┼───────────────┤\n",
              "│ batch_normalization_15          │ (<span style=\"color: #00d7ff; text-decoration-color: #00d7ff\">None</span>, <span style=\"color: #00af00; text-decoration-color: #00af00\">10</span>)             │            <span style=\"color: #00af00; text-decoration-color: #00af00\">40</span> │\n",
              "│ (<span style=\"color: #0087ff; text-decoration-color: #0087ff\">BatchNormalization</span>)            │                        │               │\n",
              "├─────────────────────────────────┼────────────────────────┼───────────────┤\n",
              "│ dense_8 (<span style=\"color: #0087ff; text-decoration-color: #0087ff\">Dense</span>)                 │ (<span style=\"color: #00d7ff; text-decoration-color: #00d7ff\">None</span>, <span style=\"color: #00af00; text-decoration-color: #00af00\">1</span>)              │            <span style=\"color: #00af00; text-decoration-color: #00af00\">11</span> │\n",
              "└─────────────────────────────────┴────────────────────────┴───────────────┘\n",
              "</pre>\n"
            ]
          },
          "metadata": {}
        },
        {
          "output_type": "display_data",
          "data": {
            "text/plain": [
              "\u001b[1m Total params: \u001b[0m\u001b[38;5;34m4,668,297\u001b[0m (17.81 MB)\n"
            ],
            "text/html": [
              "<pre style=\"white-space:pre;overflow-x:auto;line-height:normal;font-family:Menlo,'DejaVu Sans Mono',consolas,'Courier New',monospace\"><span style=\"font-weight: bold\"> Total params: </span><span style=\"color: #00af00; text-decoration-color: #00af00\">4,668,297</span> (17.81 MB)\n",
              "</pre>\n"
            ]
          },
          "metadata": {}
        },
        {
          "output_type": "display_data",
          "data": {
            "text/plain": [
              "\u001b[1m Trainable params: \u001b[0m\u001b[38;5;34m4,668,033\u001b[0m (17.81 MB)\n"
            ],
            "text/html": [
              "<pre style=\"white-space:pre;overflow-x:auto;line-height:normal;font-family:Menlo,'DejaVu Sans Mono',consolas,'Courier New',monospace\"><span style=\"font-weight: bold\"> Trainable params: </span><span style=\"color: #00af00; text-decoration-color: #00af00\">4,668,033</span> (17.81 MB)\n",
              "</pre>\n"
            ]
          },
          "metadata": {}
        },
        {
          "output_type": "display_data",
          "data": {
            "text/plain": [
              "\u001b[1m Non-trainable params: \u001b[0m\u001b[38;5;34m264\u001b[0m (1.03 KB)\n"
            ],
            "text/html": [
              "<pre style=\"white-space:pre;overflow-x:auto;line-height:normal;font-family:Menlo,'DejaVu Sans Mono',consolas,'Courier New',monospace\"><span style=\"font-weight: bold\"> Non-trainable params: </span><span style=\"color: #00af00; text-decoration-color: #00af00\">264</span> (1.03 KB)\n",
              "</pre>\n"
            ]
          },
          "metadata": {}
        }
      ]
    },
    {
      "cell_type": "code",
      "execution_count": 15,
      "id": "c9e54906",
      "metadata": {
        "id": "c9e54906"
      },
      "outputs": [],
      "source": [
        "lenet_model.compile(optimizer= optimizers.Adam(learning_rate =0.01),\n",
        "              loss = losses.BinaryCrossentropy(),\n",
        "              metrics = ['accuracy'])"
      ]
    },
    {
      "cell_type": "code",
      "execution_count": 16,
      "id": "46509109",
      "metadata": {
        "colab": {
          "base_uri": "https://localhost:8080/"
        },
        "id": "46509109",
        "outputId": "de22554d-0a13-4e25-d14d-f7fc03204c4b"
      },
      "outputs": [
        {
          "output_type": "stream",
          "name": "stdout",
          "text": [
            "Epoch 1/20\n",
            "\u001b[1m689/689\u001b[0m \u001b[32m━━━━━━━━━━━━━━━━━━━━\u001b[0m\u001b[37m\u001b[0m \u001b[1m52s\u001b[0m 64ms/step - accuracy: 0.8375 - loss: 0.3810 - val_accuracy: 0.9321 - val_loss: 0.2217\n",
            "Epoch 2/20\n",
            "\u001b[1m689/689\u001b[0m \u001b[32m━━━━━━━━━━━━━━━━━━━━\u001b[0m\u001b[37m\u001b[0m \u001b[1m44s\u001b[0m 63ms/step - accuracy: 0.9387 - loss: 0.1849 - val_accuracy: 0.9430 - val_loss: 0.1782\n",
            "Epoch 3/20\n",
            "\u001b[1m689/689\u001b[0m \u001b[32m━━━━━━━━━━━━━━━━━━━━\u001b[0m\u001b[37m\u001b[0m \u001b[1m35s\u001b[0m 51ms/step - accuracy: 0.9427 - loss: 0.1749 - val_accuracy: 0.5100 - val_loss: 0.4543\n",
            "Epoch 4/20\n",
            "\u001b[1m689/689\u001b[0m \u001b[32m━━━━━━━━━━━━━━━━━━━━\u001b[0m\u001b[37m\u001b[0m \u001b[1m35s\u001b[0m 51ms/step - accuracy: 0.9531 - loss: 0.1498 - val_accuracy: 0.4969 - val_loss: 0.6637\n",
            "Epoch 5/20\n",
            "\u001b[1m689/689\u001b[0m \u001b[32m━━━━━━━━━━━━━━━━━━━━\u001b[0m\u001b[37m\u001b[0m \u001b[1m35s\u001b[0m 51ms/step - accuracy: 0.9550 - loss: 0.1373 - val_accuracy: 0.9042 - val_loss: 0.3607\n",
            "Epoch 6/20\n",
            "\u001b[1m689/689\u001b[0m \u001b[32m━━━━━━━━━━━━━━━━━━━━\u001b[0m\u001b[37m\u001b[0m \u001b[1m36s\u001b[0m 52ms/step - accuracy: 0.9606 - loss: 0.1262 - val_accuracy: 0.8508 - val_loss: 0.5172\n",
            "Epoch 7/20\n",
            "\u001b[1m689/689\u001b[0m \u001b[32m━━━━━━━━━━━━━━━━━━━━\u001b[0m\u001b[37m\u001b[0m \u001b[1m34s\u001b[0m 50ms/step - accuracy: 0.9621 - loss: 0.1180 - val_accuracy: 0.9136 - val_loss: 0.2853\n",
            "Epoch 8/20\n",
            "\u001b[1m689/689\u001b[0m \u001b[32m━━━━━━━━━━━━━━━━━━━━\u001b[0m\u001b[37m\u001b[0m \u001b[1m36s\u001b[0m 52ms/step - accuracy: 0.9668 - loss: 0.1044 - val_accuracy: 0.9332 - val_loss: 0.2478\n",
            "Epoch 9/20\n",
            "\u001b[1m689/689\u001b[0m \u001b[32m━━━━━━━━━━━━━━━━━━━━\u001b[0m\u001b[37m\u001b[0m \u001b[1m35s\u001b[0m 51ms/step - accuracy: 0.9593 - loss: 0.1250 - val_accuracy: 0.9477 - val_loss: 0.1757\n",
            "Epoch 10/20\n",
            "\u001b[1m689/689\u001b[0m \u001b[32m━━━━━━━━━━━━━━━━━━━━\u001b[0m\u001b[37m\u001b[0m \u001b[1m40s\u001b[0m 50ms/step - accuracy: 0.9689 - loss: 0.0989 - val_accuracy: 0.9470 - val_loss: 0.1775\n",
            "Epoch 11/20\n",
            "\u001b[1m689/689\u001b[0m \u001b[32m━━━━━━━━━━━━━━━━━━━━\u001b[0m\u001b[37m\u001b[0m \u001b[1m35s\u001b[0m 51ms/step - accuracy: 0.9731 - loss: 0.0872 - val_accuracy: 0.9474 - val_loss: 0.1856\n",
            "Epoch 12/20\n",
            "\u001b[1m689/689\u001b[0m \u001b[32m━━━━━━━━━━━━━━━━━━━━\u001b[0m\u001b[37m\u001b[0m \u001b[1m44s\u001b[0m 64ms/step - accuracy: 0.9725 - loss: 0.0888 - val_accuracy: 0.9474 - val_loss: 0.2254\n",
            "Epoch 13/20\n",
            "\u001b[1m689/689\u001b[0m \u001b[32m━━━━━━━━━━━━━━━━━━━━\u001b[0m\u001b[37m\u001b[0m \u001b[1m36s\u001b[0m 52ms/step - accuracy: 0.9727 - loss: 0.0876 - val_accuracy: 0.9477 - val_loss: 0.2037\n",
            "Epoch 14/20\n",
            "\u001b[1m689/689\u001b[0m \u001b[32m━━━━━━━━━━━━━━━━━━━━\u001b[0m\u001b[37m\u001b[0m \u001b[1m41s\u001b[0m 51ms/step - accuracy: 0.9779 - loss: 0.0717 - val_accuracy: 0.9474 - val_loss: 0.2057\n",
            "Epoch 15/20\n",
            "\u001b[1m689/689\u001b[0m \u001b[32m━━━━━━━━━━━━━━━━━━━━\u001b[0m\u001b[37m\u001b[0m \u001b[1m41s\u001b[0m 51ms/step - accuracy: 0.8388 - loss: 0.3717 - val_accuracy: 0.9034 - val_loss: 0.3004\n",
            "Epoch 16/20\n",
            "\u001b[1m689/689\u001b[0m \u001b[32m━━━━━━━━━━━━━━━━━━━━\u001b[0m\u001b[37m\u001b[0m \u001b[1m42s\u001b[0m 52ms/step - accuracy: 0.9150 - loss: 0.2433 - val_accuracy: 0.7096 - val_loss: 0.6793\n",
            "Epoch 17/20\n",
            "\u001b[1m689/689\u001b[0m \u001b[32m━━━━━━━━━━━━━━━━━━━━\u001b[0m\u001b[37m\u001b[0m \u001b[1m44s\u001b[0m 64ms/step - accuracy: 0.9276 - loss: 0.2064 - val_accuracy: 0.9408 - val_loss: 0.3014\n",
            "Epoch 18/20\n",
            "\u001b[1m689/689\u001b[0m \u001b[32m━━━━━━━━━━━━━━━━━━━━\u001b[0m\u001b[37m\u001b[0m \u001b[1m36s\u001b[0m 51ms/step - accuracy: 0.9323 - loss: 0.1889 - val_accuracy: 0.9434 - val_loss: 3.9137\n",
            "Epoch 19/20\n",
            "\u001b[1m689/689\u001b[0m \u001b[32m━━━━━━━━━━━━━━━━━━━━\u001b[0m\u001b[37m\u001b[0m \u001b[1m36s\u001b[0m 51ms/step - accuracy: 0.9471 - loss: 0.1602 - val_accuracy: 0.9423 - val_loss: 0.2388\n",
            "Epoch 20/20\n",
            "\u001b[1m689/689\u001b[0m \u001b[32m━━━━━━━━━━━━━━━━━━━━\u001b[0m\u001b[37m\u001b[0m \u001b[1m35s\u001b[0m 51ms/step - accuracy: 0.9505 - loss: 0.1449 - val_accuracy: 0.9481 - val_loss: 0.7868\n"
          ]
        }
      ],
      "source": [
        "history = lenet_model.fit(train_dataset, validation_data = val_dataset, epochs =20, verbose =1)"
      ]
    },
    {
      "cell_type": "code",
      "execution_count": 17,
      "id": "sMEYN7fWqQB5",
      "metadata": {
        "colab": {
          "base_uri": "https://localhost:8080/",
          "height": 472
        },
        "id": "sMEYN7fWqQB5",
        "outputId": "a87eb30d-5b87-48d0-9504-51b37daa669a"
      },
      "outputs": [
        {
          "output_type": "display_data",
          "data": {
            "text/plain": [
              "<Figure size 640x480 with 1 Axes>"
            ],
            "image/png": "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\n"
          },
          "metadata": {}
        }
      ],
      "source": [
        "plt.plot(history.history['loss'])\n",
        "plt.plot(history.history['val_loss'])\n",
        "plt.title('Model loss')\n",
        "plt.ylabel('loss')\n",
        "plt.xlabel('epoch')\n",
        "plt.legend(['train_loss','val_loss'])\n",
        "plt.show()"
      ]
    },
    {
      "cell_type": "code",
      "execution_count": 18,
      "id": "TZ1-oHnfrk3U",
      "metadata": {
        "colab": {
          "base_uri": "https://localhost:8080/",
          "height": 472
        },
        "id": "TZ1-oHnfrk3U",
        "outputId": "f6e42374-5b66-41e4-f78c-365aa768b64e"
      },
      "outputs": [
        {
          "output_type": "display_data",
          "data": {
            "text/plain": [
              "<Figure size 640x480 with 1 Axes>"
            ],
            "image/png": "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\n"
          },
          "metadata": {}
        }
      ],
      "source": [
        "plt.plot(history.history['accuracy'])\n",
        "plt.plot(history.history['val_accuracy'])\n",
        "plt.title('Model accuracy')\n",
        "plt.ylabel('accuracy')\n",
        "plt.xlabel('epoch')\n",
        "plt.legend(['train_accuracy','val_accuracy'])\n",
        "plt.show()"
      ]
    },
    {
      "cell_type": "code",
      "execution_count": 19,
      "id": "LA-T6tBvsDcb",
      "metadata": {
        "colab": {
          "base_uri": "https://localhost:8080/"
        },
        "id": "LA-T6tBvsDcb",
        "outputId": "0a5c6ad6-6696-43a0-f2af-5b45be8c91e2"
      },
      "outputs": [
        {
          "output_type": "execute_result",
          "data": {
            "text/plain": [
              "<_PrefetchDataset element_spec=(TensorSpec(shape=(None, 224, 224, 3), dtype=tf.float32, name=None), TensorSpec(shape=(None,), dtype=tf.int64, name=None))>"
            ]
          },
          "metadata": {},
          "execution_count": 19
        }
      ],
      "source": [
        "test_dataset"
      ]
    },
    {
      "cell_type": "code",
      "execution_count": 20,
      "id": "OoE_G2EyVimV",
      "metadata": {
        "colab": {
          "base_uri": "https://localhost:8080/"
        },
        "id": "OoE_G2EyVimV",
        "outputId": "ff8af9cc-c25c-498f-95e6-8038fc348c99"
      },
      "outputs": [
        {
          "output_type": "stream",
          "name": "stdout",
          "text": [
            "\u001b[1m87/87\u001b[0m \u001b[32m━━━━━━━━━━━━━━━━━━━━\u001b[0m\u001b[37m\u001b[0m \u001b[1m14s\u001b[0m 38ms/step - accuracy: 0.9398 - loss: 0.1694\n"
          ]
        },
        {
          "output_type": "execute_result",
          "data": {
            "text/plain": [
              "[0.16996879875659943, 0.9394268989562988]"
            ]
          },
          "metadata": {},
          "execution_count": 20
        }
      ],
      "source": [
        "### ---> MODEL EVALUATION AND TESTING\n",
        "\n",
        "lenet_model.evaluate(test_dataset)"
      ]
    },
    {
      "cell_type": "code",
      "execution_count": 21,
      "id": "7qmwthTIWx4y",
      "metadata": {
        "id": "7qmwthTIWx4y"
      },
      "outputs": [],
      "source": [
        "def parasite_or_not(x):\n",
        "  if(x<0.5):\n",
        "    return str('P')\n",
        "  else:\n",
        "    return str('U')"
      ]
    },
    {
      "cell_type": "code",
      "execution_count": 22,
      "id": "IVUZ5OGHXX9N",
      "metadata": {
        "colab": {
          "base_uri": "https://localhost:8080/"
        },
        "id": "IVUZ5OGHXX9N",
        "outputId": "7474c197-681f-4fe3-eb1b-216cc372d6b8"
      },
      "outputs": [
        {
          "output_type": "stream",
          "name": "stdout",
          "text": [
            "\u001b[1m1/1\u001b[0m \u001b[32m━━━━━━━━━━━━━━━━━━━━\u001b[0m\u001b[37m\u001b[0m \u001b[1m11s\u001b[0m 11s/step\n"
          ]
        },
        {
          "output_type": "execute_result",
          "data": {
            "text/plain": [
              "np.float32(0.9343418)"
            ]
          },
          "metadata": {},
          "execution_count": 22
        }
      ],
      "source": [
        "lenet_model.predict(test_dataset.take(1))[0][0]"
      ]
    },
    {
      "cell_type": "code",
      "execution_count": 23,
      "id": "eehzeVqkWam3",
      "metadata": {
        "colab": {
          "base_uri": "https://localhost:8080/",
          "height": 54
        },
        "id": "eehzeVqkWam3",
        "outputId": "a2f6fd0e-bdf1-4ba9-d8f1-2d736ed852b6"
      },
      "outputs": [
        {
          "output_type": "stream",
          "name": "stdout",
          "text": [
            "\u001b[1m1/1\u001b[0m \u001b[32m━━━━━━━━━━━━━━━━━━━━\u001b[0m\u001b[37m\u001b[0m \u001b[1m11s\u001b[0m 11s/step\n"
          ]
        },
        {
          "output_type": "execute_result",
          "data": {
            "text/plain": [
              "'P'"
            ],
            "application/vnd.google.colaboratory.intrinsic+json": {
              "type": "string"
            }
          },
          "metadata": {},
          "execution_count": 23
        }
      ],
      "source": [
        "parasite_or_not(lenet_model.predict(test_dataset.take(1))[0][0])"
      ]
    },
    {
      "cell_type": "code",
      "execution_count": 24,
      "id": "6a6TZ43eXmYF",
      "metadata": {
        "colab": {
          "base_uri": "https://localhost:8080/",
          "height": 756
        },
        "id": "6a6TZ43eXmYF",
        "outputId": "1a22af18-2da4-40a1-8fff-b8e77a348ef8"
      },
      "outputs": [
        {
          "output_type": "stream",
          "name": "stderr",
          "text": [
            "WARNING:matplotlib.image:Clipping input data to the valid range for imshow with RGB data ([0..1] for floats or [0..255] for integers). Got range [0.0..220.354].\n"
          ]
        },
        {
          "output_type": "stream",
          "name": "stdout",
          "text": [
            "\u001b[1m1/1\u001b[0m \u001b[32m━━━━━━━━━━━━━━━━━━━━\u001b[0m\u001b[37m\u001b[0m \u001b[1m0s\u001b[0m 484ms/step\n"
          ]
        },
        {
          "output_type": "stream",
          "name": "stderr",
          "text": [
            "WARNING:matplotlib.image:Clipping input data to the valid range for imshow with RGB data ([0..1] for floats or [0..255] for integers). Got range [0.0..199.10042].\n"
          ]
        },
        {
          "output_type": "stream",
          "name": "stdout",
          "text": [
            "\u001b[1m1/1\u001b[0m \u001b[32m━━━━━━━━━━━━━━━━━━━━\u001b[0m\u001b[37m\u001b[0m \u001b[1m0s\u001b[0m 41ms/step\n"
          ]
        },
        {
          "output_type": "stream",
          "name": "stderr",
          "text": [
            "WARNING:matplotlib.image:Clipping input data to the valid range for imshow with RGB data ([0..1] for floats or [0..255] for integers). Got range [0.0..221.91295].\n"
          ]
        },
        {
          "output_type": "stream",
          "name": "stdout",
          "text": [
            "\u001b[1m1/1\u001b[0m \u001b[32m━━━━━━━━━━━━━━━━━━━━\u001b[0m\u001b[37m\u001b[0m \u001b[1m0s\u001b[0m 42ms/step\n"
          ]
        },
        {
          "output_type": "stream",
          "name": "stderr",
          "text": [
            "WARNING:matplotlib.image:Clipping input data to the valid range for imshow with RGB data ([0..1] for floats or [0..255] for integers). Got range [0.0..218.57506].\n"
          ]
        },
        {
          "output_type": "stream",
          "name": "stdout",
          "text": [
            "\u001b[1m1/1\u001b[0m \u001b[32m━━━━━━━━━━━━━━━━━━━━\u001b[0m\u001b[37m\u001b[0m \u001b[1m0s\u001b[0m 40ms/step\n"
          ]
        },
        {
          "output_type": "stream",
          "name": "stderr",
          "text": [
            "WARNING:matplotlib.image:Clipping input data to the valid range for imshow with RGB data ([0..1] for floats or [0..255] for integers). Got range [0.0..201.40607].\n"
          ]
        },
        {
          "output_type": "stream",
          "name": "stdout",
          "text": [
            "\u001b[1m1/1\u001b[0m \u001b[32m━━━━━━━━━━━━━━━━━━━━\u001b[0m\u001b[37m\u001b[0m \u001b[1m0s\u001b[0m 41ms/step\n"
          ]
        },
        {
          "output_type": "stream",
          "name": "stderr",
          "text": [
            "WARNING:matplotlib.image:Clipping input data to the valid range for imshow with RGB data ([0..1] for floats or [0..255] for integers). Got range [0.0..208.5685].\n"
          ]
        },
        {
          "output_type": "stream",
          "name": "stdout",
          "text": [
            "\u001b[1m1/1\u001b[0m \u001b[32m━━━━━━━━━━━━━━━━━━━━\u001b[0m\u001b[37m\u001b[0m \u001b[1m0s\u001b[0m 40ms/step\n"
          ]
        },
        {
          "output_type": "stream",
          "name": "stderr",
          "text": [
            "WARNING:matplotlib.image:Clipping input data to the valid range for imshow with RGB data ([0..1] for floats or [0..255] for integers). Got range [0.0..217.42082].\n"
          ]
        },
        {
          "output_type": "stream",
          "name": "stdout",
          "text": [
            "\u001b[1m1/1\u001b[0m \u001b[32m━━━━━━━━━━━━━━━━━━━━\u001b[0m\u001b[37m\u001b[0m \u001b[1m0s\u001b[0m 38ms/step\n"
          ]
        },
        {
          "output_type": "stream",
          "name": "stderr",
          "text": [
            "WARNING:matplotlib.image:Clipping input data to the valid range for imshow with RGB data ([0..1] for floats or [0..255] for integers). Got range [0.0..218.30293].\n"
          ]
        },
        {
          "output_type": "stream",
          "name": "stdout",
          "text": [
            "\u001b[1m1/1\u001b[0m \u001b[32m━━━━━━━━━━━━━━━━━━━━\u001b[0m\u001b[37m\u001b[0m \u001b[1m0s\u001b[0m 42ms/step\n"
          ]
        },
        {
          "output_type": "stream",
          "name": "stderr",
          "text": [
            "WARNING:matplotlib.image:Clipping input data to the valid range for imshow with RGB data ([0..1] for floats or [0..255] for integers). Got range [0.0..218.42828].\n"
          ]
        },
        {
          "output_type": "stream",
          "name": "stdout",
          "text": [
            "\u001b[1m1/1\u001b[0m \u001b[32m━━━━━━━━━━━━━━━━━━━━\u001b[0m\u001b[37m\u001b[0m \u001b[1m0s\u001b[0m 40ms/step\n"
          ]
        },
        {
          "output_type": "display_data",
          "data": {
            "text/plain": [
              "<Figure size 640x480 with 9 Axes>"
            ],
            "image/png": "iVBORw0KGgoAAAANSUhEUgAAAd4AAAGbCAYAAABqC/EcAAAAOnRFWHRTb2Z0d2FyZQBNYXRwbG90bGliIHZlcnNpb24zLjEwLjAsIGh0dHBzOi8vbWF0cGxvdGxpYi5vcmcvlHJYcgAAAAlwSFlzAAAPYQAAD2EBqD+naQAAXBtJREFUeJzt3Xd4VGX6P/73mZbJpEAKSYBQQgs9gEjoIE3pAopiReGLBcS2uwgoCh9dXVFsFMGfAtLUFRSRIi5VQKQjoQQkKCSBhBRSJpl+fn9kM0tIQmYmM3PmzLxf15VLc+aUO+HJuc/znKcIoiiKICIiIq9QSB0AERFRIGHiJSIi8iImXiIiIi9i4iUiIvIiJl4iIiIvYuIlIiLyIiZeIiIiL2LiJSIi8iImXiIiIi9i4iUiIvIiv0y8K1asgCAI9i+tVotWrVph2rRpyMrKuu2xb7zxRoVjdTod2rZti1dffRWFhYVe+gkoULHsktyUl7ucnJwqP2/fvj369+/v8XPIiUrqADxp3rx5SEhIgMFgwL59+7BkyRJs2bIFKSkp0Ol0tz12yZIlCA0NRXFxMbZv34633noLO3fuxP79+yEIgpd+AgpULLtE/suvE+/QoUPRtWtXAMDkyZMRFRWFBQsWYOPGjZgwYcJtj73vvvsQHR0NAHj66acxbtw4bNiwAQcPHkSPHj08HjsFNpZdIv/ll03N1RkwYAAA4NKlSwCAixcv4uLFiy4dS+RNLLvkLy5fvoxz585JHYak/LrGe6vyG1VUVBQAYODAgQCAP//80+ljibyJZZf8xWOPPYY9e/YgkFek9evEW1BQgJycHBgMBuzfvx/z5s1DcHAwRowYUeOxeXl5AGB/T7Z48WLExsaiT58+ng6biGWXyI/5deIdNGhQhe+bNGmCNWvWoGHDhgBuX1tITEys8H27du2wcuXKGju2ELkDyy75q927d0sdguT8OvEuWrQIrVq1gkqlQmxsLBITE6FQOPZae/369QgPD4darUZ8fDyaN2/u4WiJ/odll/yJO3rT+1OPfL9OvN26dbP3DHVW37597T1DibyNZZfkQqvVAgBKS0ur/LykpMS+jyfPIScB1auZiIjcq0mTJgCA1NTUSp+VlJTgypUr9n08eQ45CejE68yQDCJfwrJLvmLgwIHQaDRYsmQJbDZbhc+WLVsGi8WCoUOH2rdVNZzI2XPInV83NdfEmSEZRL6EZZd8RUxMDObMmYNXX30Vffv2xahRo6DT6XDgwAGsW7cOQ4YMwciRI+37VzWcyNlzyF1AJ14iIqq92bNno2nTpli4cCHmzZsHi8WChIQEzJ07FzNmzHCoY6A7ziEXghjIo5iJiIi8zH8eIYiIiGSAiZeIiMiLmHiJiIi8iImXiIjIi5h4iYiIvIiJl4iIyIscTryCIHj969ChQ5782e1mzpwpyc/n6S8qI/W/w81fs2bNAgC88sorHr3ODz/8AAAYMGCA5D8zy67rpP53cOYrOTm5VmvsPvzww5L/DN4qu5xAg8hDtFotIiMjK2wLDw+3/7dBgwYevTYAREdHV3sdvV6PgoICj8VA8qdRqxEVHe1QQqlXr16trhUZGVmrvwlRFJGXmwOjyVyrOLzB4Qk0PPkUWr9+/SpnJhk/fjxiY2M9dt1yBw4cwNGjRytsS09Px/z582v1BCc1OcfuTlLVoO69916sWrWqwja1Wo2goCAYjUaYzZ67QWi1WqhUKpSWlsJqtVa5z/49B3DfA+NQrC/2WByuYtktI3Xtf8yoEfh8+QqoNUE17qtQKBAcHOxyzAaDARaLxaVjAcBsMmLyExOx4YcfXT6HOzhSdn2ixhsVFYVp06ZBqVRKcv2ePXuiZ8+eFbYdP34c8+fPlyQe8g8qlQqhoaFVfhYUFISgoJpvZrUVHBxc7Wfde3dHWHiYTyZe8g0R0TGIiIzyyrVqv+xfKOpGx7glFk/zeuKNjo6utFZos2bNvB1GjbRaLdq0aVNppYxLly7BaDRKFBX5qvj4+EpJtmHDhhJF4xilUoGWLVuiTp069m1msxlpaWmscQa4pk2bQqvVon79+lKH4pT69eujdevW1X5eVFSEjIwML0ZUNa83Nb/xxhv2DiY3n1upVErerHIzURQrNXuIoojk5GScOHFCmqCcxJtnGW+Uq++//x7Dhg2rsE2hUEjWiuMIURRhtVorlJM///wTHTp0kPzhkmW3jBT3RIVCgd9++w1JSUk+X4ZvZbVaK1WWbvb9999j/PjxHo3BJ5uaFQoF1Gq1ty/rNEEQKsVps9l86uGAfIdSqZRFub6ZIAhQqSreAlQqFcs4QaVSya48A2V/h7d7UPCVhwivJN7Y2FgkJCQA8P3mt5p06NABQUFBsNlsOHnypOQ1A/KuyMhILF26tNK70zvvvFOiiNwrNjYWGzZsqFRrmD17Nk6ePClRVOQps2bNqtS/RRAEn3z95w49e/bEjz/+CLPZjGeeeQbXrl2TJA6vNDVPnToVn3zyiVvOJaWbf1VGoxHt2rVDWlqahBHdHpvryrizvNWvXx+pqakICwtz2znlYODAgdi5c6fXrseyW8bT98r169dj7NixHr2GLzIajWjbtq1H7t8+1dQs12R7M3/4Gcg1TZs2RfPmzREVFeUzzVXe1KVLFwiCgJycHNZ8ZS44OBjdu3eHQqGo9dhbuVIoFOjVqxcSEhJgsVhw4MABjw7vu5XHarxKpRJffvklmjZtiri4OL9rurDZbDhx4gQMBgPWrFmDxYsXSx1SJaw1lHHHA9OsWbPw1ltvuSEaefvxxx8xcuRIj1+HZbeMJx72mzdvjtOnT3tlOJsc3LhxA4mJicjOznbL+SSt8QqCgE6dOqFt27aeuoSkFAoFunTpAgD45ZdfJI6GiIjkwicm0JA7hUJh7x166/AMki+FQoGhQ4ciJCQEHTp0kDocn9CgQQOMHz8eoihi27ZtKCoqkjokqoZSqcSwYcMqdQSMi4urNEtgIFOr1Rg9ejQKCgpQWlqKLVu2VDvbm7t4rKlZpVLh5MmTflvjvVlOTo69meLdd9/FypUrJY6oDB8AyrjaXKfVanHmzBl7j3z6H7PZjI4dO+LcuXMeOT/LbpnaNDWHhITg3LlziI+Pd2NE/i09PR2tW7eGXq93+Rw+1bnKn908G9etk+KT/CgUCmg0Gmi1Wnaou42goCD7NH8Gg0HiaKhc+Zhyll/nCYIArVYLq9UKs9nssZqv2xPvuLFjEVe/PhQKBSIiItx9ep/Xu3dvmEwm3LhxA+vWrbvtLCrkm4YOHYpPPvkEgiDIfty5p6hUKvt4SL1ej0GDBiErK0vqsAjAqFGj8P7770OhUHhlkRl/Ehsbi6NHj8Jms+Hll1/Gd99955HruD3xvvTyy5UGZAeSsWPHYuzYsTh//jy++eYbJl4ZCgkJYfNyDQRBsDdhFhUVBeQQK1/F8us6lUqFJk2aAEC1C5y45ToeOzORjDRt2hQPPfQQALAjlZM0Gg2mT5+OwsJC+7aCggIsXbq0Vsu8EUlp1KhRaNSoEQDg66+/xsWLF912brd3rtq/f39A13jL5ebmYunSpbBarcjIyMDSpUu9HgM7qJRxpOwOHDgQ//nPf7wQTWC4dOkS2rZt6/K7X5bdMq68o33kkUcqrQNNtTNs2DBs3brVoX3ZuUpCUVFR9lWYDh06hGXLlvFmQgFDpVKhfv36MBqNyMvLY+crD1Cr1ahXLxpAxeQciH1rPC0qKgoNGjQAIOL69Zxaz3LFxEtEbtewYUP8/vvvEEUREydOxIYNG6QOye906tQRO3b8B0DF9+tyXFXI1y1btuy/r02sGDhwEA4fPlqr8zHxekHTpk3x6aefQhRFvPfee/jjjz+kDonIoxQKhb1zyq1LD5J7KJVqhIbW4ZAhLyifhEQURSiVtX+wcftfxOXLl+1jWRMSEjgfKICYmBhMmTIFoihi9erVTLw+JD4+HiEhIfZOFES+TKPR2Hssl/e+Jflxe+J95JFH7AtsHz16NCBmrnJG8+bNcePGDQDAhQsXuJ6vxBYtWoShQ4ey1kCykJCQgGPHjkGtVrPMypjbE6+n57iUM0EQ8PnnnwMo+z3dcccdSElJkTiqwFY+yw+RHAiCALVazTIrc5wp28uUSqX9iygQzJgxA5s2bcKmTZuQlJQkdThEtfLee+9h06ZN+P77711+ReX2Gm9SUhLCwsKgUqmg0+ncfXq/cscdd6Bu3bq4du0a3/uS3+rSpYt9Cc0PP/xQ2mCIakEQBPTq1QtA2UIhM2fOdOk8bk+8ixcvRo8ePdx9Wr+jVCqxfPlyAMDSpUvxzDPPSBxR4NDpdEhOToYgCPbFLcg7OnfuDFEUkZubi5MnT0odDpEkPNLPny/9HcPfkzQaN26Mn376ie/JJDB//nwAwObNmzFixAiJoyGSBt/xEhEReRETLxERkRe5pam5fNyuIAhQKJjLnXXzkBar1cqlBImI/JhbsmTHjh1x6tQpnDp1isMFXHD//fcjJSUFKSkpmDZtmtThEHmcQqGAVqtFUFAQ+zqQbAUFBUGr1To9LapbarzBwcFo1aoV/4BcVLduXdStWxcA2MuWAkK/fv1w5swZWCwWDB061K1rnRJ5g0qlwqZNm2A2m7Fy5UrMnTvX8WNdvWhkZCQeffRRKBQKzhnqRsnJyXjxxRcBADt37uSQC/JLOp0OCQkJMJvN0Gg0UodD5DRBEBAfHw+gbNlAZ7iceGNiYjB//nwOyXCzIUOGYMiQIQCAadOmMfESEfm4rl27OjWZBtfrIiIiqoUePXo4NXGU04l31KhR6NGjB6KiotiD2cNGjRqF+Ph4ZGdn46OPPmJv51oK0YUgLDwM9aLrSR0K3aRevXrIz89HcVExivXFUodD5HGCKIqiQzv+t+PUxx9/jOeee86jQVFFZ86cQVJSEiwWi1PHOfhP6/cEQUCdOnXw1eqv0bNPDyihhC5cx86APkAURZSUlMBqteLQr7/hvgfuR0FBAcvuf91aRlu3bo3ff/+dr/hkjk3NMqDRaNCsWTNYLBYYjUZkZGRIHZLshISEoHf/XggNDZU6FLqJIAgICQkBAHTv1QMhISEoKCiQOCoiz2LilYFmzZrZO1n99ttv6N+/v7QBEZFXxcTEICIiAgkJCWyp8QNMvDJQPtkAADYxEQWgmTNn4tlnn4UgCFzL2w84nHg7d+4MoKwjBEknJCTE/m+RmpqKkpISiSMiIk9TKpUc7+xHHE68R44cAcCl7KTWsWNHHDlyBKIoolevXvjtt9+kDsnn/fDDD9BqtfZWAyIiKTmceDl0yDcIggBBECCKIh+CHDRy5EipQyAisuM7XvJ7d911F6Kjo/Hll18iODhY6nCoGkqlEr169UJOTo7UoRB5lMOJ9+ZxdaxpkZzs3r0bDRo0gNVqlToUuo3g4GB88803UodB5HEOtx8nJycjOTkZ//73vz0ZDzmhvNmZD0JERPLhcI338OHDAICsrCyPBUPOWbFiBfR6PSwWCx544AFcunRJ6pCIiKgGfMcrU4IgoFWrVgAAs9nMHrtERDLBrsrk94KCghAUFCR1GEREAFjjpQBw5swZqFQq6HQ6qUMhInI+8e7atQsWiwWRkZF49NFHOb6XfF6zZs2kDoGIyM7pZQHLcXkq32G1WvHxxx8jOzsbR48exc8//wyAywISyd3MmTMBlE0C07NnT4mjIXdh4vUzn3zyCaZPnw6AiZeIyBexnZiIiMiLmHiJiIi8yOVezWazGZcuXYJKpUJQUBAaNGjAGZTIJ6WlpUGlUiE+Pp6dAYlIci4n3rS0NHTs2BFA2XSSu3fvdldMVAt169a1T6xBZdq2bYsGDRrg999/R2hoqNThEFGAcznxiqIIo9EIADCZTG4LiGrnoYcewgMPPCB1GD7FaDTayyoRkdTcMoGGXq/H8ePH7dMYhoSEuOO05IK8vDykp6cDADp37ixxNERUG/fddx8AYNKkSRg6dKjE0ZC7uCXxnjp1Cl27doUgCNi3bx969OjhjtOSC77++mv7cCKbzSZxNERUG+vXrwcA9OvXT+JIyJ3cNmWkKIr2L5IO/w2IiHyb2+dqXvTBAugLCqC6abWchg0bssMPERERPJB41367Hmu/XV9h29SpU7Fw4UJ3X4qIiEh2vLI6kSiKVb5vFASBY3/d4ObmZTYzV81gMGDr1q3QarUIDQ1Fv379OKbXx1gsFuzatQsGgwEjR46UOhyfkpKSgk2bNrHs+gmX52p2RnR0NBo1alRp++zZszFu3DiXz0tlLBYLHnjgAVy6dAnXr1+392pmEi7Decblobi4GImJicjMzGTZ/S+WXf/klRpvTk4OcnJyqtxOtSeKIs6ePYuzZ89KHQoRUcCxWq2wWq0AAI1GU+P+bK+QKVEUYTKZYDAYYDQaWUMgIpLIunXr0LFjR/tsjjXxSo2XPGPChAk4ceIERFG0Ny8TEZF35efnIzU11eH9WeOVsczMTKSlpeHSpUswm81ShyMbpSWlSL+cjsKCQljMFqnDIXJYfn4+Dv+yG4WFhdDr9WzpkilJa7w//fQT8vPzK2xr1KgRHnroIfZ2rkZGRgZWrVpl/39y3pUrV9CtezeoVWp8uepLDBo0SOqQiBySlZWFoaPHICQsHF26dMGmTZukDolcIGni/e677/Ddd99V2Na7d2889NBDEkXk+/766y/MnDlT6jBkzSba7B37uHgCyU1hsR6FxXrk5uZKHQq5iE3NREREXuRznasuXbqEl19+2aljoqKi8I9//INj28ghMTEx+Nvf/galUok2bdpIHQ4RBRifS7wZGRn44IMPnDqmWbNmePnllwMi8TZr1sw+/eZ7772HP//8U9qAZCgsLAz33nsvVCoVYmNjpQ6HiGRIFEVkZGTAbDY73ezvc4mXbi8uLg5Tp06FKIpYvXo1E68L0tLS0KFDBwiCgA0bNnCdUyJymsViwciRI3Hu3DlYLM6NjpBN4m3RokW1M4I0atSIvaDJYaIo2jtVcc1iInKV0WiEwWBw+jhZJF61Wo0ffvgBLVu2rHYfpVLpxYiIiKR1/vx5jB8/HgDQuXNnzJo1S+KIyFGySLxAWWJVqWQTrscUFxfjzJkz9v8nosCUl5eHb7/9FgCg1+sljoac4XOZLCwsDO3bt6+wTa1WQ6vVShSRbzl16hR69eoFgKsPERFJxWQohdXi2oyBPpd4k5KSsHfvXqnD8Fk3r71LtTd79mwsWLAAXbp0wfz586UOh8glhw4dwsCBAwEAgwcPxiuvvCJxRP5JFEVMnz4dZ86cgUFfjL/++sul8/hc4i3vJMXOUuQNJ0+eBMDyRvKWm5uLnTt3AgAaNGggcTT+7ciRIzh48GCtzuETibd58+b48ssvoVAoEBYWJnU4FIBycnLw448/Aii7cXXp0kXiiAKDzWbD3r17UVxcbF/iksjXHDp0CNnZ2QBQaX0BV/hE4g0ODkZycjJ7JldDFEX7sBcOf/GMkydPYuTIkQCA8ePH4+uvv5Y4osBgtVrx7LPP4uzZs1KHQlStN954A1u3bnXb+SRNvAqFAgqFgr2Va3Dp0iWMGzcOFosFJSUlUofj90RRtC+zqFKp2AxNssLy6/skzXivv/46xo8fj6CgICgUXK+hOgaDASkpKU7PjkKu2bZtGzp06ICgoCBs3rwZ8fHxUodE5LBNmzahQ4cO0Ol02LJlC+Li4qQOiW4haeKNjY1F69atpQzB5xw9ehSHDx+usO3atWtsYvaioqIipKamQqvV2msORHJRWFiIwsJChISE8GHdR3k98Xbv3h3dunUDAHTo0MHbl/d5W7ZswZw5c6QOg/5Lr9ejqKgIGo0GQUFBUofjNywWC0pLS2GxWPhQ6SGizYaC7KuoU6cOBEFASEgIm52dUF4+Abj9AcbriXfYsGF47bXXvH1ZIqcZDAYMGjQISqUS06dPx4wZM6QOyW/s2bMHjz32GERRxPXr16UOxy+VlpZiwN1DodIEITo6Gnv37kWdOnWkDks2XnnlFfvMYM6uPlQT9moiuo2srCwAZc135D4GgwGZmZlSh+HXRADZOWUJgy0LzsvPz/dYGfVK4k1OTrYP1ejXr583LknkVrt378bs2bMRFhaGF198kc3OJCvFxcV48803odVqERUVhenTp3M0SRUKCgrw4YcfwmQy4cSJEx67jld+8127dsXs2bO9cSkijzhw4AAOHDiA+vXrY+rUqUy8JCslJSVYsGABgLIJi6ZOncrEW4WioiLMnz/f44tO8DdP5ASr1Yq//voLISEhUKvVaNiwITusOOHatWsoLS21N+GT91ksFvz555/QaDSIiYlBSEiI1CFJymazIT09HVar1WsjSJh4iZyQnZ2NO++8EwDQqlUrHDlyBGq1WuKo5OPJJ5/Erl27YLVapQ4lYF2+fBmdOnUCAKxbtw733nuvpPFIrbCwEL1798b169chiqJXpi31SuLNy8uzryFbr1491KtXzxuXJfIIg8EAAJxX2AUmk8n++yNpiKJo/zdgh6syRqPRq+XSK4n3q6++wjfffAMAmDt3Lt/3kl/IzMzEQw89VKGpuX379hyHjbKWgZdeegkmk6nC9lOnTkkUEVXl/fffx1dffQWgbCbBdu3aSRyRd5jNZrz00kvIysqC2WxGQUGBV6/vlcQriqK9aYlPWOQvioqK7OP8yrl7vJ9c6fV6rF+/nrVbH3fgwAH7/z/77LMSRuJdNpsNW7ZsQVpamiTX5wTJREREXsTOVURudPz4cQwaNKjCNo1Gg88//xz169eXKCrv+eKLL7B27VqUlpZWamYm3/byyy8jIiICCoUCixcvRosWLaQOyS1OnjyJl19+ucI2m82Gq1evShSRBIlXFEWIomj/Xk5DMW6Ou9yt8Ve1T22vQfKRn5+PHTt2VNim1WoDpsn14sWLlX5+kodjx44BKFuutbi4WOJo3Keqv0mpeT3xfvbZZ/YFhWfMmCGrruyiKOKJJ57A+fPnAQBjxozBP/7xjwr7fPzxx/bOCjVRKpVYvXo1jh8/jnfffRcAkJ6e7t6gSXJWqxW7du2y9+y/VUhICPr27SuLpTGzs7MrrZ51sz/++MOL0ZAniKKIX375BRkZGRW2t2jRAomJiRJF5ZzCwkLs27cPoij6ZIc+ryfe9PR0e3KR4yD6U6dO4fjx4wBgHwt3s7/++gsHDx506Fwqlco+mYCjx5D8mM1mTJo0qdrPExMT8fvvv0Oj0XgxKtccOnTIPv0r+SdRFDF9+vRK22fOnIl//vOfEkTkvLS0NIwcOdJnO/NK+o7XZrPBbDZDEAQolcpaNzuLolhh+SalUunRWsSNvFyUlpRAddMECs7+Q3Pyciovt9WVf4VCAaVS6eWoymrqt5ZNTnwRuMrv1zdz1727Nqoqp76+DrEgOvhS0RO/2Li4ONStWxetWrXChg0ban1zOX/+PMaOHWu/OaxcudK+9q872Gw2dO3a1V7j1Wm1iG/cCArF/+LOzs5GXl6ew+ds1qwZSkpKcO3aNbfFWY7vi8v4ej8CjUaDhISEauO8++678eGHH3o3KAAvvPACfvrppwrbiouLvfI6hGW3jC+V3aioqEqTHyUkJGDjxo2Szt72wQcfYNmyZRW2GQwG/Pnnn5LE40jZlbTGe+3aNVy7ds1tk3UbjUacO3fOnng9PdF1icGA8+cv1OocUo0jI99hMpmQmppa7edSTWqQkZGBc+fOSXJt8j25ubmVxqnf2llWCtevX5ddOfWJ4US5ubn45JNPat0sfPXqVYebbU+cOIG9e/c6dX4u2k1SsFgsKCoqqnE/hUIBnU7nUi3JaDRWGv7j6811JL2CghtIPXcOTRMSnDpOEASEhIQ4VVZFUURJSUmle7wch61J2tTsaTt37sRdd91V5WcffvghXnzxRS9H5F1SP4n6CjmW3ZtptVpERkbWuF/z5s2xY8cOl5r93nnnHXzyyScVtuXl5Uk2DIplt4wcym5kZCS0Wq1Tx0RFRWHv3r2oW7euw8eYzWYMHDgQFy9erLC9sLDQp4Y/+XxTMxHVzGAwIDMzs8b9QkNDXU5YhYWFDl2D6FbO9GkpZzKZnO5UKooisrOz/aKcOlzjJSIiotrz/RH7LlixYgUEQbB/abVatGrVCtOmTatx7PAbb7xR4VidToe2bdvi1VdfRWFhoZd+Ago05eUuJyenys/bt2+P/v37e/wcRK7ifddxft3UPG/ePCQkJMBgMGDfvn1YsmQJtmzZgpSUFOh0utseu2TJEoSGhqK4uBjbt2/HW2+9hZ07d2L//v2yeO9CRCQF3ndr5teJd+jQoejatSsAYPLkyYiKisKCBQuwceNGTJgw4bbH3nfffYiOjgYAPP300xg3bhw2bNiAgwcPokePHh6PnYhIjnjfrZlfNjVXZ8CAAQCAS5cuASib0P3WHnKOHkskpcuXL8tu7CIFJt53K/PrGu+tyv+xo6KiAAADBw4EAIdmOLn1WCIpPfbYY9izZw+H3ZDP4323Mr9OvAUFBcjJyYHBYMD+/fsxb948BAcHY8SIETUeW95Fvvxdw+LFixEbG4s+ffp4OmwiItnifbdmfp14b12QvEmTJlizZg0aNmwI4PZPXLcuf9WuXTusXLmyxs4BRN6we/duqUMgqhLvuzXz68S7aNEitGrVCiqVCrGxsUhMTHR4Wsr169cjPDwcarUa8fHxaN68uYejJbo9d/Tq9KeeoeSbeN+tmV8n3m7dutl71zmrb9++9t51RJ5WPuVeaWlplZ+XlJTUOC2fO85BVFu879YsoHo1E/mqJk2aAECVqxSVlJTgypUr9n08eQ4i8ryATrzOdGsn8qSBAwdCo9FgyZIlleawXbZsGSwWC4YOHWrfVtVwImfPQSQF3nf9vKm5Js50ayfypJiYGMyZMwevvvoq+vbti1GjRkGn0+HAgQNYt24dhgwZgpEjR9r3r2o4kbPnIJIC77sBnniJfMns2bPRtGlTLFy4EPPmzYPFYkFCQgLmzp2LGTNmONRBxR3nICLP4upEREREXsTHXyIiIi9i4iUiIvIiJl4iIiIvYuIlIiLyIiZeIiIiL2LiJSIi8iImXiIiIi9yOPEKguBzX++8844nfzc4dOiQ5D9jbb6ojKd+v61bt4bZbHYoBr1ej0aNGkleJuTyRWWk/neozZdCocDx48dr/BnT0tKg1Wrtx3Xr1q3CjGw2mw1dunSR/OdxZ9nlzFVEROQ0pVKJ2NjYaj9XKBRQq9U1nkelUqFBgwYwGo0AyqY+vVVMTAwaNGgAAMjKyoLVagUAhIWFISwsrMZr5OTkwGQy1biftzg8c5UUT6Ht27fHlClTqv28Z8+euOOOOzx2/aysLHzzzTcVtp04cQJffPGFx67pTpyUrExty65Wq8Vrr71W6Q88IiICEyZMgFKprPEcZrMZq1evRnFxcYXtV678hQULPrTfSKgMy24ZX679N23aFEeOHEFQUFC1+wQHB9f492Gz2VBSUmL/XqFQIDg42P6zi6KI0tJS2Gw2GI1GdO3a1T7P8yuvvILZs2fXGOvdd9+NAwcOOPBT1Z4jZdena7zNmjXDc889J9n1Y2NjK11//fr1skm85B4ajQZPPvkk4uLiXD6HWq3GE088UWn7xYt/4OOPFzLxkuwoFAqEhITUeo1nhUKB0NDQaj8XBAE6nQ5AWe345vnG1Wr1bY8FyhKhr81R7rXEq1Ao0KxZM6hUjl8yPj7egxG5JiwsDK1bt66wLTc3F9evX5coIvIUQRDQrFkzREREOFVunaHRBCExMdHeDJaenl6pVkwktbvvvhsTJkyosC00NNShpmR3UqvVePfdd+1/I0lJSQ4dN2vWLGRnZ8Nms2HOnDlIT0/3ZJg18lpTc3h4OE6fPn3bdwK3UigUDjXjeZPNZqtUO3nvvfcwa9YsiSKqHpvryrhadrVaLU6dOoWmTZtCqVR6pNlPFEVYLBb792PGjMHmzZvdfh25Ydkt4ytNzS+++CIWLFggdRi1ZrVa0alTJ6SkpHjsGj7X1KxSqbz+hORuCoWiUrOFrzVjkPsolUqP1XaBshvrzX8TvnKjJRIEAe3atUNQUBAaNWokdThuU/4z3ezq1avIzMz0WgweT7xDhgzB9OnToVKpEBER4enLSeK+++5D+/btK2zLyMjA1KlTK9RmSD6SkpJQp06d23Yc8YTExETk5OTYvz916hT0er1XYyACyipK3377LVq2bOk3D4QKhQJr166ttP3NN9/E66+/7rU4PJ54GzVqhOHDh3v6MpJq3rw5mjdvXmHb+fPn/aawBhqVSoU1a9agbdu2Xr/2/Pnz7f8viiK6d++Ow4cPez0OIgD28bj+orqxtt6+V3s88QZy8gnkn13upJrIgWWGpPbpp5+idevWEATBJzu4esJjjz2Gvn37wmq14l//mo/t27d59HoeSbyCIGDFihVo0aKFU52p/EmjRo2wZ88e2Gw2+7bjx49j2rRpEkZFNenZsyciIyNrHKLgLT179kR0dLRD++r1evzyyy/smES10rlzZ3Tr1k3qMLyqSZMmaNKkCQBgw4YN2L7ds9fzWOJNSkpyuKu3PwoODkb37t0rbPOlmVOoMkEQ8NFHH6Fr165ShwKgLJ4PP/zQ4f1TU1PRoUMHh6expMAWHh6Ou+66q8I2QRD8ti+Oozp27IjRo0ejuLgYO3fu9MiDrFsTb0xMDPr37w+FQoG6deu689R+ISYmBuPHj6+w7c8//8ShQ4ckioiIAlXjxo2xfv16nxuyKbUpU6ZgypQpOHPmDJKSkjzSQdatibdDhw74+uuv3XlKv9K2bdtKv5+VK1cy8fqAwYMHIy4uDlFRUVKH4rLw8HA8/PDDNd4oLl68iF9//dVLUZGvUSqVDs+jHMgEQYBGo4EgCLBarRVeG9aWT08ZSeQts2fPRr9+/aQOo1bq16+P5cuX17jf8uXLmXgD2Ouvv44HH3wQGo3Gr3osu1vz5s1x4sQJAMBX677CnNfnuO3cTLwSa926NaZOnQqr1YLtP25GmsRTmQUarVYLpVIZUM1tKpUKISEhTh9XPlE9yVtMTAxatmwpdRg+T6PR2H9PAwcNZOL1J8nJyUhOTobNbMZrJiP++cUKqUMKKEuXLsWAAQNQr149qUPxmrFjx1bqVOOIcePG8bWITAUFBdkng9FoNBJHIz8qlQrh4eEAykYP1HZRE7ck3tDQUGg0GofWRaRqCALC69RBZGQkbDYbCgoKOCzEC6KiogJmrGK5kJAQp2u8oijyhi1jzz//PF588UUAsCcQclynTp2QmpoKABgxYgSOHj1aq/O5JfEuW7YMgwcP5sv6WhCUSjw3701MmvUqrl+/juTkZBQVFUkdlt8KDw+HVqv1+pSQchYREVHlIuVA2eIhubm5fFj0UaGhobVa1jLQaTQaxMXFQRRFt+Q5tyTe8PBwhwf5U9UEQYAuNBS60FBYLBbOYORhH3zwAcaOHevSu85AtXbt2mp7TBcUFKBr164V5pkmafXs2ROjR48GAPTu3VviaPzH1KlTMWbMGNhsNnzwwQfIzs52+hx8x+uDwsLC8K9//QsmQym+WrUKvx47LnVIfken03GsuRMEQahxNi/2kPUtnTt3xj/+8Q+pw/ArgiDgkUceAQCYzWZ8+eWXTLz+IiQkBE8//TQgivg95TQTrxvVq1cP4eHhPjMlpL9QKBRo2rRppX4eJpMJV65ckSiqwNSoUSNoNBq2QnqYIAho3LgxTCYTCgoKnGrtYeL1ZWxudrs33ngDkyZN8ugau4EoLCwMe/furbT97NmzuPPOO7k8ppeoVCr88MMPaNOmDVsgPEypVOKHH36AKIpYvHgxXnrpJYePdfnu8/8efAB3jRwFCAI6d+7s6mmIvEqtVrNDlQcIglDl75U9ob1Po9GwjHtB+cxWAJx+kHc58fa6+x48OGECOwGRLDz22GMYPXo0HxK9LD4+Ht988429t/Pp06cxZ477JiIgkiPX29skWq800DRr1gzJyckoKSnBqVOnpA5Httq3b4+xY8dKHUbACQ8Px5gxY+zfy3kubCJ34YsuHzdz5kzMnDkTv//+O7p06cIp+4iokqSkJISFhUGlUkGn00kdDtWAidfHsVWB/ElSUhJ27dqFgwcPYubMmVKH4zcWL16MHj16SB0GOYiJVybCwsJwzz33wGaz4fDhw8jNzZU6JCKn1a1bF/3794der5c6FL9Q/mAu8NWfrDDxykSzZs2wefNmAMCgQYOwY8cOiSMicp0gCFAoFBBFkdNMuqh9+/b44osvAABt2rSROBpyhtMDvcqXUOPTFRG5qnfv3jh69CjefvttqUORrdDQUHTt2hV33nknJ4SRGadqvDExMfjxxx+h0+nQsGFDT8VERH4uPDwcnTp1wrlz56QOhajWEhMT8fDDDzu8v1OJV6VSoU2bNny6Ill58skn0aFDB6nDoCo0a9YMTz75JFJTU7F//36pwyFyyZAhQzBkyBCH93c48ep0OnZT9xFarRY6nQ5WqxVGo1HqcHze559/LnUIVI1u3bqhW7duWLZsGROvAwRBQHBwMICy+wDJk8OJ99y5c1AqlUy+PmD58uUwGAzYuXMnJk6cKHU4ROQlzZs3x/bt26FSqTgdp4w5nHgbNWrkyTjICfXq1QMArj5CfqNz586YOXMmfvvtN+zcuVPqcHyWSqVCfHy8WxZjJ/c5cuQItm/fDgCYNWtWjftzOBERSe7OO+/EnXfeifnz5zPxVmHYsGFITk5GdHQ0Vx3yQb/++itmz54NgImXiMgv3HPPPXjuueekDoPchIlXxoKDg9G4cWOIoojsrCwYTSapQyIiCjhhYWFo3Lixw/uzzULG+vXrh7Nnz+LsmTN4/vnpUodDRBSQHn744bJ78dmzDu3PGq+M3dzLvF17jlMlIpLCnj17sGbNGgBlo05qwhovERFRLZw9exYrVqzAihUrHNqfiZeIiMiL2NRMRERUC7GxsejWrZvD+7PG6ycGDRqEbdu24fvvv0dUVJTU4RARBYz7778fBw8exMGDBx3a3+Ea781rZnJJQN9Tv3591K9fH8XFxQgKCpI6HCKigOFsTnS4xtunTx+MHTsWpaWlTgdFnvfTTz+hT58+GDJkCHJycqQOh4iIquFwjXf//v1o0KABbDabJ+MhF2VnZ3N1FyIiGeA7XvJ73377LVJTU6UOg4gIABMvBYD7778fP/zwg9RhkAPatm2Lhx56SOowiDyKw4mIyGcMHz4cw4cPlzoMIqecOXPG3qP5ySefrHF/1nj9hEqlgk6n4+LYRERetmPHDkyaNAmTJk1yaH8mXj8xevRonDt3Dt+t/xbhYWFSh0NERNVg4vUTKpUKISEh6JDUCSGhoVKH43NKS0uRl5cHo9EodShEFOCYeP3E999/j8TERHTu3BlZWVlSh+Nz3n33XSQmJuKbb76ROhQiCnDsXOUnjEYjJ864Db1eD71ezwlgSFbi4uIAwL78J/kHJl4KKPn5+bhy5QqioqJ4M/NBhYWFKCgoQKNGjaQOxSeUjz/XarUSR0LuxKZmCihz5sxB69atsXnzZqlDoSp88cUXaN26tdRh+Izw8HCEh4dztIKfYY2XAorJZILJZILVapU6FKqC2WxGSUmJ1GEQOWXgwIH4/PPPHd7fqcSbn5+PSZMmQaVS4amnnkLfvn2dDpDIFyxcuBCbNm3C3//+d3Tq1EnqcIhIxtq2bYu2bds6vL9TTc2lpaX45ptvsHbtWly6dMnp4Mhz+vXrh3//+99YtWoVIiMjpQ7H5+3fvx9r165FRkaG1KEQUYBxuak57Y/zOPTbb4AgoFWrVqhbt64bwyJnNWnSBE2aNEFxcTFmzJghdThERFQNlztXzXvzn0ju3h3Jyclcjo6IiMhB7NVMRETkRW7p1Xzs2DGoVCpERUWha9eu7jglkdeIoggAEARB4kiIKBC4pcY7Z84c3HPPPXjllVfccTqqBaVSicGDB2PEiBFShyILL730Erp3747jx49LHQoRBQiO4/UzwcHBWLFihdRhyMb58+cBAEVFRRJHQkSBgu94iQBkZWXBZDLBZrNJHUpAstlsMBgMyMzk8C7yf0y8RACmTp2KpKQknDlzRupQAtK3336Ljh07YtmyZVKHQuRxbGr2M6IowmAwwGazISQkROpwZCMnJwe5ubkwGAxShxKQCgoKcOHCBanD8Dl6vR4AoNFooFarJY6GqmM2m2EymQDAofsuE6+fKSkpwV133YVr167h8uXLUocjK6IoYt26ddi3bx8AQKVS4dFHH0WdOnUkjsx/paamYuvWrfj111+lDsUntWnTBgAwb948TJw4UdpgqFpr1qzBnDlzAMCh+y4Tr58RRREZGRnIzMyUOhRZWrBggf3/tVothg8fzsTrQcePH8eLL74odRg+68qVKwDY+c/XFRUV2f+tHOHWxJuWloa5c+dCEARMmTLFvogzERERlXFr4r106RLeeOMNKBQKjB49momXZM1sNmP+/PmIjY3FSy+9hLCwMKlDIiI/4LGm5qysrApVb4VCgbi4OCiVSk9dksitrFYrlixZgvDwcDz11FNMvCSZGzdu4MqVK1Cr1YiNjeUsazLnkcRrs9kwevRoKBT/G60UHh6OEydOIDY21hOXpP8SBAGNGzeGRqOROhQicpM333wT77zzDhITE/Hbb7+xh7PMeazGe+uwDJVKZZ8TlzxHp9Nh165d/F2TT0pNTcW7775r/z4tLU3CaOTDZDLBZDKhtLRU6lDIDbzWq9lmsyE1NRW5ubmIrlsXMQ0asLnEAwRBgFarlToMoipdu3YNX3zxhdRhyFZmZiYmTpwIQRDQokULvP7667yPSsRqtWLWrFnIyMhAamqqU8cKooNVI3f845a/3505cSLmLlkCBZtLyAtqW3ZDQkKwceNGxMbGonXr1lCpOAqvJkajEefOnavU8nL06FFMnjy5xuPZYlPmdmW3e/fuOHDgABOvRMxmM5KSknD27NkK2x0pu169g1itVgBAUYmef1gkG3q9HoMHD0ZsbCzOnj2LunXrSh2Sz7t69Sp69uxZ6ZUT/+5JzkRRxNmzZ1FcXAyr1epy078kj+6rt27D2ZEjoVAo8NJLL2Hw4MFShEHkMFEUYbPZmDgcVP774qIT5G8mT56MgwcPAnD9QVKSxJt74wa2b98OAHjggQekCIHIaSaTCfv370doaCiAso5sXbt2rdB7P9CZTCYcOnQI6enpTLpeUn7zZ5Oz59ycYEVRrPUDOF9WETnoxo0bGDlypP37xMREnDp1ion3Jnl5eRg+fDgKCwulDsXvnT59Gn379gUALFmyBO3bt5c4Iv91+vRpPPPMM/b/ry0mXiIiGSoqKrIv6MEHHc8qLCy0/67dgYmXiGrNZDLh559/RlZWFsxms9ThBJw9e/bg2rVrEAQBAwcORHh4uNQhyV5hYSF27NgBURSdHi5UE68OJ6rKU089hX79+iEiIgJ3330331OQ23mqTJU3NXMWobJm+MTERGRnZ7vlfOzEVsbZsqtSqXDy5Em0bdvWQxEFjjNnziApKQkWi8Wp43xuOFFVli5diqVLl6JLly4YMmQIEy/JhiiKMBqNEEURarU6oMquKIowm832m0z574GkZzKZYDQaoVAo+FDoArPZDJvNZl/Y3hMkT7xEcnXp0iUkJSWhffv2+O677wIq8VosFowYMQIXL14EUDYzXV5ensRRkcViwahRo6BWq/Hoo4/ijTfekDok2XnrrbewatUqmM1mp2u7jvKZxJudnY2PP/64ws2rWbNmFXqRUs1MJhNWrVqF4uJiPP/881KH49fMZjPS0tICdkKNK1eucK5lH1S+KlxOTo7EkchTTk6Ox8u1zyTe9PR0vPjiixW2jRo1ionXSSaTCXPmzEFmZiYTL1XJZDKhpKSkVucob44jkqsTJ07Y55O42fHjxz1+bZ9JvFUxmUzIycmBIAioW7cu1/IlcoP169fjhRdeqNU5RFFk0zLJ2sGDBzFjxgxJru3TiXfHjh1ITEyEWq3G/v370bx5c6lDIpI9g8Hgtt7HRHIiiiJyc3NhsVhQVFQkWRw+nXjNZjPy8vKgVqvtCywQ+RqTyYSMjAwEBQWhXr16PtfJymAwVHjfl5+fL2E0RNKx2WwYOXIkzpw549FeyzXx6cRbzmq1Yt68eZU6sYwaNQpDhgyRJigfkJKSgk8//bTCNrPZjIKCAokiCkxnzpxBmzZt0LNnT/z0009Sh1PJ/v37MXr0aPv3nuqpSSQHxcXFks/0JYvEa7PZsGbNmkrb4+PjAzrx/vXXX1i0aJHUYQQ8m80GvV7v8hJhnmaxWKDX66UOg7zsyOHDOHHiBEJCQhAZGYmoqCipQ5KEKIpIT0+HwWBAUWEhiouLpQ5JHomXSA7Onz+Pxx57zP59t27d8Nxzz0kaz//93//h6tWrksVA0vnt0CF069YNAPDGG29g1qxZEkcknccff9w+17IvTGkq68S7du1aHDt2DLGxsViwYAFnaSFJZWdnY/Xq1fbvDQaDpIn3+vXrFeKhwFOeZAK9j4zZbPaJhFtO1on31KlTOHXqFJo1a4b58+cz8RIRVWHt2rU4evQoAOCZZ57B3XffLXFEnpGRkYHp06dXetA4c+aMRBFVTdaJt5zBYMBvv/1WIfGGh4ejXbt2PtfD1FV6vR6///57hflwz507J2FEVJN9+/Zh2LBhGDJkSK3HzToiPT0dzz77rL3zFHsvU7lz587Z7xdDhw6VOBrP0ev12LRpk0/VbqviF4k3MzMT/fv3r7Ctd+/e2Lt3rzQBecAff/yB3r17c7YgGbl27Rq2bt2K+vXre+V6er0e27Zt8/mbDknrwoUL2LNnD0JCQnDHHXf4ReXk4sWLSE9PR3p6uiwW6/CLxEvk68pvBp64ycnhRkO+4/3338f777+P9u3b48SJE34xI+CiRYvwwQcfSB2Gw/w28ebl5WHLli3Vfp6QkCCLNSt///13XLlyBZcuXeINVqY2bdqEnj174sEHH/TI/NnZ2dl48MEHkZ+fzzG65BSbzea2h0FBENz6YCmKot/e8wTRwZ/MH5ojbvb888/jww8/lDqMGk2ePBmff/65S8f6a6F1lq+U3RdffBELFixw+3mvXLmC1q1b13rhA1/CslvGk2VXq9W6rfLRunVrrFq1CgqFwi3nA4AjR47gqaeecmjf9PR0n5kG1ZGy67c13prYbDaH3oUplUq3FiZHiKJor7nwBuQ/bi1ztS1b5eWEtVxyhcFgwLFjx9xyLk/cp27k57otPl8TsDXeiIgIxMbG1rjfsmXL0KdPHy9E9D85OTkYOnQoiouLcfXqVZengGTSLuMrZTcyMhIxMTH272fOnFlhwg1n5eXlYejQocjNzUVaWppf/Xv7089SG75SdmvSpEkTvPHGG5XiHTFihFMzZuXm5uLHH38EAKxbuwY/bf/ZrXF6A2u8t5Gfn+/QcAspptqzWCw4f/685POJknvl5eVVWEqvtsvqWa1WXLhwgcOGSHJ//fUXnnjiiQrbBEHA0aNHnUq8ly9fxhNPPOH3D14Bm3gdtXHjRpw/f97h/UNDQ/Hoo486PZmHaLPh8N49OPj7KRQVFUm6cgZ5x969eys0NQ8bNgwtWrSodn+LxYLVq1fbH8iKi4thMBg8HieRq0pKSlBUVARBEKDT6ap8tWKz2VBSUgJRFP2qn8LtBGxTs6fEx8fj3LlzCAkJceo40WLBWy88h9cWfVrzzo6e08+fGh0ll7L77bffYty4cdV+bjAY0LZtW1y6dMmLUUmDZbeMXMpuderVqwe1Wo2goCDs3r0bjRs3rrTP5cuX0b9/fxiNRpjNZly/fl2CSN2HTc1ERCSZ8iQaFBRUbSdAi8WCzMxMGI1Gb4YmKYdrvERERFR73h0n42HlvepycnKq/Lx9+/aVppb0xDmIXLFixQr7JASCIECr1aJVq1aYNm0asrKybnvsxIkTERoaWu3noaGhmDhxopsjJvqf2pTf8vtu+ZdOp0Pbtm3x6quv+mUnUzY1E/mYefPmISEhAQaDAfv27cOSJUuwZcsWpKSkQKfTSR0e0W3VpvwuWbIEoaGhKC4uxvbt2/HWW29h586d2L9/v+zfd9+MiZfIxwwdOhRdu3YFUDZzWVRUFBYsWICNGzdiwoQJEkdHdHu1Kb/33XcfoqOjAQBPP/00xo0bhw0bNuDgwYPo0aOHx2P3Fr9qanbW5cuXubQe+bwBAwYAgL0388WLF3Hx4kUpQyJyWG3K763H+ouArvE+9thj2LNnD4cukE8rv0mVT0QwcOBAAMCff/4pVUhEDqtN+b31WH8R0ImXyBcVFBQgJycHBoMB+/fvx7x58xAcHIwRI0ZIHRpRjWpTfstncyt/x7t48WLExsZ6fdpeTwvoxLt7926pQyCqZNCgQRW+b9KkCdasWYOGDRsCYE2XfFttym9iYmKF79u1a4eVK1f6XafCgEu87ugZ50+968j3LFq0CK1atYJKpUJsbCwSExPdskIWyy15Q23K7/r16xEeHg61Wo34+Hg0b97cw9FKw68Sr1arBQCUlpZW+XlJSYl9H0+eg6g2unXrZu8V6iitVguj0QhRFCslWFEUYTAYWG7JK1wpv+X69u1r79Xsz/yqV3OTJk0AAKmpqZU+KykpwZUrV+z7ePIcRN7WpEkTWCyWKnuL/vHHH7BarSy3RD7CrxLvwIEDodFosGTJEthstgqfLVu2DBaLBUOHDrVvq2o4kbPnIPK2qoZjlJfJhQsXVtp/0aJFFfYhkhKHw/lZU3NMTAzmzJmDV199FX379sWoUaOg0+lw4MABrFu3DkOGDMHIkSPt+1c1nMjZcxB5W1XDMTp16oTJkyfjo48+woULFzB48GAAwM8//4wtW7Zg8uTJSEpKkiJcogo4HM7PEi8AzJ49G02bNsXChQsxb948WCwWJCQkYO7cuZgxY4ZDL/ndcQ4ib1u6dCk6dOiAL774AjNnzgRQ1kv0448/xtSpUyWOjojKcXUiIiIiL2LVjYiIyIuYeImIiLyIiZeIiMiLmHiJiIi8iImXiIjIi5h4iYiIvMjhxCsIQkB+bdu2zf472LRpk+TxOPNFZaT+d/DG1+LFi5GamgqNRlNl2QXKJqCXOk6WXedI/e8gx6/Vq1fbf38HDhzwybLrdxNoOEMQBMTGxt52QoygoCD7/2u1WjRo0AClpaXIz8/3RogU4OrVqwe1Wl3jfiEhIVCpVGjQoAHMZjOAimUX+F/5rYrNZkNWVpZ9FreIiAgEBwff9polJSW4ceOGAz8FkefVqVMHISEhFcqtRqNBw4YN7eXaYDDY1/yVksMTaPjjU2idOnVw4sSJ266GodVqoVKVPZ9YLBYYDAZ88803mDRpkrfCdBnnRikj57K7a9cuh1Z6CQoKglKpRElJiX3bzWUX+F/5rUpWVhY6d+6MoqIiAMBnn32GBx988LbXXLNmDZ5++mlHfgynseyWkXPZ9bb3338fU6ZMQVBQkP1h1Wq1Vlhp7ocffsDDDz/s0TgcKbsBWeMNDw9HTEwMwsPDER4ejtDQUIeOU6lUCA0NRb169dCiRQsUFBTg+vXrHo6WAkVcXFylshgREeFw+QRw233Ly29VSktL0bx5cxQXFwMoq2nXdN3yvwObzYaM9HQYTSaH4yRyt6CgoEplVqlUVtjmK0tjBmSNd8qUKfj4448BwP5OzBlWqxUWiwXLli3D9OnTPRGiW7DWUEYuZXfdunUYM2ZMhW1qtdorc4OLogjTTYlTpVJBqVTe9pjyvwOzyYRpT0zEyvUb3BoPyafs+oKFCxfWOCf5X3/9hd27d9u/NxgMeOWVV9z6yiTgaryNGzdGUFAQLly4AABoGBeLqJjYavdzlVKphFKpRGxsLDp27FjtfkajERcuXKi0vCBRVdRqda3KZW0IguD0tcv/DjQqFVo2buyhyIjcp0mTJnj88cft3xcVFWHevHle76vgVzXeVatWoXXr1ujWrRtEUcT3//4aI8aMq7SfIAhuqUXYbLbbPt3oC29g5PCh2Pvr4VpfyxWsNZTxlbIbHByMRYsWISIiosrPu3XrVm3nJ18miiLOp6Tg7MWLuHHjBqZOnVrhXbOr5yTfKbtSaNWqFcLCwgAAZ8+erbZMNWzYEHFxcZgxYwbuv/9+p66h1+tx33334erVq0hJSYHVaq113AFX41UoFBUSanhUvRqby2p7vdsJrxuJmIZNAEiTeMm3qNVqDB06FHFxcVKH4laCICCxQwckduiAa9euVejQReSqxYsX46677oLNZkO3bt1w/PjxKvd75plnMHPmTJceUnQ6HTZv3ozc3Fy0bt3aaz2eZfcXotPpsHz58iprDe3bt0dISAi2b98OURSlX/hbEPDaa69hypQpmD17Ng4fZgIOFD169MDcuXMrbFOpVNXWdv1FREQEvv/+e1gsFnzwwQfYunWr1CGRTDnaMlmbFkypxo7Lrqk5PDwcqampsqs1DB06tNKEBp7G5royUpTdUaNGYePGjV6/ri+ZPHkyPv/8c5eOZdkt4yv3XVf169cPr732GiZOnIj09PQa92/RogU+++wzCIKAjh07IiIiAqIo4tixY/Ye97dKSEhA41r2MTCbzTh06BCuXr2KRx99tNphd47wq6ZmjUaDtWvXolGjRoiMjJQ6HKctWLAAr732GoCyf5gnn3wS58+flzgqcrfk5GRERkbijjvukDoUIo9y5KGgXr166NOnD3Q6nUPnDA0NRd++fSvUYAVB8Pjfk1qtRq9evZCeng6VSgVBEDz68CebxKtQKNClSxckJCRIHYpL2rRpY/9/m82G8PBwKBQKiDYb+GzvP9555x30799f6jCIPOqll17ChAkTatxPbq9WYmJisGfPHvz555948MEH7bPAuZtsEq8/EQQBa9asQUlJCf6/xZ9g0WdfSB0S1UJERAQGDx4MoOwPl8jfNWrUyKEZ1QBUGB/u6zQaDbp06YKwsDCPNvMz8UpAEAS0atUKAHBnr74AE6+sJSQkYN26dV6Z6IJICm3atKnQ3Nu6dWsJo/G8sLAwPPTQQ7h+/To2b97s9vP7fOKNjYrA3UOHQRcaZh/T5U9atmyJSZMm4fTp0zh48KDU4ZAT+vbti5YtW6JJkyay7wTjCX369AEA5OXl4bvvvpM4GqqNe+65BwsWLJA6DK+Ji4vD8uXLcfLkSWzdutXtkyD5fOLt2bsPlq9YAYXS50N1Sc+ePdGzZ0989NFHTLwy88QTT2DixIlSh+GzHn/8cTz++OM4efIkNm7cyBncZEilUiEoKKjWM6rpdDrodDqUlpZW2WlJEATodLoaV8TyFz6bzZo2bYqxY8ciKakjFB6cBMNXdOnSBS+99BIOHjyIAwcOSB0OVUOpVCIkJAQAHFquj8p+Z+Hh4bDZbNDr9W6ZHYi847777sP8+fOdWqjjVmq1Glu3bkVRURH69++PzMzMSvskJCTgP//5D3Q6XUC0Hvls4k1MTMT7778vdRhe06dPH/Tp0wf/93//x8Trw8bfPQzvLlkElUaNOnXqSB2OLCQmJuLs2bMAgPHjx+OXX36ROCJylE6nQ3x8fK3OIQgC4uLiEBYWVu1MgiqVCg0bNoRGo6nVteTCZxJv+aw+5U87devWlTYgov8SBAFRUVFQKBTo2LotGjSoDwWnRXSYWq22T3gTExODmJgYGI1GFBQUSByZfxEEAU899RTWr1+P69evQ61W4/nnn8fx48exY8cOqcODWq3Gyy+/jMLCwkqfRUVFeXR6X1fFxcVh7ty5EEURK1asQFpamlvO6zN3j3bt2mHnzp32nqGc75V8RWhoKPbv34+YmBgEaTQQfPAGIRcrVqyAxWLB9u3b8cADD0gdjl8RBAGTJ0/Gnj17cP36dWg0Gjz//PNYuXKlTyTe8njkJDY2Fq+++ioAYM+ePfJPvBERERV6KTds2BB169YN+CEZderUQePGjZGfn4+ioiKpwyGU3dDCw8PZCuMG5e8Ky9+TE8lFbGwsGjdujGvXrtV6bLJkWW7WrFk4e/as/Wv9+vUB8VK9Js888wzOnj2LJ554QupQAl6vXr3w6aef4sMPP0R4eLjU4RCRhL744gucPXsWnTp1qvW5vF7jjY6ORlRUFGJiYhyevzOQqNVqqNVqNGjQAImJiTCbzW5r3iDntG7dGk899ZTUYRCRDwgKCoIoim5plfV64p06dSpmz54d8E3KNfnb3/6Gl156CRcuXEDnzp1lNe0aEXleixYtMHfuXHtLoSAISEhIwPz581FYWAiVSoXIyEjce++9aNasGdatW4dNmzbVeF5BEPDPf/4TTZo0QbNmzTz9Y8jO3Llzcf36dcycORNXrlxx6RxeT7xKpZLjHx2gVCr5uyKiakVHR2PChAmVXtENHz68wvft2rVDu3btcOLECYcT7z333OOWJlV/IwgChgwZAqvVin/961++n3jvvfdeTJo0CYmJid66JJFLOnToAJ1Ox6d9D6pbty6Sk5MBADk5Obh48aLEEclH06ZN8dFHHyEqKsrlc7zwwgsYOHBglZ+V15zJc7yWeJs1a4YRI0Z463JELlEoFFi1ahU6duwodSh+rWfPnvj1118BAF9++SWn3nRCWFgYhg8fXqtxr0lJSbwfu8gd6/R6NPGqVCosX74c8fHxaNSokScvReRW7GHvWTf/fvm7dkxwcDCSk5PRokULl35nzZs3x4ABAwAA9evXd3d4AUEURUydOhWnT5+uVadXjyZeQRCQnJyMli1bevIyRER+r2HDhti2bZvLCxZMmTIFU6ZMcXNUgef48eO1XtCGXYuJ/kuhUEChULAG5mWCINh/90S+zh1llSWdCEBycjKOHj2KI0eOsIXGy4YPH46jR49i3759qFevntThEN3WihUrcPjw4VrdJzzW1Dx8+HBER0f75eL13hQWFoYJEyYgJycHmzdvljocvxUaGsrhExKJjIxEZGQkiouLERISghs3bkgdElGVBEFAy5YtYbVaodVqXT6PRxKvQqHAW2+9haSkJE+cPqDExcVhxYoVOHnyJLZu3crFxMlv6XQ67NixAxaLRepQfIpOp8N9992Hhg0bsjneRwiCgDFjxuCOO+7Ahg0bqlxx6Xa4BJBMREVF4ZlnnsHVq1exYcMGqcPxG0FBQVAqlbV6eiX3UCgUHDtdhbp162LRokW1Woye3EuhUGDu3LkwGo3Yt28fE6+/io+Px8KFC3HgwAEmXjdaunQpBgwYwMRLPik8PJyv63yYIAgIDQ1FWFgYiouLHR7jy8QrM/Hx8Zg5cyZu5OZi9ZrVKNKXSB2SrEVHR3OMuY8wmUxYunQpioqKMGvWLKnD8QmpqalQKBRcUMZHqdVqbN++HYWFhejduzeuXbvm0HGC6GCKdmaIhUKhwLFjx/iO14MsZjN69uqFw4cPV7uPO2ZY8Qe3K7s//vhjpbltSRrFxcVITExEZmYmyy7JirNll2/qZUqpUtVqyjgiIpIGm5op4HRJ6oRHHn8MCoUCbdu2lToc+i+NRoN58+ahuLhY6lCIPMrtibdhw4bQ6XTQaDTuPjXdomHDhmjWrBnS09O5Xq8Tnn1uGp588knOUOVjNBoNJk2aJHUYRB7n9sS7Zs0aJCcnM/F6wdq1a2GxWJCcnIyUlBSpw5ENlUrFpEtEknF74lWr1Rya4QWCIECj0UCpVDKJEBHJiFsSb6tWrfDWW29BEAQudE8+Sa1Wo23btlAoFIiMjJQ6HCIKYG5JvJGRkRg3bhxrXuSz6tWrh7179yI0NJTllIjcwmw2Y+rUqbhy5Qry8vIcPo69mmVOoVDg008/RX5+PqZMmYLMzEypQ/JZXHqOiNzJZrNh165d+OOPP5w6jolX5gRBQM+ePWE0Gjm7DZGf2blzJ4KCgpCcnAyVirdrXyGKIg4dOoQbN26gpMT52QP5L+kn1Go1vvrqK+Tl5eGhhx5CTk6O1CERUS0NHDgQDRo0QGpqKhdJ8CE2mw3/7//9P5w6dcql45l4/YRCocAdd9yB4uJiDuUiIvJhfOFFRETkRUy8REREXsSmZj+jUqnw4IMPIj8/X+pQiMgNSkpK8OWXXyImJgZjxozh4ih+wC3LAnbv3h0HDhzg+EjySYIgsIMKydLN99QWLVogJSUFQUFBEkZEQFnnqrfffhuXL1/GV199hcLCQvtnjqTUWtV4o6Oj8fDDDyMhIaE2pyEiIpINhUKB2bNnw2g0YufOnRUSryNqlXjr16+P999/n00fPkQURRQUFMBms3FqRCIiH8TOVX6mpKQEffv25ZzZREQ+ip2r/IwoisjNzeUEGjeJi4tDTEwM+yCQLCkUCtSrVw/16tWTOhT6L5vNhk8++QQZGRnIzc11+niXEq9KpUJcXBzi4uJcOZzIq1JTUyEIAqfUJFmKjY3F0aNHERYWxslxfIQoivj888+9O3NV48aNceTIEWi1Wk46Tz4vPDxc6hCIXCYIAsLCwtgj3484lXhVKhWaNm2KhIQEhISE8OnLh1gsFrz22mvIyMjAjRs3pA6HiNzg888/h06n4xAiP+PUON4GDRogJSUFoaGhUKlUfGfmQ4xGI9q3b19heSoH/2n93sMPP4zIyEjMnz8fWq1W6nCoGgaDAX//+9+Rl5eHNWvWSB0OUbWsVis6d+5cZVOzI/ddp9uJ1Wo11Go1ky7Jxtq1a7FhwwZYLBapQ6HbsFgs2LBhA9auXSt1KEQ1at26NZKSklxq+eULWiIiIicoFAp89dVX+PXXX9G4cWOnj+dwIiIikoXt27fj/fffv+0+//jHPzBw4ECPxiEIAgRBcLlzMRMvERHJQkZGBrZv337bfR599FEvRVP26nXVqlUoLS116jgmXiIiH/XTTz9Bq9WiV69eUKkC83YtiiIOHjyIwsJCpKSk1Lj/qVOn8NNPP6Fz586IiYnxWEy//vorioqKXDre6V7NXOHFN7FXc/VYdn2bKIoQRRHFxcVo06YNMjMzWXb/i2W3bJaorl274vjx404d9/3332P06NEeiam2vZoD8xGKiHzG5s2bMWfOHNhsNly/fl3qcHyS1Wqt1Cu//B0jR5h4jiiKsFqtlbbbbLZanZeJ108oFAqMHDkS6enp+PHHH51+5xAIzGYzTCYTVCoVZ1zzIXl5eU7XZgJJdnY2evbsWanMduzYEatXr5YoqsBw/vx5jB8/vlKiFUWxQuuis5h4/YRarcaCBQtQXFyMxMREJt5bZGdnIzk5GQqFAm+//TbGjBkjdUhEDrFYLDhz5kyl7YHa9OxNBoMBKSkpta7h3oqJlwKCxWLBhQsXAMDpRavJc0RR5MQmVCVRFLFx40ZkZma6tNratm3bkJmZWWl7y5YtMWjQoCqPKS4uxldffQWz2QygrBe1J/obMPH6CVEUodfrUVRUxI4p5PMuXbqEjRs3wmazYc2XX0odDvmo999/H/v27XPp2E8//bTK7Q8++GC1iffGjRt44YUXoNfrXbqmo5h4/YTZbMaQIUOQlpbGDirk886cOYMXX3xR6jAoAJ09exbvvPMOOnXqhHvuuQcAUFJSgs8++wxZWVn22q4nMfH6CVEUcf36dWRlZUkdChGRWzzxxBMYMGAAli1bhmvXrrnlnCdPnsTJkyfx1FNPVUi88+bNQ15enluuUROHE29cXBxiYmLYdZ2IiDxOEAQ8+eSTsNls2LRpk9sSb7mSkhJcvXoVAJCfn+/2DlS343DiPXfuHBQKBXQ6nSfjIfK4Hf/5D/r37w+FQoHo6GgEBwdLHRKRw9RqNWJiYjw2K1Og+Oqrr7Bx40YAsE/g4i0OJ946dep4Mg5ykc1mw9tvv40rV67w3a6D1qxdi/UbNgAA1q9fb29uIpKDVq1a4cCBA1Cr1VKHImtms9kr73Orwne8MieKIr7++usqpy6jqtlsNpSUlAAALl++jPPnz0On0yE+Pl7iyPxfeno6SkpKkJGRIXUosqVQKBASEgKlUil1KOQihxPvI488goiICMyfPx9ardaTMRF5zdSpUyEIAgYMGIBt27ZJHY7fmzx5Mnbu3Mkhb+QwQRDw5ptvIi8vD3v37sVnn30mdUi15vC8eWvWrMGGDRs42J38isVigdlsZrn2Ev6+yVmCIGDYsGF45JFH0KNHD6nDcQs2NcuUKIo4e/YsCgsLOT0kEQWE6Oho3HnnnZW2X758WVZDKZl4ZWzy5Mk4ePAgm+2IKCCMGDECw4cPr7T9b3/7Gz744AMJInINE69MFBcX4+jRoxWSbEFBAZOumxw7dgwDBw6EQqHAp59+iubNm0sdkt+4ePEinn76adhsNq5C5AZpaWkYPHgw2rVrh48//lh2cysUFRXh8ccfR0FBQY37CoKATz75BG3atLF/f/PPu2rVKqxYscI+D7tcMPHKxMWLFzFgwACvDvIOJPn5+di5cycUCgWKi4vtDzRyu6n5kvLfYXFxMXbu3Mmy6yZ6vR67du2S7Ssmi8WCX375xeGFD263qMmlS5ewc+dOd4XmNU4lXqPRiG3btiEqKgr9+vXjmqbkd2w2Gx599FHodDqMGjUKs2bNkjok2Xr77bfxww8/oKSkhEnXA/Lz87F582ZER0eje/fuUofjMfv37692joLU1FQvR+MeTiXe3Nxc3H///WjRogVSUlIQFBTkqbiIJFM+Jrp9+/YSRyJvaWlp+O2336QOw2+lpqZi5MiRGDhwIP7zn/9IHY7HvPzyy1KH4HZsavYxVqu1ytoBh1/Ix9WrV7F7924AZZMdDB06FDqdDps3b7ZP3JGUlIS2bdtKGKVnlJaWYvPmzTCbzUhLS5M6HCKfxMTrY5YuXYqPP/640naj0cjmOpk4efIkHnroIQBl8+qmpKSgYcOGmDZtGtLT0wGUNcP6Y+ItKCjApEmTbvtejijQMfH6iPJ5Q69duybb9xb+5ty5c9Uupn07Z86csf+/zWbDV199hbp163p1EnZvEm02HDvwKw6nnEJRURFMJpPUIRH5NCZeH7Fq1SrMnTvXoS725B379+/H/v37a3UOq9WK119/3U0R+SbRZsOPX3+DNxZWbqkhospcSrw2mw0FBQUIDg5GaGgoh1zUgslkQklJCbKzs3H58mWpwyFyWHnZNRmNOHrmtNThEMmGS4n3r7/+Qvv27dG2bVvs2LGDq2TUwnfffYfp06fbO90QyUV52RVFEXl5eVKHQyQbLiVeq9WK69ev84/NDQwGA7Kzs6UOg8gh5UnWbDYjKyuLZZfIBbV6x3v16lX8/e9/tzc1C4KAadOmoWnTpu6IzW+JoogPP/wQ6enpFTriEPk6URQxZswYnDx5UrJFxInkrlaJNycnp9LE1GPHjmXirYEoili9ejWOHTsmdShETtPr9RwuJCG1Wo0GDRrYKzxxcXESR+QchUKBxo0bIzg4GOnp6QE537zbezW/8847iImJqbR9yJAhGD9+vLsvJyuiKGL+/Pk4f/48/vrrL6nDIS9TKBRo0qQJlEolIiMjpQ7HKampqZg/fz4AsOxKLDExEb/++qu9b43cpu4NDw/H/v37cfXqVSQlJaGoqEjqkLzO7Yl306ZNVW6vU6dOwCdeoOz3s2/fPqnDIAmEhIRg9+7diIuLk12HxKtXr+Lzzz+XOgxC2Su94OBgyctQdnY2XnnlFZjNZjRt2hRz58516CFAEARotVpotVovROmbvDaO9/r16zhx4gTi4uJk1zRSG3/++Sdu3Lhh/16v10sXDElKEARoNBpoNBqpQ7mtzMxM/O1vf6swTWl1k9RT4CoqKsLatWthNBrRuXNnzJ07V+qQZMNriXf16tVYs2YN5s6di1dffdVbl5WYiBkzZuDbb7+1b+G0j+TriouL8e2337LzFFXJZDIhJSUFly9fdul+ZrFYcOrUKWRlZcFqtXogQt/ntcQriiJEUcTly5dx4MAB+/YWLVpU+U5YjkwmE06cOGGvKRQXFuLUieNMtuTz8vLyMGXKFJSUlECv13NRDqpWbm4u7rrrLhQVFbnUMaqoqAh33303cnJyArJjFSDBlJGfffYZPvvsM/v3y5cvx8SJE70dhkfk5eVh8ODB7PFJsmMymfDzzz+z7MqAXq/H3r17UbduXXTq1MlrMwdevnwZly5dQm5uLsxmc4WkWVxcbI8pKSmpxpjKK2KBSvK5mk+fPo2ff/4Z4eHh6NatGwRBgCiKOHLkSIV3o7fTpk0bxMfHezbQKqSnp+Ps2bP27/Pz81lTIJ9ns9lw4MABlJaW2rex7MpHWloaBgwYgO7du1doPfS01atXY/bs2VV+duHCBdx1113o3bs39u7d67WY5EryxPvee+/hvffeQ5cuXXD48GH7k9ILL7zgcKFavHgxnnnmGU+GWaVNmzbh2Wef9fp1iWrDZDLh8ccf53q5Mldea7y55igIgttqwLee25Ea6s3HcA7/6kmeeMuJogir1epS80P5seUUCoVH/tFFUazwvjaQm0rIeWazGVu2bEFERATatWuHVq1aefyaoijil19+QW5uboU42Lte/lJSUnDnnXfav1coFFizZo3bytXWrVvx2muv2b+/du1ajcecPHkSd955J3r06IGFCxe6JQ5/JIgOZg9PP71otVq0bNnS/v3FixcdXjigYcOGFSYk+OSTT9CvXz+3x7hnzx4899xz9u/z8vKQkZHh9uu4Cx8Myvjik/fbb7+NV155xePXEUURffv2ld3YcZbdMs6UXYVCgWPHjiEpKckt1169ejUeffRRl44dMmQIfvrppyo/y8/PR6tWrZCTk1Ob8HyWI2XXZ2q8BoMBp06dcunYjIyMCgkwLy8PRqPR/r1CoYBarXY5NpvNBrPZjLy8PJdjJLqZ1WqF0WiEIAhQq9W1ejiwWCy3HZbBXvWBQRRFbNq0Cb///jtGjx6N8PBwl85z+fJl7Nq1q1bvjzMzM7Fy5Uo0adIE/fv3B1BWTr///ntkZ2fDYDC4fG5/4DM1XneKi4tDSEiI/fsBAwZg2bJlLp/v4MGDeOSRR6DX6x1qbvEVrDWU8cWyGxkZiYiICDRu3Bhbt25FUFCQy+d66623sHz58mo/z8jIkN2NjmW3jCtlV61W4/Tp0xVaEJ2xceNG3HvvvS4de6tx48bZ5zHQ6/Vo06YNrly54pZz+ypZ1Xjd6dbk2KpVKxQVFUGtVjs1TVlpaSksFgvy8vJw8eJFd4dJASwvLw95eXmwWq0oKiqCyWRCcHAwVKrb/0maTKYKrTlA2XSOLJ90M71e79AcyDeXOYvFgtLSUrc+pFksFvu9l/7HL2u8t9JqtYiMjMTYsWPxySefOHzcxIkT8fPPP8NkMsnyfQRrDWV8uewqlUrExsYCAJYtW4bhw4ffdv+VK1di1qxZFbYVFBT4XWcplt0yrpbd2NhYh+Zy/uyzzzBs2DAAwL59+/DAAw/AYDC4ba318nvvgw8+iHnz5rHG+19+WeO9lcFgQGZmptOFKS8vD5mZmR6KiqjsXW95GXOkpqHX61kmqUZZWVkO7XdzmTMajW4vW+X33vz8fLeeV+4crvESERFR7clrIUciIiKZY+IlIiLyIiZeIiIiL2LiJSIi8iImXiIiIi9i4iUiIvIiJl4iIiIvYuIlIiLyIiZeIiIiL/r/ASM5/hud/ft3AAAAAElFTkSuQmCC\n"
          },
          "metadata": {}
        }
      ],
      "source": [
        "for i, (image, label) in enumerate(test_dataset.take(9)):\n",
        "\n",
        "  ax = plt.subplot(3,3,i+1)\n",
        "  plt.imshow(image[0])\n",
        "  plt.title(str(parasite_or_not(label.numpy()[0])) + \":\" + str(parasite_or_not(lenet_model.predict(image)[0][0])))\n",
        "\n",
        "  plt.axis('off')"
      ]
    },
    {
      "cell_type": "code",
      "execution_count": 25,
      "id": "q2KGfcfYgZiv",
      "metadata": {
        "id": "q2KGfcfYgZiv",
        "colab": {
          "base_uri": "https://localhost:8080/"
        },
        "outputId": "4c9dcfbc-2f4c-45b7-9ad8-ef8ca79c2b2b"
      },
      "outputs": [
        {
          "output_type": "stream",
          "name": "stderr",
          "text": [
            "WARNING:absl:You are saving your model as an HDF5 file via `model.save()` or `keras.saving.save_model(model)`. This file format is considered legacy. We recommend using instead the native Keras format, e.g. `model.save('my_model.keras')` or `keras.saving.save_model(model, 'my_model.keras')`. \n",
            "WARNING:absl:You are saving your model as an HDF5 file via `model.save()` or `keras.saving.save_model(model)`. This file format is considered legacy. We recommend using instead the native Keras format, e.g. `model.save('my_model.keras')` or `keras.saving.save_model(model, 'my_model.keras')`. \n"
          ]
        },
        {
          "output_type": "stream",
          "name": "stdout",
          "text": [
            "Mounted at /content/drive/\n"
          ]
        }
      ],
      "source": [
        "### ---->> MODEL SAVING THEIR CONFIGURATION AND WEIGHTS\n",
        "lenet_model.save(\"malaria_model.h5\")\n",
        "from google.colab import drive\n",
        "drive.mount('/content/drive/')\n",
        "lenet_model.save(\"/content/googleCOLAB/malariaDATASET_MODEL/malaria_model.h5\")"
      ]
    }
  ],
  "metadata": {
    "colab": {
      "provenance": [],
      "gpuType": "T4",
      "include_colab_link": true
    },
    "kernelspec": {
      "display_name": "Python 3",
      "name": "python3"
    },
    "language_info": {
      "codemirror_mode": {
        "name": "ipython",
        "version": 3
      },
      "file_extension": ".py",
      "mimetype": "text/x-python",
      "name": "python",
      "nbconvert_exporter": "python",
      "pygments_lexer": "ipython3",
      "version": "3.12.11"
    },
    "widgets": {
      "application/vnd.jupyter.widget-state+json": {
        "59c5a6eac1a940208dc8d9e15c5954be": {
          "model_module": "@jupyter-widgets/controls",
          "model_name": "HBoxModel",
          "model_module_version": "1.5.0",
          "state": {
            "_dom_classes": [],
            "_model_module": "@jupyter-widgets/controls",
            "_model_module_version": "1.5.0",
            "_model_name": "HBoxModel",
            "_view_count": null,
            "_view_module": "@jupyter-widgets/controls",
            "_view_module_version": "1.5.0",
            "_view_name": "HBoxView",
            "box_style": "",
            "children": [
              "IPY_MODEL_d05fa189bf5f4aa0a1e2f176b0713b96",
              "IPY_MODEL_caf1ef0af52f42cda38c592e2ddb30e3",
              "IPY_MODEL_b893762a71c04236a03b74fa6b5fef6f"
            ],
            "layout": "IPY_MODEL_80b91d561d864aafb4c65142022fc75d"
          }
        },
        "d05fa189bf5f4aa0a1e2f176b0713b96": {
          "model_module": "@jupyter-widgets/controls",
          "model_name": "HTMLModel",
          "model_module_version": "1.5.0",
          "state": {
            "_dom_classes": [],
            "_model_module": "@jupyter-widgets/controls",
            "_model_module_version": "1.5.0",
            "_model_name": "HTMLModel",
            "_view_count": null,
            "_view_module": "@jupyter-widgets/controls",
            "_view_module_version": "1.5.0",
            "_view_name": "HTMLView",
            "description": "",
            "description_tooltip": null,
            "layout": "IPY_MODEL_e31c72f7470144939ba67fbd2ff23593",
            "placeholder": "​",
            "style": "IPY_MODEL_9a61e5b60e8a407bb6cdeda9f3d9c791",
            "value": "Dl Completed...: 100%"
          }
        },
        "caf1ef0af52f42cda38c592e2ddb30e3": {
          "model_module": "@jupyter-widgets/controls",
          "model_name": "FloatProgressModel",
          "model_module_version": "1.5.0",
          "state": {
            "_dom_classes": [],
            "_model_module": "@jupyter-widgets/controls",
            "_model_module_version": "1.5.0",
            "_model_name": "FloatProgressModel",
            "_view_count": null,
            "_view_module": "@jupyter-widgets/controls",
            "_view_module_version": "1.5.0",
            "_view_name": "ProgressView",
            "bar_style": "success",
            "description": "",
            "description_tooltip": null,
            "layout": "IPY_MODEL_87446e901a754f3d8e61fe17686c109f",
            "max": 1,
            "min": 0,
            "orientation": "horizontal",
            "style": "IPY_MODEL_225a3001837447f9b50e1724034d456a",
            "value": 1
          }
        },
        "b893762a71c04236a03b74fa6b5fef6f": {
          "model_module": "@jupyter-widgets/controls",
          "model_name": "HTMLModel",
          "model_module_version": "1.5.0",
          "state": {
            "_dom_classes": [],
            "_model_module": "@jupyter-widgets/controls",
            "_model_module_version": "1.5.0",
            "_model_name": "HTMLModel",
            "_view_count": null,
            "_view_module": "@jupyter-widgets/controls",
            "_view_module_version": "1.5.0",
            "_view_name": "HTMLView",
            "description": "",
            "description_tooltip": null,
            "layout": "IPY_MODEL_217cced1d456486b9bf4cd4297ef8e68",
            "placeholder": "​",
            "style": "IPY_MODEL_a8a7bc3a782142f984e70d1198d824a4",
            "value": " 1/1 [01:18&lt;00:00,  5.27s/ url]"
          }
        },
        "80b91d561d864aafb4c65142022fc75d": {
          "model_module": "@jupyter-widgets/base",
          "model_name": "LayoutModel",
          "model_module_version": "1.2.0",
          "state": {
            "_model_module": "@jupyter-widgets/base",
            "_model_module_version": "1.2.0",
            "_model_name": "LayoutModel",
            "_view_count": null,
            "_view_module": "@jupyter-widgets/base",
            "_view_module_version": "1.2.0",
            "_view_name": "LayoutView",
            "align_content": null,
            "align_items": null,
            "align_self": null,
            "border": null,
            "bottom": null,
            "display": null,
            "flex": null,
            "flex_flow": null,
            "grid_area": null,
            "grid_auto_columns": null,
            "grid_auto_flow": null,
            "grid_auto_rows": null,
            "grid_column": null,
            "grid_gap": null,
            "grid_row": null,
            "grid_template_areas": null,
            "grid_template_columns": null,
            "grid_template_rows": null,
            "height": null,
            "justify_content": null,
            "justify_items": null,
            "left": null,
            "margin": null,
            "max_height": null,
            "max_width": null,
            "min_height": null,
            "min_width": null,
            "object_fit": null,
            "object_position": null,
            "order": null,
            "overflow": null,
            "overflow_x": null,
            "overflow_y": null,
            "padding": null,
            "right": null,
            "top": null,
            "visibility": null,
            "width": null
          }
        },
        "e31c72f7470144939ba67fbd2ff23593": {
          "model_module": "@jupyter-widgets/base",
          "model_name": "LayoutModel",
          "model_module_version": "1.2.0",
          "state": {
            "_model_module": "@jupyter-widgets/base",
            "_model_module_version": "1.2.0",
            "_model_name": "LayoutModel",
            "_view_count": null,
            "_view_module": "@jupyter-widgets/base",
            "_view_module_version": "1.2.0",
            "_view_name": "LayoutView",
            "align_content": null,
            "align_items": null,
            "align_self": null,
            "border": null,
            "bottom": null,
            "display": null,
            "flex": null,
            "flex_flow": null,
            "grid_area": null,
            "grid_auto_columns": null,
            "grid_auto_flow": null,
            "grid_auto_rows": null,
            "grid_column": null,
            "grid_gap": null,
            "grid_row": null,
            "grid_template_areas": null,
            "grid_template_columns": null,
            "grid_template_rows": null,
            "height": null,
            "justify_content": null,
            "justify_items": null,
            "left": null,
            "margin": null,
            "max_height": null,
            "max_width": null,
            "min_height": null,
            "min_width": null,
            "object_fit": null,
            "object_position": null,
            "order": null,
            "overflow": null,
            "overflow_x": null,
            "overflow_y": null,
            "padding": null,
            "right": null,
            "top": null,
            "visibility": null,
            "width": null
          }
        },
        "9a61e5b60e8a407bb6cdeda9f3d9c791": {
          "model_module": "@jupyter-widgets/controls",
          "model_name": "DescriptionStyleModel",
          "model_module_version": "1.5.0",
          "state": {
            "_model_module": "@jupyter-widgets/controls",
            "_model_module_version": "1.5.0",
            "_model_name": "DescriptionStyleModel",
            "_view_count": null,
            "_view_module": "@jupyter-widgets/base",
            "_view_module_version": "1.2.0",
            "_view_name": "StyleView",
            "description_width": ""
          }
        },
        "87446e901a754f3d8e61fe17686c109f": {
          "model_module": "@jupyter-widgets/base",
          "model_name": "LayoutModel",
          "model_module_version": "1.2.0",
          "state": {
            "_model_module": "@jupyter-widgets/base",
            "_model_module_version": "1.2.0",
            "_model_name": "LayoutModel",
            "_view_count": null,
            "_view_module": "@jupyter-widgets/base",
            "_view_module_version": "1.2.0",
            "_view_name": "LayoutView",
            "align_content": null,
            "align_items": null,
            "align_self": null,
            "border": null,
            "bottom": null,
            "display": null,
            "flex": null,
            "flex_flow": null,
            "grid_area": null,
            "grid_auto_columns": null,
            "grid_auto_flow": null,
            "grid_auto_rows": null,
            "grid_column": null,
            "grid_gap": null,
            "grid_row": null,
            "grid_template_areas": null,
            "grid_template_columns": null,
            "grid_template_rows": null,
            "height": null,
            "justify_content": null,
            "justify_items": null,
            "left": null,
            "margin": null,
            "max_height": null,
            "max_width": null,
            "min_height": null,
            "min_width": null,
            "object_fit": null,
            "object_position": null,
            "order": null,
            "overflow": null,
            "overflow_x": null,
            "overflow_y": null,
            "padding": null,
            "right": null,
            "top": null,
            "visibility": null,
            "width": "20px"
          }
        },
        "225a3001837447f9b50e1724034d456a": {
          "model_module": "@jupyter-widgets/controls",
          "model_name": "ProgressStyleModel",
          "model_module_version": "1.5.0",
          "state": {
            "_model_module": "@jupyter-widgets/controls",
            "_model_module_version": "1.5.0",
            "_model_name": "ProgressStyleModel",
            "_view_count": null,
            "_view_module": "@jupyter-widgets/base",
            "_view_module_version": "1.2.0",
            "_view_name": "StyleView",
            "bar_color": null,
            "description_width": ""
          }
        },
        "217cced1d456486b9bf4cd4297ef8e68": {
          "model_module": "@jupyter-widgets/base",
          "model_name": "LayoutModel",
          "model_module_version": "1.2.0",
          "state": {
            "_model_module": "@jupyter-widgets/base",
            "_model_module_version": "1.2.0",
            "_model_name": "LayoutModel",
            "_view_count": null,
            "_view_module": "@jupyter-widgets/base",
            "_view_module_version": "1.2.0",
            "_view_name": "LayoutView",
            "align_content": null,
            "align_items": null,
            "align_self": null,
            "border": null,
            "bottom": null,
            "display": null,
            "flex": null,
            "flex_flow": null,
            "grid_area": null,
            "grid_auto_columns": null,
            "grid_auto_flow": null,
            "grid_auto_rows": null,
            "grid_column": null,
            "grid_gap": null,
            "grid_row": null,
            "grid_template_areas": null,
            "grid_template_columns": null,
            "grid_template_rows": null,
            "height": null,
            "justify_content": null,
            "justify_items": null,
            "left": null,
            "margin": null,
            "max_height": null,
            "max_width": null,
            "min_height": null,
            "min_width": null,
            "object_fit": null,
            "object_position": null,
            "order": null,
            "overflow": null,
            "overflow_x": null,
            "overflow_y": null,
            "padding": null,
            "right": null,
            "top": null,
            "visibility": null,
            "width": null
          }
        },
        "a8a7bc3a782142f984e70d1198d824a4": {
          "model_module": "@jupyter-widgets/controls",
          "model_name": "DescriptionStyleModel",
          "model_module_version": "1.5.0",
          "state": {
            "_model_module": "@jupyter-widgets/controls",
            "_model_module_version": "1.5.0",
            "_model_name": "DescriptionStyleModel",
            "_view_count": null,
            "_view_module": "@jupyter-widgets/base",
            "_view_module_version": "1.2.0",
            "_view_name": "StyleView",
            "description_width": ""
          }
        },
        "914fdfab25054110bcc82ea80d8c8fb3": {
          "model_module": "@jupyter-widgets/controls",
          "model_name": "HBoxModel",
          "model_module_version": "1.5.0",
          "state": {
            "_dom_classes": [],
            "_model_module": "@jupyter-widgets/controls",
            "_model_module_version": "1.5.0",
            "_model_name": "HBoxModel",
            "_view_count": null,
            "_view_module": "@jupyter-widgets/controls",
            "_view_module_version": "1.5.0",
            "_view_name": "HBoxView",
            "box_style": "",
            "children": [
              "IPY_MODEL_8e9cea595dca420686007e9b5f321ce7",
              "IPY_MODEL_b78339cbd49f4334b70f53a8c5fa7739",
              "IPY_MODEL_664d6cf4efbe42019e4ce33dade4b018"
            ],
            "layout": "IPY_MODEL_8e60ce6103954b5abe1968b1172bdbc0"
          }
        },
        "8e9cea595dca420686007e9b5f321ce7": {
          "model_module": "@jupyter-widgets/controls",
          "model_name": "HTMLModel",
          "model_module_version": "1.5.0",
          "state": {
            "_dom_classes": [],
            "_model_module": "@jupyter-widgets/controls",
            "_model_module_version": "1.5.0",
            "_model_name": "HTMLModel",
            "_view_count": null,
            "_view_module": "@jupyter-widgets/controls",
            "_view_module_version": "1.5.0",
            "_view_name": "HTMLView",
            "description": "",
            "description_tooltip": null,
            "layout": "IPY_MODEL_cf3327738cc34e58ab8d7d06bca060c5",
            "placeholder": "​",
            "style": "IPY_MODEL_167773f3c78c4b39b3e4c362ae6216e5",
            "value": "Dl Size...: 100%"
          }
        },
        "b78339cbd49f4334b70f53a8c5fa7739": {
          "model_module": "@jupyter-widgets/controls",
          "model_name": "FloatProgressModel",
          "model_module_version": "1.5.0",
          "state": {
            "_dom_classes": [],
            "_model_module": "@jupyter-widgets/controls",
            "_model_module_version": "1.5.0",
            "_model_name": "FloatProgressModel",
            "_view_count": null,
            "_view_module": "@jupyter-widgets/controls",
            "_view_module_version": "1.5.0",
            "_view_name": "ProgressView",
            "bar_style": "success",
            "description": "",
            "description_tooltip": null,
            "layout": "IPY_MODEL_36e5ebbb5ef64e6ca534ca7264b808df",
            "max": 1,
            "min": 0,
            "orientation": "horizontal",
            "style": "IPY_MODEL_0605fda3dda04f1a8fc0ebbb908b053a",
            "value": 1
          }
        },
        "664d6cf4efbe42019e4ce33dade4b018": {
          "model_module": "@jupyter-widgets/controls",
          "model_name": "HTMLModel",
          "model_module_version": "1.5.0",
          "state": {
            "_dom_classes": [],
            "_model_module": "@jupyter-widgets/controls",
            "_model_module_version": "1.5.0",
            "_model_name": "HTMLModel",
            "_view_count": null,
            "_view_module": "@jupyter-widgets/controls",
            "_view_module_version": "1.5.0",
            "_view_name": "HTMLView",
            "description": "",
            "description_tooltip": null,
            "layout": "IPY_MODEL_de082617db1748e5a2f70993b8f87170",
            "placeholder": "​",
            "style": "IPY_MODEL_3af23f4a0f0047a18758a87f281975bd",
            "value": " 337/337 [01:18&lt;00:00, 75.74 MiB/s]"
          }
        },
        "8e60ce6103954b5abe1968b1172bdbc0": {
          "model_module": "@jupyter-widgets/base",
          "model_name": "LayoutModel",
          "model_module_version": "1.2.0",
          "state": {
            "_model_module": "@jupyter-widgets/base",
            "_model_module_version": "1.2.0",
            "_model_name": "LayoutModel",
            "_view_count": null,
            "_view_module": "@jupyter-widgets/base",
            "_view_module_version": "1.2.0",
            "_view_name": "LayoutView",
            "align_content": null,
            "align_items": null,
            "align_self": null,
            "border": null,
            "bottom": null,
            "display": null,
            "flex": null,
            "flex_flow": null,
            "grid_area": null,
            "grid_auto_columns": null,
            "grid_auto_flow": null,
            "grid_auto_rows": null,
            "grid_column": null,
            "grid_gap": null,
            "grid_row": null,
            "grid_template_areas": null,
            "grid_template_columns": null,
            "grid_template_rows": null,
            "height": null,
            "justify_content": null,
            "justify_items": null,
            "left": null,
            "margin": null,
            "max_height": null,
            "max_width": null,
            "min_height": null,
            "min_width": null,
            "object_fit": null,
            "object_position": null,
            "order": null,
            "overflow": null,
            "overflow_x": null,
            "overflow_y": null,
            "padding": null,
            "right": null,
            "top": null,
            "visibility": null,
            "width": null
          }
        },
        "cf3327738cc34e58ab8d7d06bca060c5": {
          "model_module": "@jupyter-widgets/base",
          "model_name": "LayoutModel",
          "model_module_version": "1.2.0",
          "state": {
            "_model_module": "@jupyter-widgets/base",
            "_model_module_version": "1.2.0",
            "_model_name": "LayoutModel",
            "_view_count": null,
            "_view_module": "@jupyter-widgets/base",
            "_view_module_version": "1.2.0",
            "_view_name": "LayoutView",
            "align_content": null,
            "align_items": null,
            "align_self": null,
            "border": null,
            "bottom": null,
            "display": null,
            "flex": null,
            "flex_flow": null,
            "grid_area": null,
            "grid_auto_columns": null,
            "grid_auto_flow": null,
            "grid_auto_rows": null,
            "grid_column": null,
            "grid_gap": null,
            "grid_row": null,
            "grid_template_areas": null,
            "grid_template_columns": null,
            "grid_template_rows": null,
            "height": null,
            "justify_content": null,
            "justify_items": null,
            "left": null,
            "margin": null,
            "max_height": null,
            "max_width": null,
            "min_height": null,
            "min_width": null,
            "object_fit": null,
            "object_position": null,
            "order": null,
            "overflow": null,
            "overflow_x": null,
            "overflow_y": null,
            "padding": null,
            "right": null,
            "top": null,
            "visibility": null,
            "width": null
          }
        },
        "167773f3c78c4b39b3e4c362ae6216e5": {
          "model_module": "@jupyter-widgets/controls",
          "model_name": "DescriptionStyleModel",
          "model_module_version": "1.5.0",
          "state": {
            "_model_module": "@jupyter-widgets/controls",
            "_model_module_version": "1.5.0",
            "_model_name": "DescriptionStyleModel",
            "_view_count": null,
            "_view_module": "@jupyter-widgets/base",
            "_view_module_version": "1.2.0",
            "_view_name": "StyleView",
            "description_width": ""
          }
        },
        "36e5ebbb5ef64e6ca534ca7264b808df": {
          "model_module": "@jupyter-widgets/base",
          "model_name": "LayoutModel",
          "model_module_version": "1.2.0",
          "state": {
            "_model_module": "@jupyter-widgets/base",
            "_model_module_version": "1.2.0",
            "_model_name": "LayoutModel",
            "_view_count": null,
            "_view_module": "@jupyter-widgets/base",
            "_view_module_version": "1.2.0",
            "_view_name": "LayoutView",
            "align_content": null,
            "align_items": null,
            "align_self": null,
            "border": null,
            "bottom": null,
            "display": null,
            "flex": null,
            "flex_flow": null,
            "grid_area": null,
            "grid_auto_columns": null,
            "grid_auto_flow": null,
            "grid_auto_rows": null,
            "grid_column": null,
            "grid_gap": null,
            "grid_row": null,
            "grid_template_areas": null,
            "grid_template_columns": null,
            "grid_template_rows": null,
            "height": null,
            "justify_content": null,
            "justify_items": null,
            "left": null,
            "margin": null,
            "max_height": null,
            "max_width": null,
            "min_height": null,
            "min_width": null,
            "object_fit": null,
            "object_position": null,
            "order": null,
            "overflow": null,
            "overflow_x": null,
            "overflow_y": null,
            "padding": null,
            "right": null,
            "top": null,
            "visibility": null,
            "width": "20px"
          }
        },
        "0605fda3dda04f1a8fc0ebbb908b053a": {
          "model_module": "@jupyter-widgets/controls",
          "model_name": "ProgressStyleModel",
          "model_module_version": "1.5.0",
          "state": {
            "_model_module": "@jupyter-widgets/controls",
            "_model_module_version": "1.5.0",
            "_model_name": "ProgressStyleModel",
            "_view_count": null,
            "_view_module": "@jupyter-widgets/base",
            "_view_module_version": "1.2.0",
            "_view_name": "StyleView",
            "bar_color": null,
            "description_width": ""
          }
        },
        "de082617db1748e5a2f70993b8f87170": {
          "model_module": "@jupyter-widgets/base",
          "model_name": "LayoutModel",
          "model_module_version": "1.2.0",
          "state": {
            "_model_module": "@jupyter-widgets/base",
            "_model_module_version": "1.2.0",
            "_model_name": "LayoutModel",
            "_view_count": null,
            "_view_module": "@jupyter-widgets/base",
            "_view_module_version": "1.2.0",
            "_view_name": "LayoutView",
            "align_content": null,
            "align_items": null,
            "align_self": null,
            "border": null,
            "bottom": null,
            "display": null,
            "flex": null,
            "flex_flow": null,
            "grid_area": null,
            "grid_auto_columns": null,
            "grid_auto_flow": null,
            "grid_auto_rows": null,
            "grid_column": null,
            "grid_gap": null,
            "grid_row": null,
            "grid_template_areas": null,
            "grid_template_columns": null,
            "grid_template_rows": null,
            "height": null,
            "justify_content": null,
            "justify_items": null,
            "left": null,
            "margin": null,
            "max_height": null,
            "max_width": null,
            "min_height": null,
            "min_width": null,
            "object_fit": null,
            "object_position": null,
            "order": null,
            "overflow": null,
            "overflow_x": null,
            "overflow_y": null,
            "padding": null,
            "right": null,
            "top": null,
            "visibility": null,
            "width": null
          }
        },
        "3af23f4a0f0047a18758a87f281975bd": {
          "model_module": "@jupyter-widgets/controls",
          "model_name": "DescriptionStyleModel",
          "model_module_version": "1.5.0",
          "state": {
            "_model_module": "@jupyter-widgets/controls",
            "_model_module_version": "1.5.0",
            "_model_name": "DescriptionStyleModel",
            "_view_count": null,
            "_view_module": "@jupyter-widgets/base",
            "_view_module_version": "1.2.0",
            "_view_name": "StyleView",
            "description_width": ""
          }
        },
        "90b9b516e5d34cdaa5faa81d612cc237": {
          "model_module": "@jupyter-widgets/controls",
          "model_name": "HBoxModel",
          "model_module_version": "1.5.0",
          "state": {
            "_dom_classes": [],
            "_model_module": "@jupyter-widgets/controls",
            "_model_module_version": "1.5.0",
            "_model_name": "HBoxModel",
            "_view_count": null,
            "_view_module": "@jupyter-widgets/controls",
            "_view_module_version": "1.5.0",
            "_view_name": "HBoxView",
            "box_style": "",
            "children": [
              "IPY_MODEL_9ca628178aa843c7943b9369f03f4227",
              "IPY_MODEL_2e461b9837f04e56b0b0a476888378ef",
              "IPY_MODEL_fa2328bdfb284cbea0510fe6324f82d7"
            ],
            "layout": "IPY_MODEL_268426bf51c046fdb8e87a9aa060d7f7"
          }
        },
        "9ca628178aa843c7943b9369f03f4227": {
          "model_module": "@jupyter-widgets/controls",
          "model_name": "HTMLModel",
          "model_module_version": "1.5.0",
          "state": {
            "_dom_classes": [],
            "_model_module": "@jupyter-widgets/controls",
            "_model_module_version": "1.5.0",
            "_model_name": "HTMLModel",
            "_view_count": null,
            "_view_module": "@jupyter-widgets/controls",
            "_view_module_version": "1.5.0",
            "_view_name": "HTMLView",
            "description": "",
            "description_tooltip": null,
            "layout": "IPY_MODEL_ed83741a372a4d0cacf72a328971c791",
            "placeholder": "​",
            "style": "IPY_MODEL_d7b17080a5994fd98ea19ae5cb131c3d",
            "value": "Extraction completed...: 100%"
          }
        },
        "2e461b9837f04e56b0b0a476888378ef": {
          "model_module": "@jupyter-widgets/controls",
          "model_name": "FloatProgressModel",
          "model_module_version": "1.5.0",
          "state": {
            "_dom_classes": [],
            "_model_module": "@jupyter-widgets/controls",
            "_model_module_version": "1.5.0",
            "_model_name": "FloatProgressModel",
            "_view_count": null,
            "_view_module": "@jupyter-widgets/controls",
            "_view_module_version": "1.5.0",
            "_view_name": "ProgressView",
            "bar_style": "success",
            "description": "",
            "description_tooltip": null,
            "layout": "IPY_MODEL_00f57caac9274671a36fb56ebbacde1d",
            "max": 1,
            "min": 0,
            "orientation": "horizontal",
            "style": "IPY_MODEL_cdc340163da04b98bdcd50ce3da4b66a",
            "value": 1
          }
        },
        "fa2328bdfb284cbea0510fe6324f82d7": {
          "model_module": "@jupyter-widgets/controls",
          "model_name": "HTMLModel",
          "model_module_version": "1.5.0",
          "state": {
            "_dom_classes": [],
            "_model_module": "@jupyter-widgets/controls",
            "_model_module_version": "1.5.0",
            "_model_name": "HTMLModel",
            "_view_count": null,
            "_view_module": "@jupyter-widgets/controls",
            "_view_module_version": "1.5.0",
            "_view_name": "HTMLView",
            "description": "",
            "description_tooltip": null,
            "layout": "IPY_MODEL_30f05352ebf940589d42e31d977936d1",
            "placeholder": "​",
            "style": "IPY_MODEL_84047c9b7ae24c4faf67925397de0114",
            "value": " 27560/27560 [01:18&lt;00:00, 1540.52 file/s]"
          }
        },
        "268426bf51c046fdb8e87a9aa060d7f7": {
          "model_module": "@jupyter-widgets/base",
          "model_name": "LayoutModel",
          "model_module_version": "1.2.0",
          "state": {
            "_model_module": "@jupyter-widgets/base",
            "_model_module_version": "1.2.0",
            "_model_name": "LayoutModel",
            "_view_count": null,
            "_view_module": "@jupyter-widgets/base",
            "_view_module_version": "1.2.0",
            "_view_name": "LayoutView",
            "align_content": null,
            "align_items": null,
            "align_self": null,
            "border": null,
            "bottom": null,
            "display": null,
            "flex": null,
            "flex_flow": null,
            "grid_area": null,
            "grid_auto_columns": null,
            "grid_auto_flow": null,
            "grid_auto_rows": null,
            "grid_column": null,
            "grid_gap": null,
            "grid_row": null,
            "grid_template_areas": null,
            "grid_template_columns": null,
            "grid_template_rows": null,
            "height": null,
            "justify_content": null,
            "justify_items": null,
            "left": null,
            "margin": null,
            "max_height": null,
            "max_width": null,
            "min_height": null,
            "min_width": null,
            "object_fit": null,
            "object_position": null,
            "order": null,
            "overflow": null,
            "overflow_x": null,
            "overflow_y": null,
            "padding": null,
            "right": null,
            "top": null,
            "visibility": null,
            "width": null
          }
        },
        "ed83741a372a4d0cacf72a328971c791": {
          "model_module": "@jupyter-widgets/base",
          "model_name": "LayoutModel",
          "model_module_version": "1.2.0",
          "state": {
            "_model_module": "@jupyter-widgets/base",
            "_model_module_version": "1.2.0",
            "_model_name": "LayoutModel",
            "_view_count": null,
            "_view_module": "@jupyter-widgets/base",
            "_view_module_version": "1.2.0",
            "_view_name": "LayoutView",
            "align_content": null,
            "align_items": null,
            "align_self": null,
            "border": null,
            "bottom": null,
            "display": null,
            "flex": null,
            "flex_flow": null,
            "grid_area": null,
            "grid_auto_columns": null,
            "grid_auto_flow": null,
            "grid_auto_rows": null,
            "grid_column": null,
            "grid_gap": null,
            "grid_row": null,
            "grid_template_areas": null,
            "grid_template_columns": null,
            "grid_template_rows": null,
            "height": null,
            "justify_content": null,
            "justify_items": null,
            "left": null,
            "margin": null,
            "max_height": null,
            "max_width": null,
            "min_height": null,
            "min_width": null,
            "object_fit": null,
            "object_position": null,
            "order": null,
            "overflow": null,
            "overflow_x": null,
            "overflow_y": null,
            "padding": null,
            "right": null,
            "top": null,
            "visibility": null,
            "width": null
          }
        },
        "d7b17080a5994fd98ea19ae5cb131c3d": {
          "model_module": "@jupyter-widgets/controls",
          "model_name": "DescriptionStyleModel",
          "model_module_version": "1.5.0",
          "state": {
            "_model_module": "@jupyter-widgets/controls",
            "_model_module_version": "1.5.0",
            "_model_name": "DescriptionStyleModel",
            "_view_count": null,
            "_view_module": "@jupyter-widgets/base",
            "_view_module_version": "1.2.0",
            "_view_name": "StyleView",
            "description_width": ""
          }
        },
        "00f57caac9274671a36fb56ebbacde1d": {
          "model_module": "@jupyter-widgets/base",
          "model_name": "LayoutModel",
          "model_module_version": "1.2.0",
          "state": {
            "_model_module": "@jupyter-widgets/base",
            "_model_module_version": "1.2.0",
            "_model_name": "LayoutModel",
            "_view_count": null,
            "_view_module": "@jupyter-widgets/base",
            "_view_module_version": "1.2.0",
            "_view_name": "LayoutView",
            "align_content": null,
            "align_items": null,
            "align_self": null,
            "border": null,
            "bottom": null,
            "display": null,
            "flex": null,
            "flex_flow": null,
            "grid_area": null,
            "grid_auto_columns": null,
            "grid_auto_flow": null,
            "grid_auto_rows": null,
            "grid_column": null,
            "grid_gap": null,
            "grid_row": null,
            "grid_template_areas": null,
            "grid_template_columns": null,
            "grid_template_rows": null,
            "height": null,
            "justify_content": null,
            "justify_items": null,
            "left": null,
            "margin": null,
            "max_height": null,
            "max_width": null,
            "min_height": null,
            "min_width": null,
            "object_fit": null,
            "object_position": null,
            "order": null,
            "overflow": null,
            "overflow_x": null,
            "overflow_y": null,
            "padding": null,
            "right": null,
            "top": null,
            "visibility": null,
            "width": "20px"
          }
        },
        "cdc340163da04b98bdcd50ce3da4b66a": {
          "model_module": "@jupyter-widgets/controls",
          "model_name": "ProgressStyleModel",
          "model_module_version": "1.5.0",
          "state": {
            "_model_module": "@jupyter-widgets/controls",
            "_model_module_version": "1.5.0",
            "_model_name": "ProgressStyleModel",
            "_view_count": null,
            "_view_module": "@jupyter-widgets/base",
            "_view_module_version": "1.2.0",
            "_view_name": "StyleView",
            "bar_color": null,
            "description_width": ""
          }
        },
        "30f05352ebf940589d42e31d977936d1": {
          "model_module": "@jupyter-widgets/base",
          "model_name": "LayoutModel",
          "model_module_version": "1.2.0",
          "state": {
            "_model_module": "@jupyter-widgets/base",
            "_model_module_version": "1.2.0",
            "_model_name": "LayoutModel",
            "_view_count": null,
            "_view_module": "@jupyter-widgets/base",
            "_view_module_version": "1.2.0",
            "_view_name": "LayoutView",
            "align_content": null,
            "align_items": null,
            "align_self": null,
            "border": null,
            "bottom": null,
            "display": null,
            "flex": null,
            "flex_flow": null,
            "grid_area": null,
            "grid_auto_columns": null,
            "grid_auto_flow": null,
            "grid_auto_rows": null,
            "grid_column": null,
            "grid_gap": null,
            "grid_row": null,
            "grid_template_areas": null,
            "grid_template_columns": null,
            "grid_template_rows": null,
            "height": null,
            "justify_content": null,
            "justify_items": null,
            "left": null,
            "margin": null,
            "max_height": null,
            "max_width": null,
            "min_height": null,
            "min_width": null,
            "object_fit": null,
            "object_position": null,
            "order": null,
            "overflow": null,
            "overflow_x": null,
            "overflow_y": null,
            "padding": null,
            "right": null,
            "top": null,
            "visibility": null,
            "width": null
          }
        },
        "84047c9b7ae24c4faf67925397de0114": {
          "model_module": "@jupyter-widgets/controls",
          "model_name": "DescriptionStyleModel",
          "model_module_version": "1.5.0",
          "state": {
            "_model_module": "@jupyter-widgets/controls",
            "_model_module_version": "1.5.0",
            "_model_name": "DescriptionStyleModel",
            "_view_count": null,
            "_view_module": "@jupyter-widgets/base",
            "_view_module_version": "1.2.0",
            "_view_name": "StyleView",
            "description_width": ""
          }
        },
        "85097f91bed84a13a301c4ab7a56555e": {
          "model_module": "@jupyter-widgets/controls",
          "model_name": "HBoxModel",
          "model_module_version": "1.5.0",
          "state": {
            "_dom_classes": [],
            "_model_module": "@jupyter-widgets/controls",
            "_model_module_version": "1.5.0",
            "_model_name": "HBoxModel",
            "_view_count": null,
            "_view_module": "@jupyter-widgets/controls",
            "_view_module_version": "1.5.0",
            "_view_name": "HBoxView",
            "box_style": "",
            "children": [
              "IPY_MODEL_e8d4be3dfacd40eea8d9b94488255e9c",
              "IPY_MODEL_5ee3b887efa64e16b04c9e7c58059391",
              "IPY_MODEL_5111ed362b8642bc982f5295abcfc0b0"
            ],
            "layout": "IPY_MODEL_b2d8984c206045839df3c675d38d5d9b"
          }
        },
        "e8d4be3dfacd40eea8d9b94488255e9c": {
          "model_module": "@jupyter-widgets/controls",
          "model_name": "HTMLModel",
          "model_module_version": "1.5.0",
          "state": {
            "_dom_classes": [],
            "_model_module": "@jupyter-widgets/controls",
            "_model_module_version": "1.5.0",
            "_model_name": "HTMLModel",
            "_view_count": null,
            "_view_module": "@jupyter-widgets/controls",
            "_view_module_version": "1.5.0",
            "_view_name": "HTMLView",
            "description": "",
            "description_tooltip": null,
            "layout": "IPY_MODEL_7812df33ac4c4e3299f89e1952c4a949",
            "placeholder": "​",
            "style": "IPY_MODEL_f8ea3294e6f34c65a39dfbc7f7a650c0",
            "value": "Generating splits...: 100%"
          }
        },
        "5ee3b887efa64e16b04c9e7c58059391": {
          "model_module": "@jupyter-widgets/controls",
          "model_name": "FloatProgressModel",
          "model_module_version": "1.5.0",
          "state": {
            "_dom_classes": [],
            "_model_module": "@jupyter-widgets/controls",
            "_model_module_version": "1.5.0",
            "_model_name": "FloatProgressModel",
            "_view_count": null,
            "_view_module": "@jupyter-widgets/controls",
            "_view_module_version": "1.5.0",
            "_view_name": "ProgressView",
            "bar_style": "",
            "description": "",
            "description_tooltip": null,
            "layout": "IPY_MODEL_78110134d12d49d383b90e3ee96ec036",
            "max": 1,
            "min": 0,
            "orientation": "horizontal",
            "style": "IPY_MODEL_4f5df91346f24d3698270b9b60005137",
            "value": 1
          }
        },
        "5111ed362b8642bc982f5295abcfc0b0": {
          "model_module": "@jupyter-widgets/controls",
          "model_name": "HTMLModel",
          "model_module_version": "1.5.0",
          "state": {
            "_dom_classes": [],
            "_model_module": "@jupyter-widgets/controls",
            "_model_module_version": "1.5.0",
            "_model_name": "HTMLModel",
            "_view_count": null,
            "_view_module": "@jupyter-widgets/controls",
            "_view_module_version": "1.5.0",
            "_view_name": "HTMLView",
            "description": "",
            "description_tooltip": null,
            "layout": "IPY_MODEL_8340876caa754bf188a65767a3a744fb",
            "placeholder": "​",
            "style": "IPY_MODEL_2a2ee8bcac4544668d93c3065180b324",
            "value": " 1/1 [00:09&lt;00:00,  9.68s/ splits]"
          }
        },
        "b2d8984c206045839df3c675d38d5d9b": {
          "model_module": "@jupyter-widgets/base",
          "model_name": "LayoutModel",
          "model_module_version": "1.2.0",
          "state": {
            "_model_module": "@jupyter-widgets/base",
            "_model_module_version": "1.2.0",
            "_model_name": "LayoutModel",
            "_view_count": null,
            "_view_module": "@jupyter-widgets/base",
            "_view_module_version": "1.2.0",
            "_view_name": "LayoutView",
            "align_content": null,
            "align_items": null,
            "align_self": null,
            "border": null,
            "bottom": null,
            "display": null,
            "flex": null,
            "flex_flow": null,
            "grid_area": null,
            "grid_auto_columns": null,
            "grid_auto_flow": null,
            "grid_auto_rows": null,
            "grid_column": null,
            "grid_gap": null,
            "grid_row": null,
            "grid_template_areas": null,
            "grid_template_columns": null,
            "grid_template_rows": null,
            "height": null,
            "justify_content": null,
            "justify_items": null,
            "left": null,
            "margin": null,
            "max_height": null,
            "max_width": null,
            "min_height": null,
            "min_width": null,
            "object_fit": null,
            "object_position": null,
            "order": null,
            "overflow": null,
            "overflow_x": null,
            "overflow_y": null,
            "padding": null,
            "right": null,
            "top": null,
            "visibility": "hidden",
            "width": null
          }
        },
        "7812df33ac4c4e3299f89e1952c4a949": {
          "model_module": "@jupyter-widgets/base",
          "model_name": "LayoutModel",
          "model_module_version": "1.2.0",
          "state": {
            "_model_module": "@jupyter-widgets/base",
            "_model_module_version": "1.2.0",
            "_model_name": "LayoutModel",
            "_view_count": null,
            "_view_module": "@jupyter-widgets/base",
            "_view_module_version": "1.2.0",
            "_view_name": "LayoutView",
            "align_content": null,
            "align_items": null,
            "align_self": null,
            "border": null,
            "bottom": null,
            "display": null,
            "flex": null,
            "flex_flow": null,
            "grid_area": null,
            "grid_auto_columns": null,
            "grid_auto_flow": null,
            "grid_auto_rows": null,
            "grid_column": null,
            "grid_gap": null,
            "grid_row": null,
            "grid_template_areas": null,
            "grid_template_columns": null,
            "grid_template_rows": null,
            "height": null,
            "justify_content": null,
            "justify_items": null,
            "left": null,
            "margin": null,
            "max_height": null,
            "max_width": null,
            "min_height": null,
            "min_width": null,
            "object_fit": null,
            "object_position": null,
            "order": null,
            "overflow": null,
            "overflow_x": null,
            "overflow_y": null,
            "padding": null,
            "right": null,
            "top": null,
            "visibility": null,
            "width": null
          }
        },
        "f8ea3294e6f34c65a39dfbc7f7a650c0": {
          "model_module": "@jupyter-widgets/controls",
          "model_name": "DescriptionStyleModel",
          "model_module_version": "1.5.0",
          "state": {
            "_model_module": "@jupyter-widgets/controls",
            "_model_module_version": "1.5.0",
            "_model_name": "DescriptionStyleModel",
            "_view_count": null,
            "_view_module": "@jupyter-widgets/base",
            "_view_module_version": "1.2.0",
            "_view_name": "StyleView",
            "description_width": ""
          }
        },
        "78110134d12d49d383b90e3ee96ec036": {
          "model_module": "@jupyter-widgets/base",
          "model_name": "LayoutModel",
          "model_module_version": "1.2.0",
          "state": {
            "_model_module": "@jupyter-widgets/base",
            "_model_module_version": "1.2.0",
            "_model_name": "LayoutModel",
            "_view_count": null,
            "_view_module": "@jupyter-widgets/base",
            "_view_module_version": "1.2.0",
            "_view_name": "LayoutView",
            "align_content": null,
            "align_items": null,
            "align_self": null,
            "border": null,
            "bottom": null,
            "display": null,
            "flex": null,
            "flex_flow": null,
            "grid_area": null,
            "grid_auto_columns": null,
            "grid_auto_flow": null,
            "grid_auto_rows": null,
            "grid_column": null,
            "grid_gap": null,
            "grid_row": null,
            "grid_template_areas": null,
            "grid_template_columns": null,
            "grid_template_rows": null,
            "height": null,
            "justify_content": null,
            "justify_items": null,
            "left": null,
            "margin": null,
            "max_height": null,
            "max_width": null,
            "min_height": null,
            "min_width": null,
            "object_fit": null,
            "object_position": null,
            "order": null,
            "overflow": null,
            "overflow_x": null,
            "overflow_y": null,
            "padding": null,
            "right": null,
            "top": null,
            "visibility": null,
            "width": null
          }
        },
        "4f5df91346f24d3698270b9b60005137": {
          "model_module": "@jupyter-widgets/controls",
          "model_name": "ProgressStyleModel",
          "model_module_version": "1.5.0",
          "state": {
            "_model_module": "@jupyter-widgets/controls",
            "_model_module_version": "1.5.0",
            "_model_name": "ProgressStyleModel",
            "_view_count": null,
            "_view_module": "@jupyter-widgets/base",
            "_view_module_version": "1.2.0",
            "_view_name": "StyleView",
            "bar_color": null,
            "description_width": ""
          }
        },
        "8340876caa754bf188a65767a3a744fb": {
          "model_module": "@jupyter-widgets/base",
          "model_name": "LayoutModel",
          "model_module_version": "1.2.0",
          "state": {
            "_model_module": "@jupyter-widgets/base",
            "_model_module_version": "1.2.0",
            "_model_name": "LayoutModel",
            "_view_count": null,
            "_view_module": "@jupyter-widgets/base",
            "_view_module_version": "1.2.0",
            "_view_name": "LayoutView",
            "align_content": null,
            "align_items": null,
            "align_self": null,
            "border": null,
            "bottom": null,
            "display": null,
            "flex": null,
            "flex_flow": null,
            "grid_area": null,
            "grid_auto_columns": null,
            "grid_auto_flow": null,
            "grid_auto_rows": null,
            "grid_column": null,
            "grid_gap": null,
            "grid_row": null,
            "grid_template_areas": null,
            "grid_template_columns": null,
            "grid_template_rows": null,
            "height": null,
            "justify_content": null,
            "justify_items": null,
            "left": null,
            "margin": null,
            "max_height": null,
            "max_width": null,
            "min_height": null,
            "min_width": null,
            "object_fit": null,
            "object_position": null,
            "order": null,
            "overflow": null,
            "overflow_x": null,
            "overflow_y": null,
            "padding": null,
            "right": null,
            "top": null,
            "visibility": null,
            "width": null
          }
        },
        "2a2ee8bcac4544668d93c3065180b324": {
          "model_module": "@jupyter-widgets/controls",
          "model_name": "DescriptionStyleModel",
          "model_module_version": "1.5.0",
          "state": {
            "_model_module": "@jupyter-widgets/controls",
            "_model_module_version": "1.5.0",
            "_model_name": "DescriptionStyleModel",
            "_view_count": null,
            "_view_module": "@jupyter-widgets/base",
            "_view_module_version": "1.2.0",
            "_view_name": "StyleView",
            "description_width": ""
          }
        },
        "6393f8a17cb3479cbac57c99f2307450": {
          "model_module": "@jupyter-widgets/controls",
          "model_name": "HBoxModel",
          "model_module_version": "1.5.0",
          "state": {
            "_dom_classes": [],
            "_model_module": "@jupyter-widgets/controls",
            "_model_module_version": "1.5.0",
            "_model_name": "HBoxModel",
            "_view_count": null,
            "_view_module": "@jupyter-widgets/controls",
            "_view_module_version": "1.5.0",
            "_view_name": "HBoxView",
            "box_style": "",
            "children": [
              "IPY_MODEL_6a9c6b017e85411db051457ab56ef333",
              "IPY_MODEL_40861bd9cc104bc9a5148ba10157b2e1",
              "IPY_MODEL_a4cd1ffac45842cd96f7048c1f4892a2"
            ],
            "layout": "IPY_MODEL_5ad03ec55eed42b5b7bf7548e8f458b3"
          }
        },
        "6a9c6b017e85411db051457ab56ef333": {
          "model_module": "@jupyter-widgets/controls",
          "model_name": "HTMLModel",
          "model_module_version": "1.5.0",
          "state": {
            "_dom_classes": [],
            "_model_module": "@jupyter-widgets/controls",
            "_model_module_version": "1.5.0",
            "_model_name": "HTMLModel",
            "_view_count": null,
            "_view_module": "@jupyter-widgets/controls",
            "_view_module_version": "1.5.0",
            "_view_name": "HTMLView",
            "description": "",
            "description_tooltip": null,
            "layout": "IPY_MODEL_c8097d3b4af64fcc98863e655a6ab718",
            "placeholder": "​",
            "style": "IPY_MODEL_2305287d29e648f5b7d2009d89ead059",
            "value": "Generating train examples...: "
          }
        },
        "40861bd9cc104bc9a5148ba10157b2e1": {
          "model_module": "@jupyter-widgets/controls",
          "model_name": "FloatProgressModel",
          "model_module_version": "1.5.0",
          "state": {
            "_dom_classes": [],
            "_model_module": "@jupyter-widgets/controls",
            "_model_module_version": "1.5.0",
            "_model_name": "FloatProgressModel",
            "_view_count": null,
            "_view_module": "@jupyter-widgets/controls",
            "_view_module_version": "1.5.0",
            "_view_name": "ProgressView",
            "bar_style": "info",
            "description": "",
            "description_tooltip": null,
            "layout": "IPY_MODEL_eee165db92ca48e08286e6452eb2e0d8",
            "max": 1,
            "min": 0,
            "orientation": "horizontal",
            "style": "IPY_MODEL_54744e060e4542ac8c96ed29d1ec0a99",
            "value": 1
          }
        },
        "a4cd1ffac45842cd96f7048c1f4892a2": {
          "model_module": "@jupyter-widgets/controls",
          "model_name": "HTMLModel",
          "model_module_version": "1.5.0",
          "state": {
            "_dom_classes": [],
            "_model_module": "@jupyter-widgets/controls",
            "_model_module_version": "1.5.0",
            "_model_name": "HTMLModel",
            "_view_count": null,
            "_view_module": "@jupyter-widgets/controls",
            "_view_module_version": "1.5.0",
            "_view_name": "HTMLView",
            "description": "",
            "description_tooltip": null,
            "layout": "IPY_MODEL_b031f65aea6142e5bc0c76779e05caba",
            "placeholder": "​",
            "style": "IPY_MODEL_a05fd0403ac542c89d7bd6263e0804b6",
            "value": " 26065/? [00:08&lt;00:00, 3051.21 examples/s]"
          }
        },
        "5ad03ec55eed42b5b7bf7548e8f458b3": {
          "model_module": "@jupyter-widgets/base",
          "model_name": "LayoutModel",
          "model_module_version": "1.2.0",
          "state": {
            "_model_module": "@jupyter-widgets/base",
            "_model_module_version": "1.2.0",
            "_model_name": "LayoutModel",
            "_view_count": null,
            "_view_module": "@jupyter-widgets/base",
            "_view_module_version": "1.2.0",
            "_view_name": "LayoutView",
            "align_content": null,
            "align_items": null,
            "align_self": null,
            "border": null,
            "bottom": null,
            "display": null,
            "flex": null,
            "flex_flow": null,
            "grid_area": null,
            "grid_auto_columns": null,
            "grid_auto_flow": null,
            "grid_auto_rows": null,
            "grid_column": null,
            "grid_gap": null,
            "grid_row": null,
            "grid_template_areas": null,
            "grid_template_columns": null,
            "grid_template_rows": null,
            "height": null,
            "justify_content": null,
            "justify_items": null,
            "left": null,
            "margin": null,
            "max_height": null,
            "max_width": null,
            "min_height": null,
            "min_width": null,
            "object_fit": null,
            "object_position": null,
            "order": null,
            "overflow": null,
            "overflow_x": null,
            "overflow_y": null,
            "padding": null,
            "right": null,
            "top": null,
            "visibility": "hidden",
            "width": null
          }
        },
        "c8097d3b4af64fcc98863e655a6ab718": {
          "model_module": "@jupyter-widgets/base",
          "model_name": "LayoutModel",
          "model_module_version": "1.2.0",
          "state": {
            "_model_module": "@jupyter-widgets/base",
            "_model_module_version": "1.2.0",
            "_model_name": "LayoutModel",
            "_view_count": null,
            "_view_module": "@jupyter-widgets/base",
            "_view_module_version": "1.2.0",
            "_view_name": "LayoutView",
            "align_content": null,
            "align_items": null,
            "align_self": null,
            "border": null,
            "bottom": null,
            "display": null,
            "flex": null,
            "flex_flow": null,
            "grid_area": null,
            "grid_auto_columns": null,
            "grid_auto_flow": null,
            "grid_auto_rows": null,
            "grid_column": null,
            "grid_gap": null,
            "grid_row": null,
            "grid_template_areas": null,
            "grid_template_columns": null,
            "grid_template_rows": null,
            "height": null,
            "justify_content": null,
            "justify_items": null,
            "left": null,
            "margin": null,
            "max_height": null,
            "max_width": null,
            "min_height": null,
            "min_width": null,
            "object_fit": null,
            "object_position": null,
            "order": null,
            "overflow": null,
            "overflow_x": null,
            "overflow_y": null,
            "padding": null,
            "right": null,
            "top": null,
            "visibility": null,
            "width": null
          }
        },
        "2305287d29e648f5b7d2009d89ead059": {
          "model_module": "@jupyter-widgets/controls",
          "model_name": "DescriptionStyleModel",
          "model_module_version": "1.5.0",
          "state": {
            "_model_module": "@jupyter-widgets/controls",
            "_model_module_version": "1.5.0",
            "_model_name": "DescriptionStyleModel",
            "_view_count": null,
            "_view_module": "@jupyter-widgets/base",
            "_view_module_version": "1.2.0",
            "_view_name": "StyleView",
            "description_width": ""
          }
        },
        "eee165db92ca48e08286e6452eb2e0d8": {
          "model_module": "@jupyter-widgets/base",
          "model_name": "LayoutModel",
          "model_module_version": "1.2.0",
          "state": {
            "_model_module": "@jupyter-widgets/base",
            "_model_module_version": "1.2.0",
            "_model_name": "LayoutModel",
            "_view_count": null,
            "_view_module": "@jupyter-widgets/base",
            "_view_module_version": "1.2.0",
            "_view_name": "LayoutView",
            "align_content": null,
            "align_items": null,
            "align_self": null,
            "border": null,
            "bottom": null,
            "display": null,
            "flex": null,
            "flex_flow": null,
            "grid_area": null,
            "grid_auto_columns": null,
            "grid_auto_flow": null,
            "grid_auto_rows": null,
            "grid_column": null,
            "grid_gap": null,
            "grid_row": null,
            "grid_template_areas": null,
            "grid_template_columns": null,
            "grid_template_rows": null,
            "height": null,
            "justify_content": null,
            "justify_items": null,
            "left": null,
            "margin": null,
            "max_height": null,
            "max_width": null,
            "min_height": null,
            "min_width": null,
            "object_fit": null,
            "object_position": null,
            "order": null,
            "overflow": null,
            "overflow_x": null,
            "overflow_y": null,
            "padding": null,
            "right": null,
            "top": null,
            "visibility": null,
            "width": "20px"
          }
        },
        "54744e060e4542ac8c96ed29d1ec0a99": {
          "model_module": "@jupyter-widgets/controls",
          "model_name": "ProgressStyleModel",
          "model_module_version": "1.5.0",
          "state": {
            "_model_module": "@jupyter-widgets/controls",
            "_model_module_version": "1.5.0",
            "_model_name": "ProgressStyleModel",
            "_view_count": null,
            "_view_module": "@jupyter-widgets/base",
            "_view_module_version": "1.2.0",
            "_view_name": "StyleView",
            "bar_color": null,
            "description_width": ""
          }
        },
        "b031f65aea6142e5bc0c76779e05caba": {
          "model_module": "@jupyter-widgets/base",
          "model_name": "LayoutModel",
          "model_module_version": "1.2.0",
          "state": {
            "_model_module": "@jupyter-widgets/base",
            "_model_module_version": "1.2.0",
            "_model_name": "LayoutModel",
            "_view_count": null,
            "_view_module": "@jupyter-widgets/base",
            "_view_module_version": "1.2.0",
            "_view_name": "LayoutView",
            "align_content": null,
            "align_items": null,
            "align_self": null,
            "border": null,
            "bottom": null,
            "display": null,
            "flex": null,
            "flex_flow": null,
            "grid_area": null,
            "grid_auto_columns": null,
            "grid_auto_flow": null,
            "grid_auto_rows": null,
            "grid_column": null,
            "grid_gap": null,
            "grid_row": null,
            "grid_template_areas": null,
            "grid_template_columns": null,
            "grid_template_rows": null,
            "height": null,
            "justify_content": null,
            "justify_items": null,
            "left": null,
            "margin": null,
            "max_height": null,
            "max_width": null,
            "min_height": null,
            "min_width": null,
            "object_fit": null,
            "object_position": null,
            "order": null,
            "overflow": null,
            "overflow_x": null,
            "overflow_y": null,
            "padding": null,
            "right": null,
            "top": null,
            "visibility": null,
            "width": null
          }
        },
        "a05fd0403ac542c89d7bd6263e0804b6": {
          "model_module": "@jupyter-widgets/controls",
          "model_name": "DescriptionStyleModel",
          "model_module_version": "1.5.0",
          "state": {
            "_model_module": "@jupyter-widgets/controls",
            "_model_module_version": "1.5.0",
            "_model_name": "DescriptionStyleModel",
            "_view_count": null,
            "_view_module": "@jupyter-widgets/base",
            "_view_module_version": "1.2.0",
            "_view_name": "StyleView",
            "description_width": ""
          }
        },
        "67d648c07a6e47e9ade911ff7edb5049": {
          "model_module": "@jupyter-widgets/controls",
          "model_name": "HBoxModel",
          "model_module_version": "1.5.0",
          "state": {
            "_dom_classes": [],
            "_model_module": "@jupyter-widgets/controls",
            "_model_module_version": "1.5.0",
            "_model_name": "HBoxModel",
            "_view_count": null,
            "_view_module": "@jupyter-widgets/controls",
            "_view_module_version": "1.5.0",
            "_view_name": "HBoxView",
            "box_style": "",
            "children": [
              "IPY_MODEL_77e13a1a4ebe4fbd953b5c3f8a2afc33",
              "IPY_MODEL_b496b4daab944d1ab188ceea16dcbb35",
              "IPY_MODEL_ca67e501070943a98be841819af60fde"
            ],
            "layout": "IPY_MODEL_7b128d30db104655b5533918f4e8811f"
          }
        },
        "77e13a1a4ebe4fbd953b5c3f8a2afc33": {
          "model_module": "@jupyter-widgets/controls",
          "model_name": "HTMLModel",
          "model_module_version": "1.5.0",
          "state": {
            "_dom_classes": [],
            "_model_module": "@jupyter-widgets/controls",
            "_model_module_version": "1.5.0",
            "_model_name": "HTMLModel",
            "_view_count": null,
            "_view_module": "@jupyter-widgets/controls",
            "_view_module_version": "1.5.0",
            "_view_name": "HTMLView",
            "description": "",
            "description_tooltip": null,
            "layout": "IPY_MODEL_4f88af595d3240389a98f58235986c71",
            "placeholder": "​",
            "style": "IPY_MODEL_149fcc9948e545adb73a5b35c5300a56",
            "value": "Shuffling /root/tensorflow_datasets/malaria/incomplete.IZF5VI_1.0.0/malaria-train.tfrecord*...:   0%"
          }
        },
        "b496b4daab944d1ab188ceea16dcbb35": {
          "model_module": "@jupyter-widgets/controls",
          "model_name": "FloatProgressModel",
          "model_module_version": "1.5.0",
          "state": {
            "_dom_classes": [],
            "_model_module": "@jupyter-widgets/controls",
            "_model_module_version": "1.5.0",
            "_model_name": "FloatProgressModel",
            "_view_count": null,
            "_view_module": "@jupyter-widgets/controls",
            "_view_module_version": "1.5.0",
            "_view_name": "ProgressView",
            "bar_style": "",
            "description": "",
            "description_tooltip": null,
            "layout": "IPY_MODEL_7a598df83c7d4da6857c3ed961ea9475",
            "max": 27558,
            "min": 0,
            "orientation": "horizontal",
            "style": "IPY_MODEL_adb25bb2ba2f44f98027dd895100f988",
            "value": 27558
          }
        },
        "ca67e501070943a98be841819af60fde": {
          "model_module": "@jupyter-widgets/controls",
          "model_name": "HTMLModel",
          "model_module_version": "1.5.0",
          "state": {
            "_dom_classes": [],
            "_model_module": "@jupyter-widgets/controls",
            "_model_module_version": "1.5.0",
            "_model_name": "HTMLModel",
            "_view_count": null,
            "_view_module": "@jupyter-widgets/controls",
            "_view_module_version": "1.5.0",
            "_view_name": "HTMLView",
            "description": "",
            "description_tooltip": null,
            "layout": "IPY_MODEL_0b2b2dab4cbe4052a317f300cbb94fe8",
            "placeholder": "​",
            "style": "IPY_MODEL_591202adcb114ddfa540f69ba0a2cab6",
            "value": " 0/27558 [00:00&lt;?, ? examples/s]"
          }
        },
        "7b128d30db104655b5533918f4e8811f": {
          "model_module": "@jupyter-widgets/base",
          "model_name": "LayoutModel",
          "model_module_version": "1.2.0",
          "state": {
            "_model_module": "@jupyter-widgets/base",
            "_model_module_version": "1.2.0",
            "_model_name": "LayoutModel",
            "_view_count": null,
            "_view_module": "@jupyter-widgets/base",
            "_view_module_version": "1.2.0",
            "_view_name": "LayoutView",
            "align_content": null,
            "align_items": null,
            "align_self": null,
            "border": null,
            "bottom": null,
            "display": null,
            "flex": null,
            "flex_flow": null,
            "grid_area": null,
            "grid_auto_columns": null,
            "grid_auto_flow": null,
            "grid_auto_rows": null,
            "grid_column": null,
            "grid_gap": null,
            "grid_row": null,
            "grid_template_areas": null,
            "grid_template_columns": null,
            "grid_template_rows": null,
            "height": null,
            "justify_content": null,
            "justify_items": null,
            "left": null,
            "margin": null,
            "max_height": null,
            "max_width": null,
            "min_height": null,
            "min_width": null,
            "object_fit": null,
            "object_position": null,
            "order": null,
            "overflow": null,
            "overflow_x": null,
            "overflow_y": null,
            "padding": null,
            "right": null,
            "top": null,
            "visibility": "hidden",
            "width": null
          }
        },
        "4f88af595d3240389a98f58235986c71": {
          "model_module": "@jupyter-widgets/base",
          "model_name": "LayoutModel",
          "model_module_version": "1.2.0",
          "state": {
            "_model_module": "@jupyter-widgets/base",
            "_model_module_version": "1.2.0",
            "_model_name": "LayoutModel",
            "_view_count": null,
            "_view_module": "@jupyter-widgets/base",
            "_view_module_version": "1.2.0",
            "_view_name": "LayoutView",
            "align_content": null,
            "align_items": null,
            "align_self": null,
            "border": null,
            "bottom": null,
            "display": null,
            "flex": null,
            "flex_flow": null,
            "grid_area": null,
            "grid_auto_columns": null,
            "grid_auto_flow": null,
            "grid_auto_rows": null,
            "grid_column": null,
            "grid_gap": null,
            "grid_row": null,
            "grid_template_areas": null,
            "grid_template_columns": null,
            "grid_template_rows": null,
            "height": null,
            "justify_content": null,
            "justify_items": null,
            "left": null,
            "margin": null,
            "max_height": null,
            "max_width": null,
            "min_height": null,
            "min_width": null,
            "object_fit": null,
            "object_position": null,
            "order": null,
            "overflow": null,
            "overflow_x": null,
            "overflow_y": null,
            "padding": null,
            "right": null,
            "top": null,
            "visibility": null,
            "width": null
          }
        },
        "149fcc9948e545adb73a5b35c5300a56": {
          "model_module": "@jupyter-widgets/controls",
          "model_name": "DescriptionStyleModel",
          "model_module_version": "1.5.0",
          "state": {
            "_model_module": "@jupyter-widgets/controls",
            "_model_module_version": "1.5.0",
            "_model_name": "DescriptionStyleModel",
            "_view_count": null,
            "_view_module": "@jupyter-widgets/base",
            "_view_module_version": "1.2.0",
            "_view_name": "StyleView",
            "description_width": ""
          }
        },
        "7a598df83c7d4da6857c3ed961ea9475": {
          "model_module": "@jupyter-widgets/base",
          "model_name": "LayoutModel",
          "model_module_version": "1.2.0",
          "state": {
            "_model_module": "@jupyter-widgets/base",
            "_model_module_version": "1.2.0",
            "_model_name": "LayoutModel",
            "_view_count": null,
            "_view_module": "@jupyter-widgets/base",
            "_view_module_version": "1.2.0",
            "_view_name": "LayoutView",
            "align_content": null,
            "align_items": null,
            "align_self": null,
            "border": null,
            "bottom": null,
            "display": null,
            "flex": null,
            "flex_flow": null,
            "grid_area": null,
            "grid_auto_columns": null,
            "grid_auto_flow": null,
            "grid_auto_rows": null,
            "grid_column": null,
            "grid_gap": null,
            "grid_row": null,
            "grid_template_areas": null,
            "grid_template_columns": null,
            "grid_template_rows": null,
            "height": null,
            "justify_content": null,
            "justify_items": null,
            "left": null,
            "margin": null,
            "max_height": null,
            "max_width": null,
            "min_height": null,
            "min_width": null,
            "object_fit": null,
            "object_position": null,
            "order": null,
            "overflow": null,
            "overflow_x": null,
            "overflow_y": null,
            "padding": null,
            "right": null,
            "top": null,
            "visibility": null,
            "width": null
          }
        },
        "adb25bb2ba2f44f98027dd895100f988": {
          "model_module": "@jupyter-widgets/controls",
          "model_name": "ProgressStyleModel",
          "model_module_version": "1.5.0",
          "state": {
            "_model_module": "@jupyter-widgets/controls",
            "_model_module_version": "1.5.0",
            "_model_name": "ProgressStyleModel",
            "_view_count": null,
            "_view_module": "@jupyter-widgets/base",
            "_view_module_version": "1.2.0",
            "_view_name": "StyleView",
            "bar_color": null,
            "description_width": ""
          }
        },
        "0b2b2dab4cbe4052a317f300cbb94fe8": {
          "model_module": "@jupyter-widgets/base",
          "model_name": "LayoutModel",
          "model_module_version": "1.2.0",
          "state": {
            "_model_module": "@jupyter-widgets/base",
            "_model_module_version": "1.2.0",
            "_model_name": "LayoutModel",
            "_view_count": null,
            "_view_module": "@jupyter-widgets/base",
            "_view_module_version": "1.2.0",
            "_view_name": "LayoutView",
            "align_content": null,
            "align_items": null,
            "align_self": null,
            "border": null,
            "bottom": null,
            "display": null,
            "flex": null,
            "flex_flow": null,
            "grid_area": null,
            "grid_auto_columns": null,
            "grid_auto_flow": null,
            "grid_auto_rows": null,
            "grid_column": null,
            "grid_gap": null,
            "grid_row": null,
            "grid_template_areas": null,
            "grid_template_columns": null,
            "grid_template_rows": null,
            "height": null,
            "justify_content": null,
            "justify_items": null,
            "left": null,
            "margin": null,
            "max_height": null,
            "max_width": null,
            "min_height": null,
            "min_width": null,
            "object_fit": null,
            "object_position": null,
            "order": null,
            "overflow": null,
            "overflow_x": null,
            "overflow_y": null,
            "padding": null,
            "right": null,
            "top": null,
            "visibility": null,
            "width": null
          }
        },
        "591202adcb114ddfa540f69ba0a2cab6": {
          "model_module": "@jupyter-widgets/controls",
          "model_name": "DescriptionStyleModel",
          "model_module_version": "1.5.0",
          "state": {
            "_model_module": "@jupyter-widgets/controls",
            "_model_module_version": "1.5.0",
            "_model_name": "DescriptionStyleModel",
            "_view_count": null,
            "_view_module": "@jupyter-widgets/base",
            "_view_module_version": "1.2.0",
            "_view_name": "StyleView",
            "description_width": ""
          }
        }
      }
    },
    "accelerator": "GPU"
  },
  "nbformat": 4,
  "nbformat_minor": 5
}
